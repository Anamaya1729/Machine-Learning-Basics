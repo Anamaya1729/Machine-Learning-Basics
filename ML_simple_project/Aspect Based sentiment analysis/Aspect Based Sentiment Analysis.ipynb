{
 "cells": [
  {
   "cell_type": "code",
   "execution_count": 1,
   "id": "65d0584f",
   "metadata": {
    "execution": {
     "iopub.execute_input": "2021-12-21T05:17:43.940952Z",
     "iopub.status.busy": "2021-12-21T05:17:43.940064Z",
     "iopub.status.idle": "2021-12-21T05:17:45.777893Z",
     "shell.execute_reply": "2021-12-21T05:17:45.776253Z",
     "shell.execute_reply.started": "2021-12-21T05:16:05.833693Z"
    },
    "papermill": {
     "duration": 1.868122,
     "end_time": "2021-12-21T05:17:45.778184",
     "exception": false,
     "start_time": "2021-12-21T05:17:43.910062",
     "status": "completed"
    },
    "tags": []
   },
   "outputs": [],
   "source": [
    "import pandas as pd\n",
    "import matplotlib.pyplot as plt\n",
    "import seaborn as sns\n",
    "import re\n",
    "import string\n",
    "import nltk\n",
    "from sklearn.feature_extraction.text import TfidfVectorizer\n",
    "from sklearn.linear_model import LogisticRegression\n",
    "import joblib\n",
    "import pickle"
   ]
  },
  {
   "cell_type": "code",
   "execution_count": 2,
   "id": "c932a6d4",
   "metadata": {
    "execution": {
     "iopub.execute_input": "2021-12-21T05:17:45.817427Z",
     "iopub.status.busy": "2021-12-21T05:17:45.816148Z",
     "iopub.status.idle": "2021-12-21T05:17:45.889489Z",
     "shell.execute_reply": "2021-12-21T05:17:45.888612Z",
     "shell.execute_reply.started": "2021-12-21T05:16:07.653654Z"
    },
    "papermill": {
     "duration": 0.092659,
     "end_time": "2021-12-21T05:17:45.889715",
     "exception": false,
     "start_time": "2021-12-21T05:17:45.797056",
     "status": "completed"
    },
    "tags": []
   },
   "outputs": [
    {
     "data": {
      "text/html": [
       "<div>\n",
       "<style scoped>\n",
       "    .dataframe tbody tr th:only-of-type {\n",
       "        vertical-align: middle;\n",
       "    }\n",
       "\n",
       "    .dataframe tbody tr th {\n",
       "        vertical-align: top;\n",
       "    }\n",
       "\n",
       "    .dataframe thead th {\n",
       "        text-align: right;\n",
       "    }\n",
       "</style>\n",
       "<table border=\"1\" class=\"dataframe\">\n",
       "  <thead>\n",
       "    <tr style=\"text-align: right;\">\n",
       "      <th></th>\n",
       "      <th>text</th>\n",
       "      <th>aspect</th>\n",
       "      <th>label</th>\n",
       "    </tr>\n",
       "  </thead>\n",
       "  <tbody>\n",
       "    <tr>\n",
       "      <th>0</th>\n",
       "      <td>can you check whether its cancelled completely?</td>\n",
       "      <td>cancelled</td>\n",
       "      <td>1</td>\n",
       "    </tr>\n",
       "    <tr>\n",
       "      <th>1</th>\n",
       "      <td>cannot rely on both milk delivery and grocery ...</td>\n",
       "      <td>Milk</td>\n",
       "      <td>0</td>\n",
       "    </tr>\n",
       "    <tr>\n",
       "      <th>2</th>\n",
       "      <td>I get no notification, however the app is real...</td>\n",
       "      <td>notification</td>\n",
       "      <td>0</td>\n",
       "    </tr>\n",
       "    <tr>\n",
       "      <th>3</th>\n",
       "      <td>Love this app, but would love it even more if ...</td>\n",
       "      <td>view</td>\n",
       "      <td>1</td>\n",
       "    </tr>\n",
       "    <tr>\n",
       "      <th>4</th>\n",
       "      <td>it does not let me load a clip on the scene</td>\n",
       "      <td>load</td>\n",
       "      <td>0</td>\n",
       "    </tr>\n",
       "  </tbody>\n",
       "</table>\n",
       "</div>"
      ],
      "text/plain": [
       "                                                text        aspect  label\n",
       "0    can you check whether its cancelled completely?     cancelled      1\n",
       "1  cannot rely on both milk delivery and grocery ...          Milk      0\n",
       "2  I get no notification, however the app is real...  notification      0\n",
       "3  Love this app, but would love it even more if ...          view      1\n",
       "4        it does not let me load a clip on the scene          load      0"
      ]
     },
     "execution_count": 2,
     "metadata": {},
     "output_type": "execute_result"
    }
   ],
   "source": [
    "df=pd.read_csv('../input/sentimententerpret/train.csv')\n",
    "test=pd.read_csv(\"../input/sentimententerpret/test.csv\")\n",
    "testtxt=test['text']\n",
    "df.head()"
   ]
  },
  {
   "cell_type": "code",
   "execution_count": 3,
   "id": "5660426c",
   "metadata": {
    "execution": {
     "iopub.execute_input": "2021-12-21T05:17:45.931548Z",
     "iopub.status.busy": "2021-12-21T05:17:45.930683Z",
     "iopub.status.idle": "2021-12-21T05:17:45.934434Z",
     "shell.execute_reply": "2021-12-21T05:17:45.935013Z",
     "shell.execute_reply.started": "2021-12-21T05:16:07.741075Z"
    },
    "papermill": {
     "duration": 0.026539,
     "end_time": "2021-12-21T05:17:45.935221",
     "exception": false,
     "start_time": "2021-12-21T05:17:45.908682",
     "status": "completed"
    },
    "tags": []
   },
   "outputs": [
    {
     "data": {
      "text/plain": [
       "(4000, 3)"
      ]
     },
     "execution_count": 3,
     "metadata": {},
     "output_type": "execute_result"
    }
   ],
   "source": [
    "df.shape"
   ]
  },
  {
   "cell_type": "code",
   "execution_count": 4,
   "id": "ac9edf28",
   "metadata": {
    "execution": {
     "iopub.execute_input": "2021-12-21T05:17:45.976847Z",
     "iopub.status.busy": "2021-12-21T05:17:45.976013Z",
     "iopub.status.idle": "2021-12-21T05:17:45.995756Z",
     "shell.execute_reply": "2021-12-21T05:17:45.994961Z",
     "shell.execute_reply.started": "2021-12-21T05:16:07.753138Z"
    },
    "papermill": {
     "duration": 0.045376,
     "end_time": "2021-12-21T05:17:45.996033",
     "exception": false,
     "start_time": "2021-12-21T05:17:45.950657",
     "status": "completed"
    },
    "tags": []
   },
   "outputs": [
    {
     "data": {
      "text/html": [
       "<div>\n",
       "<style scoped>\n",
       "    .dataframe tbody tr th:only-of-type {\n",
       "        vertical-align: middle;\n",
       "    }\n",
       "\n",
       "    .dataframe tbody tr th {\n",
       "        vertical-align: top;\n",
       "    }\n",
       "\n",
       "    .dataframe thead th {\n",
       "        text-align: right;\n",
       "    }\n",
       "</style>\n",
       "<table border=\"1\" class=\"dataframe\">\n",
       "  <thead>\n",
       "    <tr style=\"text-align: right;\">\n",
       "      <th></th>\n",
       "      <th>text</th>\n",
       "      <th>aspect</th>\n",
       "      <th>label</th>\n",
       "    </tr>\n",
       "  </thead>\n",
       "  <tbody>\n",
       "    <tr>\n",
       "      <th>0</th>\n",
       "      <td>can you check whether its cancelled completely?</td>\n",
       "      <td>cancelled</td>\n",
       "      <td>1</td>\n",
       "    </tr>\n",
       "    <tr>\n",
       "      <th>1</th>\n",
       "      <td>cannot rely on both milk delivery and grocery ...</td>\n",
       "      <td>Milk</td>\n",
       "      <td>0</td>\n",
       "    </tr>\n",
       "    <tr>\n",
       "      <th>2</th>\n",
       "      <td>I get no notification, however the app is real...</td>\n",
       "      <td>notification</td>\n",
       "      <td>0</td>\n",
       "    </tr>\n",
       "    <tr>\n",
       "      <th>3</th>\n",
       "      <td>Love this app, but would love it even more if ...</td>\n",
       "      <td>view</td>\n",
       "      <td>1</td>\n",
       "    </tr>\n",
       "    <tr>\n",
       "      <th>4</th>\n",
       "      <td>it does not let me load a clip on the scene</td>\n",
       "      <td>load</td>\n",
       "      <td>0</td>\n",
       "    </tr>\n",
       "    <tr>\n",
       "      <th>...</th>\n",
       "      <td>...</td>\n",
       "      <td>...</td>\n",
       "      <td>...</td>\n",
       "    </tr>\n",
       "    <tr>\n",
       "      <th>3995</th>\n",
       "      <td>every time i try to edit a page or create a li...</td>\n",
       "      <td>tools</td>\n",
       "      <td>0</td>\n",
       "    </tr>\n",
       "    <tr>\n",
       "      <th>3996</th>\n",
       "      <td>unable to load money using wallets (phonepe/ol...</td>\n",
       "      <td>Unable to load money using wallets</td>\n",
       "      <td>0</td>\n",
       "    </tr>\n",
       "    <tr>\n",
       "      <th>3997</th>\n",
       "      <td>hi, i m doing for the first time ever and i no...</td>\n",
       "      <td>usage</td>\n",
       "      <td>0</td>\n",
       "    </tr>\n",
       "    <tr>\n",
       "      <th>3998</th>\n",
       "      <td>delivery is delayed or cancelled every time i ...</td>\n",
       "      <td>Delivery</td>\n",
       "      <td>0</td>\n",
       "    </tr>\n",
       "    <tr>\n",
       "      <th>3999</th>\n",
       "      <td>your customer service is terrible!</td>\n",
       "      <td>customer service</td>\n",
       "      <td>0</td>\n",
       "    </tr>\n",
       "  </tbody>\n",
       "</table>\n",
       "<p>4000 rows × 3 columns</p>\n",
       "</div>"
      ],
      "text/plain": [
       "                                                   text  \\\n",
       "0       can you check whether its cancelled completely?   \n",
       "1     cannot rely on both milk delivery and grocery ...   \n",
       "2     I get no notification, however the app is real...   \n",
       "3     Love this app, but would love it even more if ...   \n",
       "4           it does not let me load a clip on the scene   \n",
       "...                                                 ...   \n",
       "3995  every time i try to edit a page or create a li...   \n",
       "3996  unable to load money using wallets (phonepe/ol...   \n",
       "3997  hi, i m doing for the first time ever and i no...   \n",
       "3998  delivery is delayed or cancelled every time i ...   \n",
       "3999                 your customer service is terrible!   \n",
       "\n",
       "                                  aspect  label  \n",
       "0                              cancelled      1  \n",
       "1                                   Milk      0  \n",
       "2                           notification      0  \n",
       "3                                   view      1  \n",
       "4                                   load      0  \n",
       "...                                  ...    ...  \n",
       "3995                               tools      0  \n",
       "3996  Unable to load money using wallets      0  \n",
       "3997                               usage      0  \n",
       "3998                            Delivery      0  \n",
       "3999                    customer service      0  \n",
       "\n",
       "[4000 rows x 3 columns]"
      ]
     },
     "execution_count": 4,
     "metadata": {},
     "output_type": "execute_result"
    }
   ],
   "source": [
    "df.dropna()"
   ]
  },
  {
   "cell_type": "code",
   "execution_count": 5,
   "id": "5f27604a",
   "metadata": {
    "execution": {
     "iopub.execute_input": "2021-12-21T05:17:46.040605Z",
     "iopub.status.busy": "2021-12-21T05:17:46.039748Z",
     "iopub.status.idle": "2021-12-21T05:17:46.276665Z",
     "shell.execute_reply": "2021-12-21T05:17:46.276100Z",
     "shell.execute_reply.started": "2021-12-21T05:16:07.796871Z"
    },
    "papermill": {
     "duration": 0.258615,
     "end_time": "2021-12-21T05:17:46.276821",
     "exception": false,
     "start_time": "2021-12-21T05:17:46.018206",
     "status": "completed"
    },
    "tags": []
   },
   "outputs": [
    {
     "name": "stderr",
     "output_type": "stream",
     "text": [
      "/opt/conda/lib/python3.7/site-packages/seaborn/_decorators.py:43: FutureWarning: Pass the following variable as a keyword arg: x. From version 0.12, the only valid positional argument will be `data`, and passing other arguments without an explicit keyword will result in an error or misinterpretation.\n",
      "  FutureWarning\n"
     ]
    },
    {
     "data": {
      "text/plain": [
       "<AxesSubplot:xlabel='label', ylabel='count'>"
      ]
     },
     "execution_count": 5,
     "metadata": {},
     "output_type": "execute_result"
    },
    {
     "data": {
      "image/png": "[encoded data removed]",
      "text/plain": [
       "<Figure size 432x288 with 1 Axes>"
      ]
     },
     "metadata": {
      "needs_background": "light"
     },
     "output_type": "display_data"
    }
   ],
   "source": [
    "sns.countplot(df.label)"
   ]
  },
  {
   "cell_type": "code",
   "execution_count": 6,
   "id": "245119d5",
   "metadata": {
    "execution": {
     "iopub.execute_input": "2021-12-21T05:17:46.354029Z",
     "iopub.status.busy": "2021-12-21T05:17:46.332085Z",
     "iopub.status.idle": "2021-12-21T05:17:46.526073Z",
     "shell.execute_reply": "2021-12-21T05:17:46.525520Z",
     "shell.execute_reply.started": "2021-12-21T05:16:08.058632Z"
    },
    "papermill": {
     "duration": 0.230359,
     "end_time": "2021-12-21T05:17:46.526227",
     "exception": false,
     "start_time": "2021-12-21T05:17:46.295868",
     "status": "completed"
    },
    "tags": []
   },
   "outputs": [
    {
     "data": {
      "text/html": [
       "<div>\n",
       "<style scoped>\n",
       "    .dataframe tbody tr th:only-of-type {\n",
       "        vertical-align: middle;\n",
       "    }\n",
       "\n",
       "    .dataframe tbody tr th {\n",
       "        vertical-align: top;\n",
       "    }\n",
       "\n",
       "    .dataframe thead th {\n",
       "        text-align: right;\n",
       "    }\n",
       "</style>\n",
       "<table border=\"1\" class=\"dataframe\">\n",
       "  <thead>\n",
       "    <tr style=\"text-align: right;\">\n",
       "      <th></th>\n",
       "      <th>text</th>\n",
       "      <th>label</th>\n",
       "    </tr>\n",
       "  </thead>\n",
       "  <tbody>\n",
       "    <tr>\n",
       "      <th>0</th>\n",
       "      <td>can you check whether its cancelled completely</td>\n",
       "      <td>1</td>\n",
       "    </tr>\n",
       "    <tr>\n",
       "      <th>1</th>\n",
       "      <td>cannot rely on both milk delivery and grocery ...</td>\n",
       "      <td>0</td>\n",
       "    </tr>\n",
       "    <tr>\n",
       "      <th>2</th>\n",
       "      <td>i get no notification however the app is reall...</td>\n",
       "      <td>0</td>\n",
       "    </tr>\n",
       "    <tr>\n",
       "      <th>3</th>\n",
       "      <td>love this app but would love it even more if g...</td>\n",
       "      <td>1</td>\n",
       "    </tr>\n",
       "    <tr>\n",
       "      <th>4</th>\n",
       "      <td>it does not let me load a clip on the scene</td>\n",
       "      <td>0</td>\n",
       "    </tr>\n",
       "  </tbody>\n",
       "</table>\n",
       "</div>"
      ],
      "text/plain": [
       "                                                text  label\n",
       "0     can you check whether its cancelled completely      1\n",
       "1  cannot rely on both milk delivery and grocery ...      0\n",
       "2  i get no notification however the app is reall...      0\n",
       "3  love this app but would love it even more if g...      1\n",
       "4        it does not let me load a clip on the scene      0"
      ]
     },
     "execution_count": 6,
     "metadata": {},
     "output_type": "execute_result"
    }
   ],
   "source": [
    "# removing the html tags\n",
    "def clean_html(text):\n",
    "    clean=re.compile('<.*?>')\n",
    "    cleantext=re.sub(clean,'',text)\n",
    "    return cleantext\n",
    "    \n",
    "# first round of cleaning\n",
    "def clean_text1(text):\n",
    "    text=text.lower()\n",
    "    text=re.sub('\\[.*?\\]','',text)\n",
    "    text=re.sub('[%s]'%re.escape(string.punctuation),'',text)\n",
    "    text=re.sub('\\w*\\d\\w*','',text)\n",
    "    return text\n",
    "\n",
    "# second round of cleaning\n",
    "def clean_text2(text):\n",
    "    text=re.sub('[''\"\",,,]','',text)\n",
    "    text=re.sub('\\n','',text)\n",
    "    return text\n",
    "    \n",
    "cleaned_html=lambda x:clean_html(x)\n",
    "cleaned1=lambda x:clean_text1(x)\n",
    "cleaned2=lambda x:clean_text2(x)\n",
    "\n",
    "df['text']=pd.DataFrame(df.text.apply(cleaned_html))\n",
    "df['text']=pd.DataFrame(df.text.apply(cleaned1))\n",
    "df['text']=pd.DataFrame(df.text.apply(cleaned2))\n",
    "\n",
    "test['text']=pd.DataFrame(test.text.apply(cleaned_html))\n",
    "test['text']=pd.DataFrame(test.text.apply(cleaned1))\n",
    "test['text']=pd.DataFrame(test.text.apply(cleaned2))\n",
    "\n",
    "df=df.drop(columns='aspect')\n",
    "aspect=test['aspect']\n",
    "test=test.drop(columns='aspect')\n",
    "df.head()"
   ]
  },
  {
   "cell_type": "code",
   "execution_count": 7,
   "id": "ba830293",
   "metadata": {
    "execution": {
     "iopub.execute_input": "2021-12-21T05:17:46.569065Z",
     "iopub.status.busy": "2021-12-21T05:17:46.568223Z",
     "iopub.status.idle": "2021-12-21T05:17:48.516440Z",
     "shell.execute_reply": "2021-12-21T05:17:48.515850Z",
     "shell.execute_reply.started": "2021-12-21T05:16:08.262770Z"
    },
    "papermill": {
     "duration": 1.973267,
     "end_time": "2021-12-21T05:17:48.516581",
     "exception": false,
     "start_time": "2021-12-21T05:17:46.543314",
     "status": "completed"
    },
    "tags": []
   },
   "outputs": [],
   "source": [
    "def remove_stopword(text):\n",
    "    stopword=nltk.corpus.stopwords.words('english')\n",
    "    stopword.remove('not')\n",
    "    a=[w for w in nltk.word_tokenize(text) if w not in stopword]\n",
    "    return ' '.join(a)\n",
    "df['text'] = df['text'].apply(remove_stopword)\n",
    "test['text'] = test['text'].apply(remove_stopword)"
   ]
  },
  {
   "cell_type": "code",
   "execution_count": 8,
   "id": "ba8f03f6",
   "metadata": {
    "execution": {
     "iopub.execute_input": "2021-12-21T05:17:48.563035Z",
     "iopub.status.busy": "2021-12-21T05:17:48.562161Z",
     "iopub.status.idle": "2021-12-21T05:17:48.566822Z",
     "shell.execute_reply": "2021-12-21T05:17:48.566243Z",
     "shell.execute_reply.started": "2021-12-21T05:16:10.314047Z"
    },
    "papermill": {
     "duration": 0.033243,
     "end_time": "2021-12-21T05:17:48.566963",
     "exception": false,
     "start_time": "2021-12-21T05:17:48.533720",
     "status": "completed"
    },
    "tags": []
   },
   "outputs": [
    {
     "data": {
      "text/html": [
       "<div>\n",
       "<style scoped>\n",
       "    .dataframe tbody tr th:only-of-type {\n",
       "        vertical-align: middle;\n",
       "    }\n",
       "\n",
       "    .dataframe tbody tr th {\n",
       "        vertical-align: top;\n",
       "    }\n",
       "\n",
       "    .dataframe thead th {\n",
       "        text-align: right;\n",
       "    }\n",
       "</style>\n",
       "<table border=\"1\" class=\"dataframe\">\n",
       "  <thead>\n",
       "    <tr style=\"text-align: right;\">\n",
       "      <th></th>\n",
       "      <th>text</th>\n",
       "      <th>label</th>\n",
       "    </tr>\n",
       "  </thead>\n",
       "  <tbody>\n",
       "    <tr>\n",
       "      <th>0</th>\n",
       "      <td>check whether cancelled completely</td>\n",
       "      <td>1</td>\n",
       "    </tr>\n",
       "    <tr>\n",
       "      <th>1</th>\n",
       "      <td>not rely milk delivery grocery items</td>\n",
       "      <td>0</td>\n",
       "    </tr>\n",
       "    <tr>\n",
       "      <th>2</th>\n",
       "      <td>get notification however app really fine</td>\n",
       "      <td>0</td>\n",
       "    </tr>\n",
       "    <tr>\n",
       "      <th>3</th>\n",
       "      <td>love app would love even gantt charts calendar...</td>\n",
       "      <td>1</td>\n",
       "    </tr>\n",
       "    <tr>\n",
       "      <th>4</th>\n",
       "      <td>not let load clip scene</td>\n",
       "      <td>0</td>\n",
       "    </tr>\n",
       "    <tr>\n",
       "      <th>...</th>\n",
       "      <td>...</td>\n",
       "      <td>...</td>\n",
       "    </tr>\n",
       "    <tr>\n",
       "      <th>3995</th>\n",
       "      <td>every time try edit page create link tools key...</td>\n",
       "      <td>0</td>\n",
       "    </tr>\n",
       "    <tr>\n",
       "      <th>3996</th>\n",
       "      <td>unable load money using wallets phonepeola mon...</td>\n",
       "      <td>0</td>\n",
       "    </tr>\n",
       "    <tr>\n",
       "      <th>3997</th>\n",
       "      <td>hi first time ever not able understand usage t...</td>\n",
       "      <td>0</td>\n",
       "    </tr>\n",
       "    <tr>\n",
       "      <th>3998</th>\n",
       "      <td>delivery delayed cancelled every time order so...</td>\n",
       "      <td>0</td>\n",
       "    </tr>\n",
       "    <tr>\n",
       "      <th>3999</th>\n",
       "      <td>customer service terrible</td>\n",
       "      <td>0</td>\n",
       "    </tr>\n",
       "  </tbody>\n",
       "</table>\n",
       "<p>4000 rows × 2 columns</p>\n",
       "</div>"
      ],
      "text/plain": [
       "                                                   text  label\n",
       "0                    check whether cancelled completely      1\n",
       "1                  not rely milk delivery grocery items      0\n",
       "2              get notification however app really fine      0\n",
       "3     love app would love even gantt charts calendar...      1\n",
       "4                               not let load clip scene      0\n",
       "...                                                 ...    ...\n",
       "3995  every time try edit page create link tools key...      0\n",
       "3996  unable load money using wallets phonepeola mon...      0\n",
       "3997  hi first time ever not able understand usage t...      0\n",
       "3998  delivery delayed cancelled every time order so...      0\n",
       "3999                          customer service terrible      0\n",
       "\n",
       "[4000 rows x 2 columns]"
      ]
     },
     "execution_count": 8,
     "metadata": {},
     "output_type": "execute_result"
    }
   ],
   "source": [
    "df"
   ]
  },
  {
   "cell_type": "code",
   "execution_count": 9,
   "id": "d04e124d",
   "metadata": {
    "execution": {
     "iopub.execute_input": "2021-12-21T05:17:48.649125Z",
     "iopub.status.busy": "2021-12-21T05:17:48.643821Z",
     "iopub.status.idle": "2021-12-21T05:17:48.889810Z",
     "shell.execute_reply": "2021-12-21T05:17:48.889174Z",
     "shell.execute_reply.started": "2021-12-21T05:16:10.330320Z"
    },
    "papermill": {
     "duration": 0.304121,
     "end_time": "2021-12-21T05:17:48.889955",
     "exception": false,
     "start_time": "2021-12-21T05:17:48.585834",
     "status": "completed"
    },
    "tags": []
   },
   "outputs": [],
   "source": [
    "vectr = TfidfVectorizer(ngram_range=(1,2),min_df=1)\n",
    "vectr.fit(df['text'])\n",
    "vect_X = vectr.transform(df['text'])"
   ]
  },
  {
   "cell_type": "code",
   "execution_count": 10,
   "id": "0c9c6802",
   "metadata": {
    "execution": {
     "iopub.execute_input": "2021-12-21T05:17:48.932177Z",
     "iopub.status.busy": "2021-12-21T05:17:48.931256Z",
     "iopub.status.idle": "2021-12-21T05:17:50.551014Z",
     "shell.execute_reply": "2021-12-21T05:17:50.552430Z",
     "shell.execute_reply.started": "2021-12-21T05:16:10.631351Z"
    },
    "papermill": {
     "duration": 1.645179,
     "end_time": "2021-12-21T05:17:50.552785",
     "exception": false,
     "start_time": "2021-12-21T05:17:48.907606",
     "status": "completed"
    },
    "tags": []
   },
   "outputs": [
    {
     "data": {
      "text/plain": [
       "92.35"
      ]
     },
     "execution_count": 10,
     "metadata": {},
     "output_type": "execute_result"
    }
   ],
   "source": [
    "model = LogisticRegression()\n",
    "clf=model.fit(vect_X,df['label'])\n",
    "clf.score(vect_X,df['label'])*100"
   ]
  },
  {
   "cell_type": "code",
   "execution_count": 11,
   "id": "9b9acd3f",
   "metadata": {
    "execution": {
     "iopub.execute_input": "2021-12-21T05:17:50.632863Z",
     "iopub.status.busy": "2021-12-21T05:17:50.631678Z",
     "iopub.status.idle": "2021-12-21T05:17:50.639322Z",
     "shell.execute_reply": "2021-12-21T05:17:50.640204Z",
     "shell.execute_reply.started": "2021-12-21T05:16:12.430725Z"
    },
    "papermill": {
     "duration": 0.052533,
     "end_time": "2021-12-21T05:17:50.640523",
     "exception": false,
     "start_time": "2021-12-21T05:17:50.587990",
     "status": "completed"
    },
    "tags": []
   },
   "outputs": [
    {
     "data": {
      "text/plain": [
       "array([1])"
      ]
     },
     "execution_count": 11,
     "metadata": {},
     "output_type": "execute_result"
    }
   ],
   "source": [
    "clf.predict(vectr.transform(['i am using machine learning for a project on sentiment analysis']))"
   ]
  },
  {
   "cell_type": "code",
   "execution_count": 12,
   "id": "7020a587",
   "metadata": {
    "execution": {
     "iopub.execute_input": "2021-12-21T05:17:50.684409Z",
     "iopub.status.busy": "2021-12-21T05:17:50.683748Z",
     "iopub.status.idle": "2021-12-21T05:17:50.691142Z",
     "shell.execute_reply": "2021-12-21T05:17:50.691768Z",
     "shell.execute_reply.started": "2021-12-21T05:16:12.447475Z"
    },
    "papermill": {
     "duration": 0.029667,
     "end_time": "2021-12-21T05:17:50.691973",
     "exception": false,
     "start_time": "2021-12-21T05:17:50.662306",
     "status": "completed"
    },
    "tags": []
   },
   "outputs": [
    {
     "data": {
      "text/plain": [
       "['finalized_model.sav']"
      ]
     },
     "execution_count": 12,
     "metadata": {},
     "output_type": "execute_result"
    }
   ],
   "source": [
    "filename = 'finalized_model.sav'\n",
    "joblib.dump(model, filename)"
   ]
  },
  {
   "cell_type": "code",
   "execution_count": 13,
   "id": "53067fd2",
   "metadata": {
    "execution": {
     "iopub.execute_input": "2021-12-21T05:17:50.736270Z",
     "iopub.status.busy": "2021-12-21T05:17:50.735532Z",
     "iopub.status.idle": "2021-12-21T05:17:50.739673Z",
     "shell.execute_reply": "2021-12-21T05:17:50.739079Z",
     "shell.execute_reply.started": "2021-12-21T05:16:12.465075Z"
    },
    "papermill": {
     "duration": 0.028924,
     "end_time": "2021-12-21T05:17:50.739845",
     "exception": false,
     "start_time": "2021-12-21T05:17:50.710921",
     "status": "completed"
    },
    "tags": []
   },
   "outputs": [],
   "source": [
    "pickle.dump(model, open(\"model.pkl\", \"wb\"))"
   ]
  },
  {
   "cell_type": "code",
   "execution_count": 14,
   "id": "8f1da759",
   "metadata": {
    "execution": {
     "iopub.execute_input": "2021-12-21T05:17:50.806725Z",
     "iopub.status.busy": "2021-12-21T05:17:50.805979Z",
     "iopub.status.idle": "2021-12-21T05:17:50.828441Z",
     "shell.execute_reply": "2021-12-21T05:17:50.829048Z",
     "shell.execute_reply.started": "2021-12-21T05:16:12.479817Z"
    },
    "papermill": {
     "duration": 0.06855,
     "end_time": "2021-12-21T05:17:50.829260",
     "exception": false,
     "start_time": "2021-12-21T05:17:50.760710",
     "status": "completed"
    },
    "tags": []
   },
   "outputs": [
    {
     "name": "stdout",
     "output_type": "stream",
     "text": [
      "Submission saved\n"
     ]
    }
   ],
   "source": [
    "predict = model.predict(vectr.transform(test['text']))\n",
    "output = pd.DataFrame({'text':testtxt,'aspect':aspect,'label': predict})\n",
    "output.to_csv('my_submission.csv', index=False)\n",
    "print(\"Submission saved\")"
   ]
  },
  {
   "cell_type": "code",
   "execution_count": 15,
   "id": "78cb8d79",
   "metadata": {
    "execution": {
     "iopub.execute_input": "2021-12-21T05:17:50.871900Z",
     "iopub.status.busy": "2021-12-21T05:17:50.871260Z",
     "iopub.status.idle": "2021-12-21T05:17:50.902428Z",
     "shell.execute_reply": "2021-12-21T05:17:50.902998Z",
     "shell.execute_reply.started": "2021-12-21T05:16:12.547380Z"
    },
    "papermill": {
     "duration": 0.053918,
     "end_time": "2021-12-21T05:17:50.903198",
     "exception": false,
     "start_time": "2021-12-21T05:17:50.849280",
     "status": "completed"
    },
    "tags": []
   },
   "outputs": [
    {
     "data": {
      "text/plain": [
       "100.0"
      ]
     },
     "execution_count": 15,
     "metadata": {},
     "output_type": "execute_result"
    }
   ],
   "source": [
    "clf.score(vectr.transform(test['text']),output['label'])*100"
   ]
  },
  {
   "cell_type": "code",
   "execution_count": 16,
   "id": "117fd05b",
   "metadata": {
    "execution": {
     "iopub.execute_input": "2021-12-21T05:17:50.956871Z",
     "iopub.status.busy": "2021-12-21T05:17:50.946456Z",
     "iopub.status.idle": "2021-12-21T05:17:50.960935Z",
     "shell.execute_reply": "2021-12-21T05:17:50.961529Z",
     "shell.execute_reply.started": "2021-12-21T05:16:12.583961Z"
    },
    "papermill": {
     "duration": 0.038818,
     "end_time": "2021-12-21T05:17:50.961772",
     "exception": false,
     "start_time": "2021-12-21T05:17:50.922954",
     "status": "completed"
    },
    "tags": []
   },
   "outputs": [
    {
     "data": {
      "text/html": [
       "<div>\n",
       "<style scoped>\n",
       "    .dataframe tbody tr th:only-of-type {\n",
       "        vertical-align: middle;\n",
       "    }\n",
       "\n",
       "    .dataframe tbody tr th {\n",
       "        vertical-align: top;\n",
       "    }\n",
       "\n",
       "    .dataframe thead th {\n",
       "        text-align: right;\n",
       "    }\n",
       "</style>\n",
       "<table border=\"1\" class=\"dataframe\">\n",
       "  <thead>\n",
       "    <tr style=\"text-align: right;\">\n",
       "      <th></th>\n",
       "      <th>text</th>\n",
       "      <th>aspect</th>\n",
       "      <th>label</th>\n",
       "    </tr>\n",
       "  </thead>\n",
       "  <tbody>\n",
       "    <tr>\n",
       "      <th>0</th>\n",
       "      <td>improve your customer service and product avai...</td>\n",
       "      <td>Customer service</td>\n",
       "      <td>0</td>\n",
       "    </tr>\n",
       "    <tr>\n",
       "      <th>1</th>\n",
       "      <td>functionality is great almost as in desktop ve...</td>\n",
       "      <td>mobile version</td>\n",
       "      <td>0</td>\n",
       "    </tr>\n",
       "    <tr>\n",
       "      <th>2</th>\n",
       "      <td>but it keeps starting from zoomed in and then ...</td>\n",
       "      <td>zoomed</td>\n",
       "      <td>0</td>\n",
       "    </tr>\n",
       "    <tr>\n",
       "      <th>3</th>\n",
       "      <td>hey marilyn thanks for your answer the  type  ...</td>\n",
       "      <td>Security</td>\n",
       "      <td>1</td>\n",
       "    </tr>\n",
       "    <tr>\n",
       "      <th>4</th>\n",
       "      <td>delanovc zoom airtable notionhq calendly apple...</td>\n",
       "      <td>apple</td>\n",
       "      <td>1</td>\n",
       "    </tr>\n",
       "    <tr>\n",
       "      <th>...</th>\n",
       "      <td>...</td>\n",
       "      <td>...</td>\n",
       "      <td>...</td>\n",
       "    </tr>\n",
       "    <tr>\n",
       "      <th>995</th>\n",
       "      <td>in a database where i have multiple views enab...</td>\n",
       "      <td>views</td>\n",
       "      <td>0</td>\n",
       "    </tr>\n",
       "    <tr>\n",
       "      <th>996</th>\n",
       "      <td>the mere act of opening the notionhq tab makes...</td>\n",
       "      <td>opening</td>\n",
       "      <td>0</td>\n",
       "    </tr>\n",
       "    <tr>\n",
       "      <th>997</th>\n",
       "      <td>i have shared it to web now and added the link...</td>\n",
       "      <td>web</td>\n",
       "      <td>1</td>\n",
       "    </tr>\n",
       "    <tr>\n",
       "      <th>998</th>\n",
       "      <td>why the members who regularly buy milk has to ...</td>\n",
       "      <td>service charge.</td>\n",
       "      <td>0</td>\n",
       "    </tr>\n",
       "    <tr>\n",
       "      <th>999</th>\n",
       "      <td>best feature rich productivity app ever</td>\n",
       "      <td>app</td>\n",
       "      <td>2</td>\n",
       "    </tr>\n",
       "  </tbody>\n",
       "</table>\n",
       "<p>1000 rows × 3 columns</p>\n",
       "</div>"
      ],
      "text/plain": [
       "                                                  text            aspect  \\\n",
       "0    improve your customer service and product avai...  Customer service   \n",
       "1    functionality is great almost as in desktop ve...    mobile version   \n",
       "2    but it keeps starting from zoomed in and then ...            zoomed   \n",
       "3    hey marilyn thanks for your answer the  type  ...          Security   \n",
       "4    delanovc zoom airtable notionhq calendly apple...             apple   \n",
       "..                                                 ...               ...   \n",
       "995  in a database where i have multiple views enab...             views   \n",
       "996  the mere act of opening the notionhq tab makes...           opening   \n",
       "997  i have shared it to web now and added the link...               web   \n",
       "998  why the members who regularly buy milk has to ...   service charge.   \n",
       "999            best feature rich productivity app ever               app   \n",
       "\n",
       "     label  \n",
       "0        0  \n",
       "1        0  \n",
       "2        0  \n",
       "3        1  \n",
       "4        1  \n",
       "..     ...  \n",
       "995      0  \n",
       "996      0  \n",
       "997      1  \n",
       "998      0  \n",
       "999      2  \n",
       "\n",
       "[1000 rows x 3 columns]"
      ]
     },
     "execution_count": 16,
     "metadata": {},
     "output_type": "execute_result"
    }
   ],
   "source": [
    "output"
   ]
  }
 ],
 "metadata": {
  "kernelspec": {
   "display_name": "Python 3",
   "language": "python",
   "name": "python3"
  },
  "language_info": {
   "codemirror_mode": {
    "name": "ipython",
    "version": 3
   },
   "file_extension": ".py",
   "mimetype": "text/x-python",
   "name": "python",
   "nbconvert_exporter": "python",
   "pygments_lexer": "ipython3",
   "version": "3.7.12"
  },
  "papermill": {
   "default_parameters": {},
   "duration": 18.306254,
   "end_time": "2021-12-21T05:17:51.894721",
   "environment_variables": {},
   "exception": null,
   "input_path": "__notebook__.ipynb",
   "output_path": "__notebook__.ipynb",
   "parameters": {},
   "start_time": "2021-12-21T05:17:33.588467",
   "version": "2.3.3"
  }
 },
 "nbformat": 4,
 "nbformat_minor": 5
}
