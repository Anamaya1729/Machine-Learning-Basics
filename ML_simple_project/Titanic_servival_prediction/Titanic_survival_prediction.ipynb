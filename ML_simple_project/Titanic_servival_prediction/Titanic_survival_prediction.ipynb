{
  "cells": [
    {
      "cell_type": "code",
      "execution_count": null,
      "id": "16084f56",
      "metadata": {
        "execution": {
          "iopub.execute_input": "2022-09-24T14:19:30.646671Z",
          "iopub.status.busy": "2022-09-24T14:19:30.645928Z",
          "iopub.status.idle": "2022-09-24T14:19:44.502019Z",
          "shell.execute_reply": "2022-09-24T14:19:44.500642Z"
        },
        "papermill": {
          "duration": 13.891803,
          "end_time": "2022-09-24T14:19:44.505052",
          "exception": false,
          "start_time": "2022-09-24T14:19:30.613249",
          "status": "completed"
        },
        "tags": [],
        "id": "16084f56",
        "outputId": "33c9a3b2-f341-4988-c992-747b3bfcf789"
      },
      "outputs": [
        {
          "name": "stdout",
          "output_type": "stream",
          "text": [
            "Collecting plot_metric\r\n",
            "  Downloading plot_metric-0.0.6-py3-none-any.whl (13 kB)\r\n",
            "Requirement already satisfied: pandas>=0.23.4 in /opt/conda/lib/python3.7/site-packages (from plot_metric) (1.3.5)\r\n",
            "Requirement already satisfied: colorlover>=0.3.0 in /opt/conda/lib/python3.7/site-packages (from plot_metric) (0.3.0)\r\n",
            "Requirement already satisfied: scipy>=1.1.0 in /opt/conda/lib/python3.7/site-packages (from plot_metric) (1.7.3)\r\n",
            "Requirement already satisfied: matplotlib>=3.0.2 in /opt/conda/lib/python3.7/site-packages (from plot_metric) (3.5.3)\r\n",
            "Requirement already satisfied: numpy>=1.15.4 in /opt/conda/lib/python3.7/site-packages (from plot_metric) (1.21.6)\r\n",
            "Requirement already satisfied: scikit-learn>=0.21.2 in /opt/conda/lib/python3.7/site-packages (from plot_metric) (1.0.2)\r\n",
            "Requirement already satisfied: seaborn>=0.9.0 in /opt/conda/lib/python3.7/site-packages (from plot_metric) (0.11.2)\r\n",
            "Requirement already satisfied: cycler>=0.10 in /opt/conda/lib/python3.7/site-packages (from matplotlib>=3.0.2->plot_metric) (0.11.0)\r\n",
            "Requirement already satisfied: kiwisolver>=1.0.1 in /opt/conda/lib/python3.7/site-packages (from matplotlib>=3.0.2->plot_metric) (1.4.3)\r\n",
            "Requirement already satisfied: fonttools>=4.22.0 in /opt/conda/lib/python3.7/site-packages (from matplotlib>=3.0.2->plot_metric) (4.33.3)\r\n",
            "Requirement already satisfied: pyparsing>=2.2.1 in /opt/conda/lib/python3.7/site-packages (from matplotlib>=3.0.2->plot_metric) (3.0.9)\r\n",
            "Requirement already satisfied: pillow>=6.2.0 in /opt/conda/lib/python3.7/site-packages (from matplotlib>=3.0.2->plot_metric) (9.1.1)\r\n",
            "Requirement already satisfied: python-dateutil>=2.7 in /opt/conda/lib/python3.7/site-packages (from matplotlib>=3.0.2->plot_metric) (2.8.2)\r\n",
            "Requirement already satisfied: packaging>=20.0 in /opt/conda/lib/python3.7/site-packages (from matplotlib>=3.0.2->plot_metric) (21.3)\r\n",
            "Requirement already satisfied: pytz>=2017.3 in /opt/conda/lib/python3.7/site-packages (from pandas>=0.23.4->plot_metric) (2022.1)\r\n",
            "Requirement already satisfied: threadpoolctl>=2.0.0 in /opt/conda/lib/python3.7/site-packages (from scikit-learn>=0.21.2->plot_metric) (3.1.0)\r\n",
            "Requirement already satisfied: joblib>=0.11 in /opt/conda/lib/python3.7/site-packages (from scikit-learn>=0.21.2->plot_metric) (1.0.1)\r\n",
            "Requirement already satisfied: typing-extensions in /opt/conda/lib/python3.7/site-packages (from kiwisolver>=1.0.1->matplotlib>=3.0.2->plot_metric) (4.3.0)\r\n",
            "Requirement already satisfied: six>=1.5 in /opt/conda/lib/python3.7/site-packages (from python-dateutil>=2.7->matplotlib>=3.0.2->plot_metric) (1.15.0)\r\n",
            "Installing collected packages: plot_metric\r\n",
            "Successfully installed plot_metric-0.0.6\r\n",
            "\u001b[33mWARNING: Running pip as the 'root' user can result in broken permissions and conflicting behaviour with the system package manager. It is recommended to use a virtual environment instead: https://pip.pypa.io/warnings/venv\u001b[0m\u001b[33m\r\n",
            "\u001b[0m"
          ]
        }
      ],
      "source": [
        "!pip install plot_metric"
      ]
    },
    {
      "cell_type": "markdown",
      "id": "aadc834c",
      "metadata": {
        "papermill": {
          "duration": 0.032528,
          "end_time": "2022-09-24T14:19:44.569171",
          "exception": false,
          "start_time": "2022-09-24T14:19:44.536643",
          "status": "completed"
        },
        "tags": [],
        "id": "aadc834c"
      },
      "source": [
        "**Import required libraries**"
      ]
    },
    {
      "cell_type": "code",
      "execution_count": null,
      "id": "bd85de54",
      "metadata": {
        "execution": {
          "iopub.execute_input": "2022-09-24T14:19:44.633280Z",
          "iopub.status.busy": "2022-09-24T14:19:44.632851Z",
          "iopub.status.idle": "2022-09-24T14:19:47.206201Z",
          "shell.execute_reply": "2022-09-24T14:19:47.204888Z"
        },
        "papermill": {
          "duration": 2.609658,
          "end_time": "2022-09-24T14:19:47.209255",
          "exception": false,
          "start_time": "2022-09-24T14:19:44.599597",
          "status": "completed"
        },
        "tags": [],
        "id": "bd85de54"
      },
      "outputs": [],
      "source": [
        "import numpy as np\n",
        "import pandas as pd\n",
        "import math\n",
        "import matplotlib.pyplot as plt\n",
        "%matplotlib inline\n",
        "import seaborn as sns\n",
        "import statsmodels.api as sm\n",
        "from scipy import stats\n",
        "from sklearn.model_selection import train_test_split, GridSearchCV, StratifiedShuffleSplit\n",
        "from statsmodels.stats.outliers_influence import variance_inflation_factor\n",
        "from sklearn.model_selection import KFold\n",
        "from sklearn.preprocessing import StandardScaler\n",
        "from sklearn.decomposition import PCA, IncrementalPCA#, plot_roc_curve\n",
        "from sklearn.inspection import permutation_importance\n",
        "from sklearn.linear_model import LogisticRegression\n",
        "from sklearn.tree import DecisionTreeClassifier\n",
        "from sklearn.ensemble import RandomForestClassifier, GradientBoostingClassifier, AdaBoostClassifier\n",
        "from sklearn import svm\n",
        "import xgboost as xgb\n",
        "from sklearn.metrics import accuracy_score, log_loss, f1_score, classification_report, roc_curve, plot_roc_curve\n",
        "from sklearn.metrics import confusion_matrix, precision_score, recall_score, precision_recall_curve, roc_auc_score\n",
        "from sklearn.preprocessing import LabelEncoder, OneHotEncoder\n",
        "from plot_metric.functions import BinaryClassification\n",
        "\n",
        "import warnings\n",
        "warnings.filterwarnings('ignore')"
      ]
    },
    {
      "cell_type": "code",
      "execution_count": null,
      "id": "6a8b7e39",
      "metadata": {
        "execution": {
          "iopub.execute_input": "2022-09-24T14:19:47.272741Z",
          "iopub.status.busy": "2022-09-24T14:19:47.272310Z",
          "iopub.status.idle": "2022-09-24T14:19:47.278017Z",
          "shell.execute_reply": "2022-09-24T14:19:47.276705Z"
        },
        "papermill": {
          "duration": 0.040319,
          "end_time": "2022-09-24T14:19:47.280526",
          "exception": false,
          "start_time": "2022-09-24T14:19:47.240207",
          "status": "completed"
        },
        "tags": [],
        "id": "6a8b7e39"
      },
      "outputs": [],
      "source": [
        "#Setting max columns/rows display range\n",
        "pd.set_option('display.max_columns', 100)\n",
        "pd.set_option('display.max_rows', 150)"
      ]
    },
    {
      "cell_type": "markdown",
      "id": "b277828f",
      "metadata": {
        "papermill": {
          "duration": 0.029586,
          "end_time": "2022-09-24T14:19:47.339486",
          "exception": false,
          "start_time": "2022-09-24T14:19:47.309900",
          "status": "completed"
        },
        "tags": [],
        "id": "b277828f"
      },
      "source": [
        "**Read data**"
      ]
    },
    {
      "cell_type": "code",
      "execution_count": null,
      "id": "1171f7cf",
      "metadata": {
        "execution": {
          "iopub.execute_input": "2022-09-24T14:19:47.403056Z",
          "iopub.status.busy": "2022-09-24T14:19:47.402328Z",
          "iopub.status.idle": "2022-09-24T14:19:47.446023Z",
          "shell.execute_reply": "2022-09-24T14:19:47.445206Z"
        },
        "papermill": {
          "duration": 0.077688,
          "end_time": "2022-09-24T14:19:47.448170",
          "exception": false,
          "start_time": "2022-09-24T14:19:47.370482",
          "status": "completed"
        },
        "tags": [],
        "id": "1171f7cf",
        "outputId": "8bd6bf53-5fce-4f96-fd5b-85ee9be9cd72"
      },
      "outputs": [
        {
          "data": {
            "text/html": [
              "<div>\n",
              "<style scoped>\n",
              "    .dataframe tbody tr th:only-of-type {\n",
              "        vertical-align: middle;\n",
              "    }\n",
              "\n",
              "    .dataframe tbody tr th {\n",
              "        vertical-align: top;\n",
              "    }\n",
              "\n",
              "    .dataframe thead th {\n",
              "        text-align: right;\n",
              "    }\n",
              "</style>\n",
              "<table border=\"1\" class=\"dataframe\">\n",
              "  <thead>\n",
              "    <tr style=\"text-align: right;\">\n",
              "      <th></th>\n",
              "      <th>PassengerId</th>\n",
              "      <th>Survived</th>\n",
              "      <th>Pclass</th>\n",
              "      <th>Name</th>\n",
              "      <th>Sex</th>\n",
              "      <th>Age</th>\n",
              "      <th>SibSp</th>\n",
              "      <th>Parch</th>\n",
              "      <th>Ticket</th>\n",
              "      <th>Fare</th>\n",
              "      <th>Cabin</th>\n",
              "      <th>Embarked</th>\n",
              "    </tr>\n",
              "  </thead>\n",
              "  <tbody>\n",
              "    <tr>\n",
              "      <th>0</th>\n",
              "      <td>1</td>\n",
              "      <td>0</td>\n",
              "      <td>3</td>\n",
              "      <td>Braund, Mr. Owen Harris</td>\n",
              "      <td>male</td>\n",
              "      <td>22.0</td>\n",
              "      <td>1</td>\n",
              "      <td>0</td>\n",
              "      <td>A/5 21171</td>\n",
              "      <td>7.2500</td>\n",
              "      <td>NaN</td>\n",
              "      <td>S</td>\n",
              "    </tr>\n",
              "    <tr>\n",
              "      <th>1</th>\n",
              "      <td>2</td>\n",
              "      <td>1</td>\n",
              "      <td>1</td>\n",
              "      <td>Cumings, Mrs. John Bradley (Florence Briggs Th...</td>\n",
              "      <td>female</td>\n",
              "      <td>38.0</td>\n",
              "      <td>1</td>\n",
              "      <td>0</td>\n",
              "      <td>PC 17599</td>\n",
              "      <td>71.2833</td>\n",
              "      <td>C85</td>\n",
              "      <td>C</td>\n",
              "    </tr>\n",
              "    <tr>\n",
              "      <th>2</th>\n",
              "      <td>3</td>\n",
              "      <td>1</td>\n",
              "      <td>3</td>\n",
              "      <td>Heikkinen, Miss. Laina</td>\n",
              "      <td>female</td>\n",
              "      <td>26.0</td>\n",
              "      <td>0</td>\n",
              "      <td>0</td>\n",
              "      <td>STON/O2. 3101282</td>\n",
              "      <td>7.9250</td>\n",
              "      <td>NaN</td>\n",
              "      <td>S</td>\n",
              "    </tr>\n",
              "    <tr>\n",
              "      <th>3</th>\n",
              "      <td>4</td>\n",
              "      <td>1</td>\n",
              "      <td>1</td>\n",
              "      <td>Futrelle, Mrs. Jacques Heath (Lily May Peel)</td>\n",
              "      <td>female</td>\n",
              "      <td>35.0</td>\n",
              "      <td>1</td>\n",
              "      <td>0</td>\n",
              "      <td>113803</td>\n",
              "      <td>53.1000</td>\n",
              "      <td>C123</td>\n",
              "      <td>S</td>\n",
              "    </tr>\n",
              "    <tr>\n",
              "      <th>4</th>\n",
              "      <td>5</td>\n",
              "      <td>0</td>\n",
              "      <td>3</td>\n",
              "      <td>Allen, Mr. William Henry</td>\n",
              "      <td>male</td>\n",
              "      <td>35.0</td>\n",
              "      <td>0</td>\n",
              "      <td>0</td>\n",
              "      <td>373450</td>\n",
              "      <td>8.0500</td>\n",
              "      <td>NaN</td>\n",
              "      <td>S</td>\n",
              "    </tr>\n",
              "  </tbody>\n",
              "</table>\n",
              "</div>"
            ],
            "text/plain": [
              "   PassengerId  Survived  Pclass  \\\n",
              "0            1         0       3   \n",
              "1            2         1       1   \n",
              "2            3         1       3   \n",
              "3            4         1       1   \n",
              "4            5         0       3   \n",
              "\n",
              "                                                Name     Sex   Age  SibSp  \\\n",
              "0                            Braund, Mr. Owen Harris    male  22.0      1   \n",
              "1  Cumings, Mrs. John Bradley (Florence Briggs Th...  female  38.0      1   \n",
              "2                             Heikkinen, Miss. Laina  female  26.0      0   \n",
              "3       Futrelle, Mrs. Jacques Heath (Lily May Peel)  female  35.0      1   \n",
              "4                           Allen, Mr. William Henry    male  35.0      0   \n",
              "\n",
              "   Parch            Ticket     Fare Cabin Embarked  \n",
              "0      0         A/5 21171   7.2500   NaN        S  \n",
              "1      0          PC 17599  71.2833   C85        C  \n",
              "2      0  STON/O2. 3101282   7.9250   NaN        S  \n",
              "3      0            113803  53.1000  C123        S  \n",
              "4      0            373450   8.0500   NaN        S  "
            ]
          },
          "execution_count": 4,
          "metadata": {},
          "output_type": "execute_result"
        }
      ],
      "source": [
        "train_data = pd.read_csv('../input/titanic/train.csv')\n",
        "train_data.head()"
      ]
    },
    {
      "cell_type": "code",
      "execution_count": null,
      "id": "37e4f0c4",
      "metadata": {
        "execution": {
          "iopub.execute_input": "2022-09-24T14:19:47.512860Z",
          "iopub.status.busy": "2022-09-24T14:19:47.512166Z",
          "iopub.status.idle": "2022-09-24T14:19:47.557149Z",
          "shell.execute_reply": "2022-09-24T14:19:47.555862Z"
        },
        "papermill": {
          "duration": 0.081315,
          "end_time": "2022-09-24T14:19:47.559765",
          "exception": false,
          "start_time": "2022-09-24T14:19:47.478450",
          "status": "completed"
        },
        "tags": [],
        "id": "37e4f0c4",
        "outputId": "548c2046-dc2e-495e-8754-bd12c971c917"
      },
      "outputs": [
        {
          "data": {
            "text/html": [
              "<div>\n",
              "<style scoped>\n",
              "    .dataframe tbody tr th:only-of-type {\n",
              "        vertical-align: middle;\n",
              "    }\n",
              "\n",
              "    .dataframe tbody tr th {\n",
              "        vertical-align: top;\n",
              "    }\n",
              "\n",
              "    .dataframe thead th {\n",
              "        text-align: right;\n",
              "    }\n",
              "</style>\n",
              "<table border=\"1\" class=\"dataframe\">\n",
              "  <thead>\n",
              "    <tr style=\"text-align: right;\">\n",
              "      <th></th>\n",
              "      <th>PassengerId</th>\n",
              "      <th>Survived</th>\n",
              "      <th>Pclass</th>\n",
              "      <th>Age</th>\n",
              "      <th>SibSp</th>\n",
              "      <th>Parch</th>\n",
              "      <th>Fare</th>\n",
              "    </tr>\n",
              "  </thead>\n",
              "  <tbody>\n",
              "    <tr>\n",
              "      <th>count</th>\n",
              "      <td>891.000000</td>\n",
              "      <td>891.000000</td>\n",
              "      <td>891.000000</td>\n",
              "      <td>714.000000</td>\n",
              "      <td>891.000000</td>\n",
              "      <td>891.000000</td>\n",
              "      <td>891.000000</td>\n",
              "    </tr>\n",
              "    <tr>\n",
              "      <th>mean</th>\n",
              "      <td>446.000000</td>\n",
              "      <td>0.383838</td>\n",
              "      <td>2.308642</td>\n",
              "      <td>29.699118</td>\n",
              "      <td>0.523008</td>\n",
              "      <td>0.381594</td>\n",
              "      <td>32.204208</td>\n",
              "    </tr>\n",
              "    <tr>\n",
              "      <th>std</th>\n",
              "      <td>257.353842</td>\n",
              "      <td>0.486592</td>\n",
              "      <td>0.836071</td>\n",
              "      <td>14.526497</td>\n",
              "      <td>1.102743</td>\n",
              "      <td>0.806057</td>\n",
              "      <td>49.693429</td>\n",
              "    </tr>\n",
              "    <tr>\n",
              "      <th>min</th>\n",
              "      <td>1.000000</td>\n",
              "      <td>0.000000</td>\n",
              "      <td>1.000000</td>\n",
              "      <td>0.420000</td>\n",
              "      <td>0.000000</td>\n",
              "      <td>0.000000</td>\n",
              "      <td>0.000000</td>\n",
              "    </tr>\n",
              "    <tr>\n",
              "      <th>25%</th>\n",
              "      <td>223.500000</td>\n",
              "      <td>0.000000</td>\n",
              "      <td>2.000000</td>\n",
              "      <td>20.125000</td>\n",
              "      <td>0.000000</td>\n",
              "      <td>0.000000</td>\n",
              "      <td>7.910400</td>\n",
              "    </tr>\n",
              "    <tr>\n",
              "      <th>50%</th>\n",
              "      <td>446.000000</td>\n",
              "      <td>0.000000</td>\n",
              "      <td>3.000000</td>\n",
              "      <td>28.000000</td>\n",
              "      <td>0.000000</td>\n",
              "      <td>0.000000</td>\n",
              "      <td>14.454200</td>\n",
              "    </tr>\n",
              "    <tr>\n",
              "      <th>75%</th>\n",
              "      <td>668.500000</td>\n",
              "      <td>1.000000</td>\n",
              "      <td>3.000000</td>\n",
              "      <td>38.000000</td>\n",
              "      <td>1.000000</td>\n",
              "      <td>0.000000</td>\n",
              "      <td>31.000000</td>\n",
              "    </tr>\n",
              "    <tr>\n",
              "      <th>max</th>\n",
              "      <td>891.000000</td>\n",
              "      <td>1.000000</td>\n",
              "      <td>3.000000</td>\n",
              "      <td>80.000000</td>\n",
              "      <td>8.000000</td>\n",
              "      <td>6.000000</td>\n",
              "      <td>512.329200</td>\n",
              "    </tr>\n",
              "  </tbody>\n",
              "</table>\n",
              "</div>"
            ],
            "text/plain": [
              "       PassengerId    Survived      Pclass         Age       SibSp  \\\n",
              "count   891.000000  891.000000  891.000000  714.000000  891.000000   \n",
              "mean    446.000000    0.383838    2.308642   29.699118    0.523008   \n",
              "std     257.353842    0.486592    0.836071   14.526497    1.102743   \n",
              "min       1.000000    0.000000    1.000000    0.420000    0.000000   \n",
              "25%     223.500000    0.000000    2.000000   20.125000    0.000000   \n",
              "50%     446.000000    0.000000    3.000000   28.000000    0.000000   \n",
              "75%     668.500000    1.000000    3.000000   38.000000    1.000000   \n",
              "max     891.000000    1.000000    3.000000   80.000000    8.000000   \n",
              "\n",
              "            Parch        Fare  \n",
              "count  891.000000  891.000000  \n",
              "mean     0.381594   32.204208  \n",
              "std      0.806057   49.693429  \n",
              "min      0.000000    0.000000  \n",
              "25%      0.000000    7.910400  \n",
              "50%      0.000000   14.454200  \n",
              "75%      0.000000   31.000000  \n",
              "max      6.000000  512.329200  "
            ]
          },
          "execution_count": 5,
          "metadata": {},
          "output_type": "execute_result"
        }
      ],
      "source": [
        "train_data.describe()"
      ]
    },
    {
      "cell_type": "code",
      "execution_count": null,
      "id": "48896d9c",
      "metadata": {
        "execution": {
          "iopub.execute_input": "2022-09-24T14:19:47.622958Z",
          "iopub.status.busy": "2022-09-24T14:19:47.622328Z",
          "iopub.status.idle": "2022-09-24T14:19:47.629365Z",
          "shell.execute_reply": "2022-09-24T14:19:47.628198Z"
        },
        "papermill": {
          "duration": 0.041404,
          "end_time": "2022-09-24T14:19:47.631547",
          "exception": false,
          "start_time": "2022-09-24T14:19:47.590143",
          "status": "completed"
        },
        "tags": [],
        "id": "48896d9c",
        "outputId": "62c48b34-6879-4b69-85c1-c733692043a5"
      },
      "outputs": [
        {
          "data": {
            "text/plain": [
              "(891, 12)"
            ]
          },
          "execution_count": 6,
          "metadata": {},
          "output_type": "execute_result"
        }
      ],
      "source": [
        "train_data.shape"
      ]
    },
    {
      "cell_type": "code",
      "execution_count": null,
      "id": "7ab66ced",
      "metadata": {
        "execution": {
          "iopub.execute_input": "2022-09-24T14:19:47.693379Z",
          "iopub.status.busy": "2022-09-24T14:19:47.692886Z",
          "iopub.status.idle": "2022-09-24T14:19:47.724121Z",
          "shell.execute_reply": "2022-09-24T14:19:47.722931Z"
        },
        "papermill": {
          "duration": 0.065234,
          "end_time": "2022-09-24T14:19:47.726425",
          "exception": false,
          "start_time": "2022-09-24T14:19:47.661191",
          "status": "completed"
        },
        "tags": [],
        "id": "7ab66ced",
        "outputId": "648ce32d-9d9f-4e44-ee3e-364c3ce25403"
      },
      "outputs": [
        {
          "data": {
            "text/html": [
              "<div>\n",
              "<style scoped>\n",
              "    .dataframe tbody tr th:only-of-type {\n",
              "        vertical-align: middle;\n",
              "    }\n",
              "\n",
              "    .dataframe tbody tr th {\n",
              "        vertical-align: top;\n",
              "    }\n",
              "\n",
              "    .dataframe thead th {\n",
              "        text-align: right;\n",
              "    }\n",
              "</style>\n",
              "<table border=\"1\" class=\"dataframe\">\n",
              "  <thead>\n",
              "    <tr style=\"text-align: right;\">\n",
              "      <th></th>\n",
              "      <th>Datatype</th>\n",
              "      <th>Non_Null_Count</th>\n",
              "      <th>Null_Count</th>\n",
              "      <th>Null_Percentage</th>\n",
              "      <th>Unique_Values_Count</th>\n",
              "    </tr>\n",
              "  </thead>\n",
              "  <tbody>\n",
              "    <tr>\n",
              "      <th>Cabin</th>\n",
              "      <td>object</td>\n",
              "      <td>204</td>\n",
              "      <td>687</td>\n",
              "      <td>77.10</td>\n",
              "      <td>147</td>\n",
              "    </tr>\n",
              "    <tr>\n",
              "      <th>Age</th>\n",
              "      <td>float64</td>\n",
              "      <td>714</td>\n",
              "      <td>177</td>\n",
              "      <td>19.87</td>\n",
              "      <td>88</td>\n",
              "    </tr>\n",
              "    <tr>\n",
              "      <th>Embarked</th>\n",
              "      <td>object</td>\n",
              "      <td>889</td>\n",
              "      <td>2</td>\n",
              "      <td>0.22</td>\n",
              "      <td>3</td>\n",
              "    </tr>\n",
              "    <tr>\n",
              "      <th>PassengerId</th>\n",
              "      <td>int64</td>\n",
              "      <td>891</td>\n",
              "      <td>0</td>\n",
              "      <td>0.00</td>\n",
              "      <td>891</td>\n",
              "    </tr>\n",
              "    <tr>\n",
              "      <th>Survived</th>\n",
              "      <td>int64</td>\n",
              "      <td>891</td>\n",
              "      <td>0</td>\n",
              "      <td>0.00</td>\n",
              "      <td>2</td>\n",
              "    </tr>\n",
              "    <tr>\n",
              "      <th>Pclass</th>\n",
              "      <td>int64</td>\n",
              "      <td>891</td>\n",
              "      <td>0</td>\n",
              "      <td>0.00</td>\n",
              "      <td>3</td>\n",
              "    </tr>\n",
              "    <tr>\n",
              "      <th>Name</th>\n",
              "      <td>object</td>\n",
              "      <td>891</td>\n",
              "      <td>0</td>\n",
              "      <td>0.00</td>\n",
              "      <td>891</td>\n",
              "    </tr>\n",
              "    <tr>\n",
              "      <th>Sex</th>\n",
              "      <td>object</td>\n",
              "      <td>891</td>\n",
              "      <td>0</td>\n",
              "      <td>0.00</td>\n",
              "      <td>2</td>\n",
              "    </tr>\n",
              "    <tr>\n",
              "      <th>SibSp</th>\n",
              "      <td>int64</td>\n",
              "      <td>891</td>\n",
              "      <td>0</td>\n",
              "      <td>0.00</td>\n",
              "      <td>7</td>\n",
              "    </tr>\n",
              "    <tr>\n",
              "      <th>Parch</th>\n",
              "      <td>int64</td>\n",
              "      <td>891</td>\n",
              "      <td>0</td>\n",
              "      <td>0.00</td>\n",
              "      <td>7</td>\n",
              "    </tr>\n",
              "    <tr>\n",
              "      <th>Ticket</th>\n",
              "      <td>object</td>\n",
              "      <td>891</td>\n",
              "      <td>0</td>\n",
              "      <td>0.00</td>\n",
              "      <td>681</td>\n",
              "    </tr>\n",
              "    <tr>\n",
              "      <th>Fare</th>\n",
              "      <td>float64</td>\n",
              "      <td>891</td>\n",
              "      <td>0</td>\n",
              "      <td>0.00</td>\n",
              "      <td>248</td>\n",
              "    </tr>\n",
              "  </tbody>\n",
              "</table>\n",
              "</div>"
            ],
            "text/plain": [
              "            Datatype  Non_Null_Count  Null_Count  Null_Percentage  \\\n",
              "Cabin         object             204         687            77.10   \n",
              "Age          float64             714         177            19.87   \n",
              "Embarked      object             889           2             0.22   \n",
              "PassengerId    int64             891           0             0.00   \n",
              "Survived       int64             891           0             0.00   \n",
              "Pclass         int64             891           0             0.00   \n",
              "Name          object             891           0             0.00   \n",
              "Sex           object             891           0             0.00   \n",
              "SibSp          int64             891           0             0.00   \n",
              "Parch          int64             891           0             0.00   \n",
              "Ticket        object             891           0             0.00   \n",
              "Fare         float64             891           0             0.00   \n",
              "\n",
              "             Unique_Values_Count  \n",
              "Cabin                        147  \n",
              "Age                           88  \n",
              "Embarked                       3  \n",
              "PassengerId                  891  \n",
              "Survived                       2  \n",
              "Pclass                         3  \n",
              "Name                         891  \n",
              "Sex                            2  \n",
              "SibSp                          7  \n",
              "Parch                          7  \n",
              "Ticket                       681  \n",
              "Fare                         248  "
            ]
          },
          "execution_count": 7,
          "metadata": {},
          "output_type": "execute_result"
        }
      ],
      "source": [
        "# Checking detail information about train data.\n",
        "def getDatasetDetail(data) : \n",
        "    return pd.DataFrame({\n",
        "                'Datatype' : data.dtypes.astype(str), \n",
        "                'Non_Null_Count': data.count(axis = 0).astype(int), \n",
        "                'Null_Count': data.isnull().sum().astype(int), \n",
        "                'Null_Percentage': round(data.isnull().sum()/len(data) * 100 , 2), \n",
        "                'Unique_Values_Count': data.nunique().astype(int) \n",
        "                 }).sort_values(by='Null_Percentage', ascending=False)\n",
        "\n",
        "getDatasetDetail(train_data)"
      ]
    },
    {
      "cell_type": "markdown",
      "id": "cf824841",
      "metadata": {
        "papermill": {
          "duration": 0.03015,
          "end_time": "2022-09-24T14:19:47.786901",
          "exception": false,
          "start_time": "2022-09-24T14:19:47.756751",
          "status": "completed"
        },
        "tags": [],
        "id": "cf824841"
      },
      "source": [
        "**Derive new variables**"
      ]
    },
    {
      "cell_type": "markdown",
      "id": "778d4ec6",
      "metadata": {
        "papermill": {
          "duration": 0.03003,
          "end_time": "2022-09-24T14:19:47.847375",
          "exception": false,
          "start_time": "2022-09-24T14:19:47.817345",
          "status": "completed"
        },
        "tags": [],
        "id": "778d4ec6"
      },
      "source": [
        "Create a new varibles wheather based in cabin information"
      ]
    },
    {
      "cell_type": "code",
      "execution_count": null,
      "id": "5ed1753f",
      "metadata": {
        "execution": {
          "iopub.execute_input": "2022-09-24T14:19:47.910575Z",
          "iopub.status.busy": "2022-09-24T14:19:47.909621Z",
          "iopub.status.idle": "2022-09-24T14:19:47.916848Z",
          "shell.execute_reply": "2022-09-24T14:19:47.916050Z"
        },
        "papermill": {
          "duration": 0.041327,
          "end_time": "2022-09-24T14:19:47.918942",
          "exception": false,
          "start_time": "2022-09-24T14:19:47.877615",
          "status": "completed"
        },
        "tags": [],
        "id": "5ed1753f"
      },
      "outputs": [],
      "source": [
        "train_data[\"CabinBool\"] = (train_data[\"Cabin\"].notnull().astype('int'))"
      ]
    },
    {
      "cell_type": "markdown",
      "id": "8d5d8a37",
      "metadata": {
        "papermill": {
          "duration": 0.029996,
          "end_time": "2022-09-24T14:19:47.979168",
          "exception": false,
          "start_time": "2022-09-24T14:19:47.949172",
          "status": "completed"
        },
        "tags": [],
        "id": "8d5d8a37"
      },
      "source": [
        "Create a new variable using Name variable"
      ]
    },
    {
      "cell_type": "code",
      "execution_count": null,
      "id": "5e66312e",
      "metadata": {
        "execution": {
          "iopub.execute_input": "2022-09-24T14:19:48.044502Z",
          "iopub.status.busy": "2022-09-24T14:19:48.043423Z",
          "iopub.status.idle": "2022-09-24T14:19:48.051915Z",
          "shell.execute_reply": "2022-09-24T14:19:48.051037Z"
        },
        "papermill": {
          "duration": 0.043125,
          "end_time": "2022-09-24T14:19:48.054357",
          "exception": false,
          "start_time": "2022-09-24T14:19:48.011232",
          "status": "completed"
        },
        "tags": [],
        "id": "5e66312e"
      },
      "outputs": [],
      "source": [
        "train_data['Name_title'] = train_data['Name'].apply(lambda x: x.split(',')[1].split('.')[0].strip())"
      ]
    },
    {
      "cell_type": "code",
      "execution_count": null,
      "id": "5f090a31",
      "metadata": {
        "execution": {
          "iopub.execute_input": "2022-09-24T14:19:48.118526Z",
          "iopub.status.busy": "2022-09-24T14:19:48.117799Z",
          "iopub.status.idle": "2022-09-24T14:19:48.127194Z",
          "shell.execute_reply": "2022-09-24T14:19:48.126079Z"
        },
        "papermill": {
          "duration": 0.043953,
          "end_time": "2022-09-24T14:19:48.129334",
          "exception": false,
          "start_time": "2022-09-24T14:19:48.085381",
          "status": "completed"
        },
        "tags": [],
        "id": "5f090a31",
        "outputId": "a09bb991-fbdd-4d7a-ea22-28932702d53e"
      },
      "outputs": [
        {
          "data": {
            "text/plain": [
              "Mr              517\n",
              "Miss            182\n",
              "Mrs             125\n",
              "Master           40\n",
              "Dr                7\n",
              "Rev               6\n",
              "Mlle              2\n",
              "Major             2\n",
              "Col               2\n",
              "the Countess      1\n",
              "Capt              1\n",
              "Ms                1\n",
              "Sir               1\n",
              "Lady              1\n",
              "Mme               1\n",
              "Don               1\n",
              "Jonkheer          1\n",
              "Name: Name_title, dtype: int64"
            ]
          },
          "execution_count": 10,
          "metadata": {},
          "output_type": "execute_result"
        }
      ],
      "source": [
        "train_data['Name_title'].value_counts()"
      ]
    },
    {
      "cell_type": "code",
      "execution_count": null,
      "id": "1ff5dfe0",
      "metadata": {
        "execution": {
          "iopub.execute_input": "2022-09-24T14:19:48.192543Z",
          "iopub.status.busy": "2022-09-24T14:19:48.191440Z",
          "iopub.status.idle": "2022-09-24T14:19:48.198380Z",
          "shell.execute_reply": "2022-09-24T14:19:48.197326Z"
        },
        "papermill": {
          "duration": 0.04093,
          "end_time": "2022-09-24T14:19:48.200597",
          "exception": false,
          "start_time": "2022-09-24T14:19:48.159667",
          "status": "completed"
        },
        "tags": [],
        "id": "1ff5dfe0"
      },
      "outputs": [],
      "source": [
        "train_data['Name_title'] = train_data['Name_title'].apply(lambda a: 'Other' if a not in ['Mr', 'Miss', 'Mrs', 'Master'] else a)"
      ]
    },
    {
      "cell_type": "code",
      "execution_count": null,
      "id": "49f25158",
      "metadata": {
        "execution": {
          "iopub.execute_input": "2022-09-24T14:19:48.267690Z",
          "iopub.status.busy": "2022-09-24T14:19:48.266912Z",
          "iopub.status.idle": "2022-09-24T14:19:48.276487Z",
          "shell.execute_reply": "2022-09-24T14:19:48.275169Z"
        },
        "papermill": {
          "duration": 0.045426,
          "end_time": "2022-09-24T14:19:48.279058",
          "exception": false,
          "start_time": "2022-09-24T14:19:48.233632",
          "status": "completed"
        },
        "tags": [],
        "id": "49f25158",
        "outputId": "ab461764-0b89-4db9-91c0-ec4002cad3e0"
      },
      "outputs": [
        {
          "data": {
            "text/plain": [
              "Mr        517\n",
              "Miss      182\n",
              "Mrs       125\n",
              "Master     40\n",
              "Other      27\n",
              "Name: Name_title, dtype: int64"
            ]
          },
          "execution_count": 12,
          "metadata": {},
          "output_type": "execute_result"
        }
      ],
      "source": [
        "train_data['Name_title'].value_counts()"
      ]
    },
    {
      "cell_type": "code",
      "execution_count": null,
      "id": "70cf0c17",
      "metadata": {
        "execution": {
          "iopub.execute_input": "2022-09-24T14:19:48.347589Z",
          "iopub.status.busy": "2022-09-24T14:19:48.347064Z",
          "iopub.status.idle": "2022-09-24T14:19:48.352887Z",
          "shell.execute_reply": "2022-09-24T14:19:48.351928Z"
        },
        "papermill": {
          "duration": 0.043301,
          "end_time": "2022-09-24T14:19:48.355215",
          "exception": false,
          "start_time": "2022-09-24T14:19:48.311914",
          "status": "completed"
        },
        "tags": [],
        "id": "70cf0c17"
      },
      "outputs": [],
      "source": [
        "def return_title(title, Age):\n",
        "    if title != 'Mr':\n",
        "        return title\n",
        "    elif (title == 'Mr') & (Age > 25.0):\n",
        "        return 'Mr1'\n",
        "    else:\n",
        "        return 'Mr2'"
      ]
    },
    {
      "cell_type": "code",
      "execution_count": null,
      "id": "f3e8f70d",
      "metadata": {
        "execution": {
          "iopub.execute_input": "2022-09-24T14:19:48.420465Z",
          "iopub.status.busy": "2022-09-24T14:19:48.419735Z",
          "iopub.status.idle": "2022-09-24T14:19:48.448967Z",
          "shell.execute_reply": "2022-09-24T14:19:48.448011Z"
        },
        "papermill": {
          "duration": 0.065121,
          "end_time": "2022-09-24T14:19:48.451773",
          "exception": false,
          "start_time": "2022-09-24T14:19:48.386652",
          "status": "completed"
        },
        "tags": [],
        "id": "f3e8f70d"
      },
      "outputs": [],
      "source": [
        "#train_data[train_data['Name_title'] == 'Mr'].groupby('Age').count()['PassengerId']\n",
        "train_data['Name_title'] = train_data[['Name_title', 'Age']].apply(lambda a: return_title(a.Name_title, a.Age), axis = 1)"
      ]
    },
    {
      "cell_type": "markdown",
      "id": "359da8eb",
      "metadata": {
        "papermill": {
          "duration": 0.034667,
          "end_time": "2022-09-24T14:19:48.517925",
          "exception": false,
          "start_time": "2022-09-24T14:19:48.483258",
          "status": "completed"
        },
        "tags": [],
        "id": "359da8eb"
      },
      "source": [
        "Let's check title vs survival ratio"
      ]
    },
    {
      "cell_type": "code",
      "execution_count": null,
      "id": "9443fbc9",
      "metadata": {
        "execution": {
          "iopub.execute_input": "2022-09-24T14:19:48.587038Z",
          "iopub.status.busy": "2022-09-24T14:19:48.586582Z",
          "iopub.status.idle": "2022-09-24T14:19:48.599645Z",
          "shell.execute_reply": "2022-09-24T14:19:48.598530Z"
        },
        "papermill": {
          "duration": 0.048461,
          "end_time": "2022-09-24T14:19:48.602283",
          "exception": false,
          "start_time": "2022-09-24T14:19:48.553822",
          "status": "completed"
        },
        "tags": [],
        "id": "9443fbc9",
        "outputId": "65a148e0-0b9d-4726-8d9a-e5864eba05be"
      },
      "outputs": [
        {
          "data": {
            "text/plain": [
              "Name_title  Survived\n",
              "Master      0            17\n",
              "            1            23\n",
              "Miss        0            55\n",
              "            1           127\n",
              "Mr1         0           205\n",
              "            1            51\n",
              "Mr2         0           231\n",
              "            1            30\n",
              "Mrs         0            26\n",
              "            1            99\n",
              "Other       0            15\n",
              "            1            12\n",
              "Name: PassengerId, dtype: int64"
            ]
          },
          "execution_count": 15,
          "metadata": {},
          "output_type": "execute_result"
        }
      ],
      "source": [
        "train_data.groupby(['Name_title','Survived']).count()['PassengerId']"
      ]
    },
    {
      "cell_type": "markdown",
      "id": "4187e972",
      "metadata": {
        "papermill": {
          "duration": 0.032306,
          "end_time": "2022-09-24T14:19:48.666487",
          "exception": false,
          "start_time": "2022-09-24T14:19:48.634181",
          "status": "completed"
        },
        "tags": [],
        "id": "4187e972"
      },
      "source": [
        "Create a new variable using Title variable"
      ]
    },
    {
      "cell_type": "code",
      "execution_count": null,
      "id": "ae2b15a7",
      "metadata": {
        "execution": {
          "iopub.execute_input": "2022-09-24T14:19:48.731586Z",
          "iopub.status.busy": "2022-09-24T14:19:48.730886Z",
          "iopub.status.idle": "2022-09-24T14:19:48.737028Z",
          "shell.execute_reply": "2022-09-24T14:19:48.736160Z"
        },
        "papermill": {
          "duration": 0.040326,
          "end_time": "2022-09-24T14:19:48.739294",
          "exception": false,
          "start_time": "2022-09-24T14:19:48.698968",
          "status": "completed"
        },
        "tags": [],
        "id": "ae2b15a7"
      },
      "outputs": [],
      "source": [
        "train_data['Ticket_cls'] = train_data['Ticket'].apply(lambda a: a.split(' ')[0])"
      ]
    },
    {
      "cell_type": "code",
      "execution_count": null,
      "id": "04a508ee",
      "metadata": {
        "execution": {
          "iopub.execute_input": "2022-09-24T14:19:48.805819Z",
          "iopub.status.busy": "2022-09-24T14:19:48.805123Z",
          "iopub.status.idle": "2022-09-24T14:19:48.811842Z",
          "shell.execute_reply": "2022-09-24T14:19:48.810598Z"
        },
        "papermill": {
          "duration": 0.043658,
          "end_time": "2022-09-24T14:19:48.814727",
          "exception": false,
          "start_time": "2022-09-24T14:19:48.771069",
          "status": "completed"
        },
        "tags": [],
        "id": "04a508ee"
      },
      "outputs": [],
      "source": [
        "train_data['Ticket_cls'] = train_data['Ticket_cls'].apply(lambda a: 'Numeric' if a.isnumeric() else 'Alphabet')"
      ]
    },
    {
      "cell_type": "code",
      "execution_count": null,
      "id": "569cf366",
      "metadata": {
        "execution": {
          "iopub.execute_input": "2022-09-24T14:19:48.881300Z",
          "iopub.status.busy": "2022-09-24T14:19:48.880865Z",
          "iopub.status.idle": "2022-09-24T14:19:48.885904Z",
          "shell.execute_reply": "2022-09-24T14:19:48.885074Z"
        },
        "papermill": {
          "duration": 0.041644,
          "end_time": "2022-09-24T14:19:48.888312",
          "exception": false,
          "start_time": "2022-09-24T14:19:48.846668",
          "status": "completed"
        },
        "tags": [],
        "id": "569cf366"
      },
      "outputs": [],
      "source": [
        "def return_numeric(cls, Ticket):\n",
        "    if cls != 'Numeric':\n",
        "        return cls\n",
        "    elif (cls == 'Numeric') & (int(Ticket) > 120000):\n",
        "        return 'Numeric1'\n",
        "    else:\n",
        "        return 'Numeric2'"
      ]
    },
    {
      "cell_type": "code",
      "execution_count": null,
      "id": "dd54aa79",
      "metadata": {
        "execution": {
          "iopub.execute_input": "2022-09-24T14:19:48.954167Z",
          "iopub.status.busy": "2022-09-24T14:19:48.953139Z",
          "iopub.status.idle": "2022-09-24T14:19:48.983445Z",
          "shell.execute_reply": "2022-09-24T14:19:48.982545Z"
        },
        "papermill": {
          "duration": 0.066637,
          "end_time": "2022-09-24T14:19:48.986078",
          "exception": false,
          "start_time": "2022-09-24T14:19:48.919441",
          "status": "completed"
        },
        "tags": [],
        "id": "dd54aa79"
      },
      "outputs": [],
      "source": [
        "train_data['Ticket_cls'] = train_data[['Ticket_cls', 'Ticket']].apply(lambda a: return_numeric(a.Ticket_cls, a.Ticket), axis = 1)"
      ]
    },
    {
      "cell_type": "markdown",
      "id": "70a69aab",
      "metadata": {
        "papermill": {
          "duration": 0.033885,
          "end_time": "2022-09-24T14:19:49.054515",
          "exception": false,
          "start_time": "2022-09-24T14:19:49.020630",
          "status": "completed"
        },
        "tags": [],
        "id": "70a69aab"
      },
      "source": [
        "Let's check title vs survival ratio"
      ]
    },
    {
      "cell_type": "code",
      "execution_count": null,
      "id": "4c3c8a24",
      "metadata": {
        "execution": {
          "iopub.execute_input": "2022-09-24T14:19:49.122119Z",
          "iopub.status.busy": "2022-09-24T14:19:49.121432Z",
          "iopub.status.idle": "2022-09-24T14:19:49.133415Z",
          "shell.execute_reply": "2022-09-24T14:19:49.132510Z"
        },
        "papermill": {
          "duration": 0.04698,
          "end_time": "2022-09-24T14:19:49.135737",
          "exception": false,
          "start_time": "2022-09-24T14:19:49.088757",
          "status": "completed"
        },
        "tags": [],
        "id": "4c3c8a24",
        "outputId": "59b6a0b3-5d34-4425-fed6-b8b94a7efe3d"
      },
      "outputs": [
        {
          "data": {
            "text/plain": [
              "Ticket_cls  Survived\n",
              "Alphabet    0           142\n",
              "            1            88\n",
              "Numeric1    0           259\n",
              "            1           100\n",
              "Numeric2    0           148\n",
              "            1           154\n",
              "Name: PassengerId, dtype: int64"
            ]
          },
          "execution_count": 20,
          "metadata": {},
          "output_type": "execute_result"
        }
      ],
      "source": [
        "train_data.groupby(['Ticket_cls','Survived']).count()['PassengerId']"
      ]
    },
    {
      "cell_type": "markdown",
      "id": "0ae1f77d",
      "metadata": {
        "papermill": {
          "duration": 0.030537,
          "end_time": "2022-09-24T14:19:49.198407",
          "exception": false,
          "start_time": "2022-09-24T14:19:49.167870",
          "status": "completed"
        },
        "tags": [],
        "id": "0ae1f77d"
      },
      "source": [
        "Create new variable using SibSp and Parch variables"
      ]
    },
    {
      "cell_type": "code",
      "execution_count": null,
      "id": "5833eb4e",
      "metadata": {
        "execution": {
          "iopub.execute_input": "2022-09-24T14:19:49.263126Z",
          "iopub.status.busy": "2022-09-24T14:19:49.262695Z",
          "iopub.status.idle": "2022-09-24T14:19:49.269355Z",
          "shell.execute_reply": "2022-09-24T14:19:49.268070Z"
        },
        "papermill": {
          "duration": 0.04132,
          "end_time": "2022-09-24T14:19:49.271811",
          "exception": false,
          "start_time": "2022-09-24T14:19:49.230491",
          "status": "completed"
        },
        "tags": [],
        "id": "5833eb4e"
      },
      "outputs": [],
      "source": [
        "train_data['FamilySize'] = train_data['SibSp'] + train_data['Parch'] + 1"
      ]
    },
    {
      "cell_type": "code",
      "execution_count": null,
      "id": "87ec6623",
      "metadata": {
        "execution": {
          "iopub.execute_input": "2022-09-24T14:19:49.336265Z",
          "iopub.status.busy": "2022-09-24T14:19:49.335854Z",
          "iopub.status.idle": "2022-09-24T14:19:49.341881Z",
          "shell.execute_reply": "2022-09-24T14:19:49.340966Z"
        },
        "papermill": {
          "duration": 0.041425,
          "end_time": "2022-09-24T14:19:49.344139",
          "exception": false,
          "start_time": "2022-09-24T14:19:49.302714",
          "status": "completed"
        },
        "tags": [],
        "id": "87ec6623"
      },
      "outputs": [],
      "source": [
        "train_data['Solo_traveller'] = train_data['FamilySize'].apply(lambda a: 'Yes' if a == 1 else 'No')"
      ]
    },
    {
      "cell_type": "markdown",
      "id": "88899cc1",
      "metadata": {
        "papermill": {
          "duration": 0.030321,
          "end_time": "2022-09-24T14:19:49.405962",
          "exception": false,
          "start_time": "2022-09-24T14:19:49.375641",
          "status": "completed"
        },
        "tags": [],
        "id": "88899cc1"
      },
      "source": [
        "**Data transformation**"
      ]
    },
    {
      "cell_type": "markdown",
      "id": "6775b835",
      "metadata": {
        "papermill": {
          "duration": 0.031012,
          "end_time": "2022-09-24T14:19:49.469832",
          "exception": false,
          "start_time": "2022-09-24T14:19:49.438820",
          "status": "completed"
        },
        "tags": [],
        "id": "6775b835"
      },
      "source": [
        "Check the skewness on Age"
      ]
    },
    {
      "cell_type": "code",
      "execution_count": null,
      "id": "99d8fcce",
      "metadata": {
        "execution": {
          "iopub.execute_input": "2022-09-24T14:19:49.534372Z",
          "iopub.status.busy": "2022-09-24T14:19:49.533716Z",
          "iopub.status.idle": "2022-09-24T14:19:49.897593Z",
          "shell.execute_reply": "2022-09-24T14:19:49.896720Z"
        },
        "papermill": {
          "duration": 0.399018,
          "end_time": "2022-09-24T14:19:49.899825",
          "exception": false,
          "start_time": "2022-09-24T14:19:49.500807",
          "status": "completed"
        },
        "tags": [],
        "id": "99d8fcce",
        "outputId": "06a74c7b-9569-4abc-dcb0-8158c8a0c563"
      },
      "outputs": [
        {
          "data": {
            "text/plain": [
              "Text(0.5, 1.0, 'Passenger Age Distribution')"
            ]
          },
          "execution_count": 23,
          "metadata": {},
          "output_type": "execute_result"
        },
        {
          "data": {
            "image/png": "[encoded data removed]",
            "text/plain": [
              "<Figure size 432x288 with 1 Axes>"
            ]
          },
          "metadata": {
            "needs_background": "light"
          },
          "output_type": "display_data"
        }
      ],
      "source": [
        "sns.distplot(train_data['Age'], label = 'Skewness: %.2f'%(train_data['Age'].skew()))\n",
        "plt.legend(loc = 'best')\n",
        "plt.title('Passenger Age Distribution')"
      ]
    },
    {
      "cell_type": "markdown",
      "id": "fa294a00",
      "metadata": {
        "papermill": {
          "duration": 0.033678,
          "end_time": "2022-09-24T14:19:49.966649",
          "exception": false,
          "start_time": "2022-09-24T14:19:49.932971",
          "status": "completed"
        },
        "tags": [],
        "id": "fa294a00"
      },
      "source": [
        "**Observation:** Skewness is fine for Age column"
      ]
    },
    {
      "cell_type": "markdown",
      "id": "f9fee1d2",
      "metadata": {
        "papermill": {
          "duration": 0.031829,
          "end_time": "2022-09-24T14:19:50.030528",
          "exception": false,
          "start_time": "2022-09-24T14:19:49.998699",
          "status": "completed"
        },
        "tags": [],
        "id": "f9fee1d2"
      },
      "source": [
        "Check the skewness on Fare"
      ]
    },
    {
      "cell_type": "code",
      "execution_count": null,
      "id": "c40161a6",
      "metadata": {
        "execution": {
          "iopub.execute_input": "2022-09-24T14:19:50.098048Z",
          "iopub.status.busy": "2022-09-24T14:19:50.097213Z",
          "iopub.status.idle": "2022-09-24T14:19:50.477773Z",
          "shell.execute_reply": "2022-09-24T14:19:50.476507Z"
        },
        "papermill": {
          "duration": 0.416152,
          "end_time": "2022-09-24T14:19:50.480324",
          "exception": false,
          "start_time": "2022-09-24T14:19:50.064172",
          "status": "completed"
        },
        "tags": [],
        "id": "c40161a6",
        "outputId": "e105ebe2-ece0-4132-c3da-10e1247c0b88"
      },
      "outputs": [
        {
          "data": {
            "text/plain": [
              "Text(0, 0.5, 'Passenger Fare Distribution')"
            ]
          },
          "execution_count": 24,
          "metadata": {},
          "output_type": "execute_result"
        },
        {
          "data": {
            "image/png": "[encoded data removed]",
            "text/plain": [
              "<Figure size 432x288 with 1 Axes>"
            ]
          },
          "metadata": {
            "needs_background": "light"
          },
          "output_type": "display_data"
        }
      ],
      "source": [
        "sns.distplot(train_data['Fare'], label = 'Skewness: %.2f'%(train_data['Fare'].skew()))\n",
        "plt.legend(loc = 'best')\n",
        "plt.ylabel('Passenger Fare Distribution')"
      ]
    },
    {
      "cell_type": "markdown",
      "id": "441c04bf",
      "metadata": {
        "papermill": {
          "duration": 0.031177,
          "end_time": "2022-09-24T14:19:50.543367",
          "exception": false,
          "start_time": "2022-09-24T14:19:50.512190",
          "status": "completed"
        },
        "tags": [],
        "id": "441c04bf"
      },
      "source": [
        "**Observation:** Skewness is not good in this scenarion. So, in next step correcting it using log transformation"
      ]
    },
    {
      "cell_type": "code",
      "execution_count": null,
      "id": "a88c5a1a",
      "metadata": {
        "execution": {
          "iopub.execute_input": "2022-09-24T14:19:50.608751Z",
          "iopub.status.busy": "2022-09-24T14:19:50.608338Z",
          "iopub.status.idle": "2022-09-24T14:19:50.615394Z",
          "shell.execute_reply": "2022-09-24T14:19:50.614310Z"
        },
        "papermill": {
          "duration": 0.042502,
          "end_time": "2022-09-24T14:19:50.617609",
          "exception": false,
          "start_time": "2022-09-24T14:19:50.575107",
          "status": "completed"
        },
        "tags": [],
        "id": "a88c5a1a"
      },
      "outputs": [],
      "source": [
        "train_data['norm_fare'] = np.log(train_data['Fare'] + 1)"
      ]
    },
    {
      "cell_type": "code",
      "execution_count": null,
      "id": "13cbdf85",
      "metadata": {
        "execution": {
          "iopub.execute_input": "2022-09-24T14:19:50.686948Z",
          "iopub.status.busy": "2022-09-24T14:19:50.686505Z",
          "iopub.status.idle": "2022-09-24T14:19:51.024033Z",
          "shell.execute_reply": "2022-09-24T14:19:51.022867Z"
        },
        "papermill": {
          "duration": 0.376923,
          "end_time": "2022-09-24T14:19:51.026514",
          "exception": false,
          "start_time": "2022-09-24T14:19:50.649591",
          "status": "completed"
        },
        "tags": [],
        "id": "13cbdf85",
        "outputId": "d34b3db4-1f39-41b8-cda2-20cb20938271"
      },
      "outputs": [
        {
          "data": {
            "text/plain": [
              "Text(0.5, 1.0, 'Passenger Fare Distribution After Log Transformation')"
            ]
          },
          "execution_count": 26,
          "metadata": {},
          "output_type": "execute_result"
        },
        {
          "data": {
            "image/png": "[encoded data removed]",
            "text/plain": [
              "<Figure size 432x288 with 1 Axes>"
            ]
          },
          "metadata": {
            "needs_background": "light"
          },
          "output_type": "display_data"
        }
      ],
      "source": [
        "sns.distplot(train_data['norm_fare'], label = 'Skewness: %.2f'%(train_data['norm_fare'].skew()))\n",
        "plt.legend(loc = 'best')\n",
        "plt.title('Passenger Fare Distribution After Log Transformation')"
      ]
    },
    {
      "cell_type": "markdown",
      "id": "8e7f084d",
      "metadata": {
        "papermill": {
          "duration": 0.033033,
          "end_time": "2022-09-24T14:19:51.091821",
          "exception": false,
          "start_time": "2022-09-24T14:19:51.058788",
          "status": "completed"
        },
        "tags": [],
        "id": "8e7f084d"
      },
      "source": [
        "**Observation:** Skewness is fine after using log transformation"
      ]
    },
    {
      "cell_type": "markdown",
      "id": "f93b8a10",
      "metadata": {
        "papermill": {
          "duration": 0.031878,
          "end_time": "2022-09-24T14:19:51.155548",
          "exception": false,
          "start_time": "2022-09-24T14:19:51.123670",
          "status": "completed"
        },
        "tags": [],
        "id": "f93b8a10"
      },
      "source": [
        "**Fill missing values**"
      ]
    },
    {
      "cell_type": "code",
      "execution_count": null,
      "id": "648ce8ba",
      "metadata": {
        "execution": {
          "iopub.execute_input": "2022-09-24T14:19:51.224044Z",
          "iopub.status.busy": "2022-09-24T14:19:51.222855Z",
          "iopub.status.idle": "2022-09-24T14:19:51.231786Z",
          "shell.execute_reply": "2022-09-24T14:19:51.230969Z"
        },
        "papermill": {
          "duration": 0.046328,
          "end_time": "2022-09-24T14:19:51.234270",
          "exception": false,
          "start_time": "2022-09-24T14:19:51.187942",
          "status": "completed"
        },
        "tags": [],
        "id": "648ce8ba"
      },
      "outputs": [],
      "source": [
        "#Function to handle missing values\n",
        "def fill_Missing_Values(df):    \n",
        "    # check missing values\n",
        "    miss_col = df.isnull().sum()\n",
        "    # filter for null value columns\n",
        "    miss_col = miss_col[miss_col > 0]\n",
        "    #Loop missing columns\n",
        "    for column in miss_col.index:\n",
        "        if df[column].dtype.name == 'object':\n",
        "            # impute object type columns with mode\n",
        "            df[column].fillna(df[column].mode()[0], inplace=True)\n",
        "            \n",
        "        elif df[column].dtype.name == 'float64' or df[column].dtype.name == 'int64' or df[column].dtype.name == 'int32':\n",
        "            # impute numeric type columns with median\n",
        "            df[column] = df[column].fillna((df[column].median()))\n",
        "            \n",
        "        else:\n",
        "            print('Unable to handle: ', column)\n",
        "            \n",
        "    return df"
      ]
    },
    {
      "cell_type": "code",
      "execution_count": null,
      "id": "5b1f3514",
      "metadata": {
        "execution": {
          "iopub.execute_input": "2022-09-24T14:19:51.300766Z",
          "iopub.status.busy": "2022-09-24T14:19:51.299955Z",
          "iopub.status.idle": "2022-09-24T14:19:51.310460Z",
          "shell.execute_reply": "2022-09-24T14:19:51.309286Z"
        },
        "papermill": {
          "duration": 0.046647,
          "end_time": "2022-09-24T14:19:51.313022",
          "exception": false,
          "start_time": "2022-09-24T14:19:51.266375",
          "status": "completed"
        },
        "tags": [],
        "id": "5b1f3514"
      },
      "outputs": [],
      "source": [
        "train_data = fill_Missing_Values(train_data)"
      ]
    },
    {
      "cell_type": "code",
      "execution_count": null,
      "id": "763e624f",
      "metadata": {
        "execution": {
          "iopub.execute_input": "2022-09-24T14:19:51.380342Z",
          "iopub.status.busy": "2022-09-24T14:19:51.379529Z",
          "iopub.status.idle": "2022-09-24T14:19:51.406308Z",
          "shell.execute_reply": "2022-09-24T14:19:51.405028Z"
        },
        "papermill": {
          "duration": 0.063163,
          "end_time": "2022-09-24T14:19:51.408803",
          "exception": false,
          "start_time": "2022-09-24T14:19:51.345640",
          "status": "completed"
        },
        "tags": [],
        "id": "763e624f",
        "outputId": "f4c20619-b135-4f09-d620-e087526c8bbb"
      },
      "outputs": [
        {
          "data": {
            "text/html": [
              "<div>\n",
              "<style scoped>\n",
              "    .dataframe tbody tr th:only-of-type {\n",
              "        vertical-align: middle;\n",
              "    }\n",
              "\n",
              "    .dataframe tbody tr th {\n",
              "        vertical-align: top;\n",
              "    }\n",
              "\n",
              "    .dataframe thead th {\n",
              "        text-align: right;\n",
              "    }\n",
              "</style>\n",
              "<table border=\"1\" class=\"dataframe\">\n",
              "  <thead>\n",
              "    <tr style=\"text-align: right;\">\n",
              "      <th></th>\n",
              "      <th>Datatype</th>\n",
              "      <th>Non_Null_Count</th>\n",
              "      <th>Null_Count</th>\n",
              "      <th>Null_Percentage</th>\n",
              "      <th>Unique_Values_Count</th>\n",
              "    </tr>\n",
              "  </thead>\n",
              "  <tbody>\n",
              "    <tr>\n",
              "      <th>PassengerId</th>\n",
              "      <td>int64</td>\n",
              "      <td>891</td>\n",
              "      <td>0</td>\n",
              "      <td>0.0</td>\n",
              "      <td>891</td>\n",
              "    </tr>\n",
              "    <tr>\n",
              "      <th>Survived</th>\n",
              "      <td>int64</td>\n",
              "      <td>891</td>\n",
              "      <td>0</td>\n",
              "      <td>0.0</td>\n",
              "      <td>2</td>\n",
              "    </tr>\n",
              "    <tr>\n",
              "      <th>Solo_traveller</th>\n",
              "      <td>object</td>\n",
              "      <td>891</td>\n",
              "      <td>0</td>\n",
              "      <td>0.0</td>\n",
              "      <td>2</td>\n",
              "    </tr>\n",
              "    <tr>\n",
              "      <th>FamilySize</th>\n",
              "      <td>int64</td>\n",
              "      <td>891</td>\n",
              "      <td>0</td>\n",
              "      <td>0.0</td>\n",
              "      <td>9</td>\n",
              "    </tr>\n",
              "    <tr>\n",
              "      <th>Ticket_cls</th>\n",
              "      <td>object</td>\n",
              "      <td>891</td>\n",
              "      <td>0</td>\n",
              "      <td>0.0</td>\n",
              "      <td>3</td>\n",
              "    </tr>\n",
              "    <tr>\n",
              "      <th>Name_title</th>\n",
              "      <td>object</td>\n",
              "      <td>891</td>\n",
              "      <td>0</td>\n",
              "      <td>0.0</td>\n",
              "      <td>6</td>\n",
              "    </tr>\n",
              "    <tr>\n",
              "      <th>CabinBool</th>\n",
              "      <td>int64</td>\n",
              "      <td>891</td>\n",
              "      <td>0</td>\n",
              "      <td>0.0</td>\n",
              "      <td>2</td>\n",
              "    </tr>\n",
              "    <tr>\n",
              "      <th>Embarked</th>\n",
              "      <td>object</td>\n",
              "      <td>891</td>\n",
              "      <td>0</td>\n",
              "      <td>0.0</td>\n",
              "      <td>3</td>\n",
              "    </tr>\n",
              "    <tr>\n",
              "      <th>Cabin</th>\n",
              "      <td>object</td>\n",
              "      <td>891</td>\n",
              "      <td>0</td>\n",
              "      <td>0.0</td>\n",
              "      <td>147</td>\n",
              "    </tr>\n",
              "    <tr>\n",
              "      <th>Fare</th>\n",
              "      <td>float64</td>\n",
              "      <td>891</td>\n",
              "      <td>0</td>\n",
              "      <td>0.0</td>\n",
              "      <td>248</td>\n",
              "    </tr>\n",
              "    <tr>\n",
              "      <th>Ticket</th>\n",
              "      <td>object</td>\n",
              "      <td>891</td>\n",
              "      <td>0</td>\n",
              "      <td>0.0</td>\n",
              "      <td>681</td>\n",
              "    </tr>\n",
              "    <tr>\n",
              "      <th>Parch</th>\n",
              "      <td>int64</td>\n",
              "      <td>891</td>\n",
              "      <td>0</td>\n",
              "      <td>0.0</td>\n",
              "      <td>7</td>\n",
              "    </tr>\n",
              "    <tr>\n",
              "      <th>SibSp</th>\n",
              "      <td>int64</td>\n",
              "      <td>891</td>\n",
              "      <td>0</td>\n",
              "      <td>0.0</td>\n",
              "      <td>7</td>\n",
              "    </tr>\n",
              "    <tr>\n",
              "      <th>Age</th>\n",
              "      <td>float64</td>\n",
              "      <td>891</td>\n",
              "      <td>0</td>\n",
              "      <td>0.0</td>\n",
              "      <td>88</td>\n",
              "    </tr>\n",
              "    <tr>\n",
              "      <th>Sex</th>\n",
              "      <td>object</td>\n",
              "      <td>891</td>\n",
              "      <td>0</td>\n",
              "      <td>0.0</td>\n",
              "      <td>2</td>\n",
              "    </tr>\n",
              "    <tr>\n",
              "      <th>Name</th>\n",
              "      <td>object</td>\n",
              "      <td>891</td>\n",
              "      <td>0</td>\n",
              "      <td>0.0</td>\n",
              "      <td>891</td>\n",
              "    </tr>\n",
              "    <tr>\n",
              "      <th>Pclass</th>\n",
              "      <td>int64</td>\n",
              "      <td>891</td>\n",
              "      <td>0</td>\n",
              "      <td>0.0</td>\n",
              "      <td>3</td>\n",
              "    </tr>\n",
              "    <tr>\n",
              "      <th>norm_fare</th>\n",
              "      <td>float64</td>\n",
              "      <td>891</td>\n",
              "      <td>0</td>\n",
              "      <td>0.0</td>\n",
              "      <td>248</td>\n",
              "    </tr>\n",
              "  </tbody>\n",
              "</table>\n",
              "</div>"
            ],
            "text/plain": [
              "               Datatype  Non_Null_Count  Null_Count  Null_Percentage  \\\n",
              "PassengerId       int64             891           0              0.0   \n",
              "Survived          int64             891           0              0.0   \n",
              "Solo_traveller   object             891           0              0.0   \n",
              "FamilySize        int64             891           0              0.0   \n",
              "Ticket_cls       object             891           0              0.0   \n",
              "Name_title       object             891           0              0.0   \n",
              "CabinBool         int64             891           0              0.0   \n",
              "Embarked         object             891           0              0.0   \n",
              "Cabin            object             891           0              0.0   \n",
              "Fare            float64             891           0              0.0   \n",
              "Ticket           object             891           0              0.0   \n",
              "Parch             int64             891           0              0.0   \n",
              "SibSp             int64             891           0              0.0   \n",
              "Age             float64             891           0              0.0   \n",
              "Sex              object             891           0              0.0   \n",
              "Name             object             891           0              0.0   \n",
              "Pclass            int64             891           0              0.0   \n",
              "norm_fare       float64             891           0              0.0   \n",
              "\n",
              "                Unique_Values_Count  \n",
              "PassengerId                     891  \n",
              "Survived                          2  \n",
              "Solo_traveller                    2  \n",
              "FamilySize                        9  \n",
              "Ticket_cls                        3  \n",
              "Name_title                        6  \n",
              "CabinBool                         2  \n",
              "Embarked                          3  \n",
              "Cabin                           147  \n",
              "Fare                            248  \n",
              "Ticket                          681  \n",
              "Parch                             7  \n",
              "SibSp                             7  \n",
              "Age                              88  \n",
              "Sex                               2  \n",
              "Name                            891  \n",
              "Pclass                            3  \n",
              "norm_fare                       248  "
            ]
          },
          "execution_count": 29,
          "metadata": {},
          "output_type": "execute_result"
        }
      ],
      "source": [
        "getDatasetDetail(train_data)"
      ]
    },
    {
      "cell_type": "markdown",
      "id": "1f6f8124",
      "metadata": {
        "papermill": {
          "duration": 0.032671,
          "end_time": "2022-09-24T14:19:51.474584",
          "exception": false,
          "start_time": "2022-09-24T14:19:51.441913",
          "status": "completed"
        },
        "tags": [],
        "id": "1f6f8124"
      },
      "source": [
        "**Handle outliers**"
      ]
    },
    {
      "cell_type": "code",
      "execution_count": null,
      "id": "13222d74",
      "metadata": {
        "execution": {
          "iopub.execute_input": "2022-09-24T14:19:51.541702Z",
          "iopub.status.busy": "2022-09-24T14:19:51.540909Z",
          "iopub.status.idle": "2022-09-24T14:19:51.547072Z",
          "shell.execute_reply": "2022-09-24T14:19:51.546245Z"
        },
        "papermill": {
          "duration": 0.042437,
          "end_time": "2022-09-24T14:19:51.549438",
          "exception": false,
          "start_time": "2022-09-24T14:19:51.507001",
          "status": "completed"
        },
        "tags": [],
        "id": "13222d74"
      },
      "outputs": [],
      "source": [
        "def cap_outliers(array, k=3):\n",
        "    upper_limit = array.mean() + k*array.std()\n",
        "    lower_limit = array.mean() - k*array.std()\n",
        "    array[array<lower_limit] = lower_limit\n",
        "    array[array>upper_limit] = upper_limit\n",
        "    return array"
      ]
    },
    {
      "cell_type": "code",
      "execution_count": null,
      "id": "96e62b7d",
      "metadata": {
        "execution": {
          "iopub.execute_input": "2022-09-24T14:19:51.616758Z",
          "iopub.status.busy": "2022-09-24T14:19:51.615946Z",
          "iopub.status.idle": "2022-09-24T14:19:51.623951Z",
          "shell.execute_reply": "2022-09-24T14:19:51.622976Z"
        },
        "papermill": {
          "duration": 0.044589,
          "end_time": "2022-09-24T14:19:51.626537",
          "exception": false,
          "start_time": "2022-09-24T14:19:51.581948",
          "status": "completed"
        },
        "tags": [],
        "id": "96e62b7d"
      },
      "outputs": [],
      "source": [
        "# #Get all numeric columns\n",
        "numCol = train_data.select_dtypes(exclude=['object']).columns"
      ]
    },
    {
      "cell_type": "code",
      "execution_count": null,
      "id": "90a4218d",
      "metadata": {
        "execution": {
          "iopub.execute_input": "2022-09-24T14:19:51.696693Z",
          "iopub.status.busy": "2022-09-24T14:19:51.695624Z",
          "iopub.status.idle": "2022-09-24T14:19:51.746428Z",
          "shell.execute_reply": "2022-09-24T14:19:51.745589Z"
        },
        "papermill": {
          "duration": 0.088777,
          "end_time": "2022-09-24T14:19:51.748893",
          "exception": false,
          "start_time": "2022-09-24T14:19:51.660116",
          "status": "completed"
        },
        "tags": [],
        "id": "90a4218d"
      },
      "outputs": [],
      "source": [
        "#Cap all Outliers\n",
        "for col in numCol:\n",
        "    arr = cap_outliers(train_data[col])\n",
        "    train_data[col] = arr"
      ]
    },
    {
      "cell_type": "markdown",
      "id": "d0a680fa",
      "metadata": {
        "papermill": {
          "duration": 0.031921,
          "end_time": "2022-09-24T14:19:51.813180",
          "exception": false,
          "start_time": "2022-09-24T14:19:51.781259",
          "status": "completed"
        },
        "tags": [],
        "id": "d0a680fa"
      },
      "source": [
        "**Data Visualization**"
      ]
    },
    {
      "cell_type": "code",
      "execution_count": null,
      "id": "785a73f9",
      "metadata": {
        "execution": {
          "iopub.execute_input": "2022-09-24T14:19:51.880434Z",
          "iopub.status.busy": "2022-09-24T14:19:51.880030Z",
          "iopub.status.idle": "2022-09-24T14:19:53.055080Z",
          "shell.execute_reply": "2022-09-24T14:19:53.053708Z"
        },
        "papermill": {
          "duration": 1.211194,
          "end_time": "2022-09-24T14:19:53.057554",
          "exception": false,
          "start_time": "2022-09-24T14:19:51.846360",
          "status": "completed"
        },
        "tags": [],
        "id": "785a73f9",
        "outputId": "9ba75983-1f0e-46a2-e14b-ca7c8650a157"
      },
      "outputs": [
        {
          "data": {
            "image/png": "[encoded data removed]",
            "text/plain": [
              "<Figure size 1440x720 with 10 Axes>"
            ]
          },
          "metadata": {
            "needs_background": "light"
          },
          "output_type": "display_data"
        }
      ],
      "source": [
        "plt.figure(figsize=(20, 10))\n",
        "rows = int(math.ceil(len(['Survived','Pclass','Sex','SibSp','Parch','Embarked', 'Ticket_cls', 'Name_title', 'CabinBool', 'Solo_traveller'])/4))\n",
        "cols = 4\n",
        "for i,n in enumerate(['Survived','Pclass','Sex','SibSp','Parch','Embarked', 'Ticket_cls', 'Name_title', 'CabinBool', 'Solo_traveller']):\n",
        "    plt.subplot(rows, cols, i+1)\n",
        "    sns.countplot(x=n, data= train_data)\n",
        "plt.show()"
      ]
    },
    {
      "cell_type": "code",
      "execution_count": null,
      "id": "4c9fe765",
      "metadata": {
        "execution": {
          "iopub.execute_input": "2022-09-24T14:19:53.126355Z",
          "iopub.status.busy": "2022-09-24T14:19:53.125946Z",
          "iopub.status.idle": "2022-09-24T14:19:53.861297Z",
          "shell.execute_reply": "2022-09-24T14:19:53.859842Z"
        },
        "papermill": {
          "duration": 0.772748,
          "end_time": "2022-09-24T14:19:53.864244",
          "exception": false,
          "start_time": "2022-09-24T14:19:53.091496",
          "status": "completed"
        },
        "tags": [],
        "id": "4c9fe765",
        "outputId": "906d3903-6644-4abf-bef9-9a77ac634802"
      },
      "outputs": [
        {
          "data": {
            "image/png": "[encoded data removed]",
            "text/plain": [
              "<Figure size 720x720 with 2 Axes>"
            ]
          },
          "metadata": {
            "needs_background": "light"
          },
          "output_type": "display_data"
        }
      ],
      "source": [
        "#Heatmap\n",
        "f, ax = plt.subplots(figsize=(10, 10))\n",
        "sns.heatmap(train_data.corr(), \n",
        "            xticklabels=train_data.corr().columns.values,\n",
        "            yticklabels=train_data.corr().columns.values,annot= True)\n",
        "\n",
        "bottom, top = ax.get_ylim()\n",
        "ax.set_ylim(bottom + 0.5, top - 0.5)\n",
        "\n",
        "plt.show()"
      ]
    },
    {
      "cell_type": "markdown",
      "id": "ee65a96e",
      "metadata": {
        "papermill": {
          "duration": 0.035223,
          "end_time": "2022-09-24T14:19:53.934915",
          "exception": false,
          "start_time": "2022-09-24T14:19:53.899692",
          "status": "completed"
        },
        "tags": [],
        "id": "ee65a96e"
      },
      "source": [
        "**Observation:** There are no highlily correlated variables(>95% correlation)."
      ]
    },
    {
      "cell_type": "markdown",
      "id": "36331360",
      "metadata": {
        "papermill": {
          "duration": 0.034072,
          "end_time": "2022-09-24T14:19:54.003505",
          "exception": false,
          "start_time": "2022-09-24T14:19:53.969433",
          "status": "completed"
        },
        "tags": [],
        "id": "36331360"
      },
      "source": [
        "**Create dummies for the categorical variables**"
      ]
    },
    {
      "cell_type": "code",
      "execution_count": null,
      "id": "e999e241",
      "metadata": {
        "execution": {
          "iopub.execute_input": "2022-09-24T14:19:54.075846Z",
          "iopub.status.busy": "2022-09-24T14:19:54.075457Z",
          "iopub.status.idle": "2022-09-24T14:19:54.084893Z",
          "shell.execute_reply": "2022-09-24T14:19:54.083357Z"
        },
        "papermill": {
          "duration": 0.048392,
          "end_time": "2022-09-24T14:19:54.087599",
          "exception": false,
          "start_time": "2022-09-24T14:19:54.039207",
          "status": "completed"
        },
        "tags": [],
        "id": "e999e241",
        "outputId": "58823304-6a25-4242-ac81-6828e871bb6c"
      },
      "outputs": [
        {
          "name": "stdout",
          "output_type": "stream",
          "text": [
            "Index(['Name', 'Sex', 'Ticket', 'Cabin', 'Embarked', 'Name_title',\n",
            "       'Ticket_cls', 'Solo_traveller'],\n",
            "      dtype='object')\n"
          ]
        }
      ],
      "source": [
        "categorical_cols = train_data.select_dtypes(include = \"object\").columns\n",
        "print (categorical_cols)"
      ]
    },
    {
      "cell_type": "code",
      "execution_count": null,
      "id": "f0b28187",
      "metadata": {
        "execution": {
          "iopub.execute_input": "2022-09-24T14:19:54.158503Z",
          "iopub.status.busy": "2022-09-24T14:19:54.157607Z",
          "iopub.status.idle": "2022-09-24T14:19:54.182545Z",
          "shell.execute_reply": "2022-09-24T14:19:54.181379Z"
        },
        "papermill": {
          "duration": 0.062801,
          "end_time": "2022-09-24T14:19:54.184907",
          "exception": false,
          "start_time": "2022-09-24T14:19:54.122106",
          "status": "completed"
        },
        "tags": [],
        "id": "f0b28187",
        "outputId": "2a625b25-bdf8-46e4-eed7-1a9ab15e3c96"
      },
      "outputs": [
        {
          "data": {
            "text/html": [
              "<div>\n",
              "<style scoped>\n",
              "    .dataframe tbody tr th:only-of-type {\n",
              "        vertical-align: middle;\n",
              "    }\n",
              "\n",
              "    .dataframe tbody tr th {\n",
              "        vertical-align: top;\n",
              "    }\n",
              "\n",
              "    .dataframe thead th {\n",
              "        text-align: right;\n",
              "    }\n",
              "</style>\n",
              "<table border=\"1\" class=\"dataframe\">\n",
              "  <thead>\n",
              "    <tr style=\"text-align: right;\">\n",
              "      <th></th>\n",
              "      <th>Datatype</th>\n",
              "      <th>Non_Null_Count</th>\n",
              "      <th>Null_Count</th>\n",
              "      <th>Null_Percentage</th>\n",
              "      <th>Unique_Values_Count</th>\n",
              "    </tr>\n",
              "  </thead>\n",
              "  <tbody>\n",
              "    <tr>\n",
              "      <th>PassengerId</th>\n",
              "      <td>int64</td>\n",
              "      <td>891</td>\n",
              "      <td>0</td>\n",
              "      <td>0.0</td>\n",
              "      <td>891</td>\n",
              "    </tr>\n",
              "    <tr>\n",
              "      <th>Survived</th>\n",
              "      <td>int64</td>\n",
              "      <td>891</td>\n",
              "      <td>0</td>\n",
              "      <td>0.0</td>\n",
              "      <td>2</td>\n",
              "    </tr>\n",
              "    <tr>\n",
              "      <th>Solo_traveller</th>\n",
              "      <td>object</td>\n",
              "      <td>891</td>\n",
              "      <td>0</td>\n",
              "      <td>0.0</td>\n",
              "      <td>2</td>\n",
              "    </tr>\n",
              "    <tr>\n",
              "      <th>FamilySize</th>\n",
              "      <td>float64</td>\n",
              "      <td>891</td>\n",
              "      <td>0</td>\n",
              "      <td>0.0</td>\n",
              "      <td>7</td>\n",
              "    </tr>\n",
              "    <tr>\n",
              "      <th>Ticket_cls</th>\n",
              "      <td>object</td>\n",
              "      <td>891</td>\n",
              "      <td>0</td>\n",
              "      <td>0.0</td>\n",
              "      <td>3</td>\n",
              "    </tr>\n",
              "    <tr>\n",
              "      <th>Name_title</th>\n",
              "      <td>object</td>\n",
              "      <td>891</td>\n",
              "      <td>0</td>\n",
              "      <td>0.0</td>\n",
              "      <td>6</td>\n",
              "    </tr>\n",
              "    <tr>\n",
              "      <th>CabinBool</th>\n",
              "      <td>int64</td>\n",
              "      <td>891</td>\n",
              "      <td>0</td>\n",
              "      <td>0.0</td>\n",
              "      <td>2</td>\n",
              "    </tr>\n",
              "    <tr>\n",
              "      <th>Embarked</th>\n",
              "      <td>object</td>\n",
              "      <td>891</td>\n",
              "      <td>0</td>\n",
              "      <td>0.0</td>\n",
              "      <td>3</td>\n",
              "    </tr>\n",
              "    <tr>\n",
              "      <th>Cabin</th>\n",
              "      <td>object</td>\n",
              "      <td>891</td>\n",
              "      <td>0</td>\n",
              "      <td>0.0</td>\n",
              "      <td>147</td>\n",
              "    </tr>\n",
              "    <tr>\n",
              "      <th>Fare</th>\n",
              "      <td>float64</td>\n",
              "      <td>891</td>\n",
              "      <td>0</td>\n",
              "      <td>0.0</td>\n",
              "      <td>241</td>\n",
              "    </tr>\n",
              "    <tr>\n",
              "      <th>Ticket</th>\n",
              "      <td>object</td>\n",
              "      <td>891</td>\n",
              "      <td>0</td>\n",
              "      <td>0.0</td>\n",
              "      <td>681</td>\n",
              "    </tr>\n",
              "    <tr>\n",
              "      <th>Parch</th>\n",
              "      <td>float64</td>\n",
              "      <td>891</td>\n",
              "      <td>0</td>\n",
              "      <td>0.0</td>\n",
              "      <td>4</td>\n",
              "    </tr>\n",
              "    <tr>\n",
              "      <th>SibSp</th>\n",
              "      <td>float64</td>\n",
              "      <td>891</td>\n",
              "      <td>0</td>\n",
              "      <td>0.0</td>\n",
              "      <td>5</td>\n",
              "    </tr>\n",
              "    <tr>\n",
              "      <th>Age</th>\n",
              "      <td>float64</td>\n",
              "      <td>891</td>\n",
              "      <td>0</td>\n",
              "      <td>0.0</td>\n",
              "      <td>84</td>\n",
              "    </tr>\n",
              "    <tr>\n",
              "      <th>Sex</th>\n",
              "      <td>object</td>\n",
              "      <td>891</td>\n",
              "      <td>0</td>\n",
              "      <td>0.0</td>\n",
              "      <td>2</td>\n",
              "    </tr>\n",
              "    <tr>\n",
              "      <th>Name</th>\n",
              "      <td>object</td>\n",
              "      <td>891</td>\n",
              "      <td>0</td>\n",
              "      <td>0.0</td>\n",
              "      <td>891</td>\n",
              "    </tr>\n",
              "    <tr>\n",
              "      <th>Pclass</th>\n",
              "      <td>int64</td>\n",
              "      <td>891</td>\n",
              "      <td>0</td>\n",
              "      <td>0.0</td>\n",
              "      <td>3</td>\n",
              "    </tr>\n",
              "    <tr>\n",
              "      <th>norm_fare</th>\n",
              "      <td>float64</td>\n",
              "      <td>891</td>\n",
              "      <td>0</td>\n",
              "      <td>0.0</td>\n",
              "      <td>248</td>\n",
              "    </tr>\n",
              "  </tbody>\n",
              "</table>\n",
              "</div>"
            ],
            "text/plain": [
              "               Datatype  Non_Null_Count  Null_Count  Null_Percentage  \\\n",
              "PassengerId       int64             891           0              0.0   \n",
              "Survived          int64             891           0              0.0   \n",
              "Solo_traveller   object             891           0              0.0   \n",
              "FamilySize      float64             891           0              0.0   \n",
              "Ticket_cls       object             891           0              0.0   \n",
              "Name_title       object             891           0              0.0   \n",
              "CabinBool         int64             891           0              0.0   \n",
              "Embarked         object             891           0              0.0   \n",
              "Cabin            object             891           0              0.0   \n",
              "Fare            float64             891           0              0.0   \n",
              "Ticket           object             891           0              0.0   \n",
              "Parch           float64             891           0              0.0   \n",
              "SibSp           float64             891           0              0.0   \n",
              "Age             float64             891           0              0.0   \n",
              "Sex              object             891           0              0.0   \n",
              "Name             object             891           0              0.0   \n",
              "Pclass            int64             891           0              0.0   \n",
              "norm_fare       float64             891           0              0.0   \n",
              "\n",
              "                Unique_Values_Count  \n",
              "PassengerId                     891  \n",
              "Survived                          2  \n",
              "Solo_traveller                    2  \n",
              "FamilySize                        7  \n",
              "Ticket_cls                        3  \n",
              "Name_title                        6  \n",
              "CabinBool                         2  \n",
              "Embarked                          3  \n",
              "Cabin                           147  \n",
              "Fare                            241  \n",
              "Ticket                          681  \n",
              "Parch                             4  \n",
              "SibSp                             5  \n",
              "Age                              84  \n",
              "Sex                               2  \n",
              "Name                            891  \n",
              "Pclass                            3  \n",
              "norm_fare                       248  "
            ]
          },
          "execution_count": 36,
          "metadata": {},
          "output_type": "execute_result"
        }
      ],
      "source": [
        "getDatasetDetail(train_data)"
      ]
    },
    {
      "cell_type": "code",
      "execution_count": null,
      "id": "3a6ef393",
      "metadata": {
        "execution": {
          "iopub.execute_input": "2022-09-24T14:19:54.255973Z",
          "iopub.status.busy": "2022-09-24T14:19:54.255460Z",
          "iopub.status.idle": "2022-09-24T14:19:54.274812Z",
          "shell.execute_reply": "2022-09-24T14:19:54.273490Z"
        },
        "papermill": {
          "duration": 0.057745,
          "end_time": "2022-09-24T14:19:54.277271",
          "exception": false,
          "start_time": "2022-09-24T14:19:54.219526",
          "status": "completed"
        },
        "tags": [],
        "id": "3a6ef393"
      },
      "outputs": [],
      "source": [
        "# Creating dummies for categorical variables\n",
        "categorical_cols = ['Sex', 'Name_title', 'Ticket_cls', 'Embarked', 'Solo_traveller', 'CabinBool', 'Parch', 'SibSp', 'Pclass']\n",
        "dummies = pd.get_dummies(train_data[categorical_cols],drop_first=True)\n",
        "# Drop Categorical columns\n",
        "train_data.drop(categorical_cols,axis=1,inplace=True)\n",
        "# Concatenate original dataframe and dummies\n",
        "train_data = pd.concat([train_data,dummies],axis=1)"
      ]
    },
    {
      "cell_type": "code",
      "execution_count": null,
      "id": "00fef0bf",
      "metadata": {
        "execution": {
          "iopub.execute_input": "2022-09-24T14:19:54.348697Z",
          "iopub.status.busy": "2022-09-24T14:19:54.348288Z",
          "iopub.status.idle": "2022-09-24T14:19:54.371224Z",
          "shell.execute_reply": "2022-09-24T14:19:54.370364Z"
        },
        "papermill": {
          "duration": 0.061435,
          "end_time": "2022-09-24T14:19:54.373550",
          "exception": false,
          "start_time": "2022-09-24T14:19:54.312115",
          "status": "completed"
        },
        "tags": [],
        "id": "00fef0bf",
        "outputId": "159788c7-cfd9-4631-84ca-c585b65b1d9a"
      },
      "outputs": [
        {
          "data": {
            "text/html": [
              "<div>\n",
              "<style scoped>\n",
              "    .dataframe tbody tr th:only-of-type {\n",
              "        vertical-align: middle;\n",
              "    }\n",
              "\n",
              "    .dataframe tbody tr th {\n",
              "        vertical-align: top;\n",
              "    }\n",
              "\n",
              "    .dataframe thead th {\n",
              "        text-align: right;\n",
              "    }\n",
              "</style>\n",
              "<table border=\"1\" class=\"dataframe\">\n",
              "  <thead>\n",
              "    <tr style=\"text-align: right;\">\n",
              "      <th></th>\n",
              "      <th>PassengerId</th>\n",
              "      <th>Survived</th>\n",
              "      <th>Name</th>\n",
              "      <th>Age</th>\n",
              "      <th>Ticket</th>\n",
              "      <th>Fare</th>\n",
              "      <th>Cabin</th>\n",
              "      <th>FamilySize</th>\n",
              "      <th>norm_fare</th>\n",
              "      <th>CabinBool</th>\n",
              "      <th>Parch</th>\n",
              "      <th>SibSp</th>\n",
              "      <th>Pclass</th>\n",
              "      <th>Sex_male</th>\n",
              "      <th>Name_title_Miss</th>\n",
              "      <th>Name_title_Mr1</th>\n",
              "      <th>Name_title_Mr2</th>\n",
              "      <th>Name_title_Mrs</th>\n",
              "      <th>Name_title_Other</th>\n",
              "      <th>Ticket_cls_Numeric1</th>\n",
              "      <th>Ticket_cls_Numeric2</th>\n",
              "      <th>Embarked_Q</th>\n",
              "      <th>Embarked_S</th>\n",
              "      <th>Solo_traveller_Yes</th>\n",
              "    </tr>\n",
              "  </thead>\n",
              "  <tbody>\n",
              "    <tr>\n",
              "      <th>0</th>\n",
              "      <td>1</td>\n",
              "      <td>0</td>\n",
              "      <td>Braund, Mr. Owen Harris</td>\n",
              "      <td>22.0</td>\n",
              "      <td>A/5 21171</td>\n",
              "      <td>7.2500</td>\n",
              "      <td>B96 B98</td>\n",
              "      <td>2.0</td>\n",
              "      <td>2.110213</td>\n",
              "      <td>0</td>\n",
              "      <td>0.0</td>\n",
              "      <td>1.0</td>\n",
              "      <td>3</td>\n",
              "      <td>1</td>\n",
              "      <td>0</td>\n",
              "      <td>0</td>\n",
              "      <td>1</td>\n",
              "      <td>0</td>\n",
              "      <td>0</td>\n",
              "      <td>0</td>\n",
              "      <td>0</td>\n",
              "      <td>0</td>\n",
              "      <td>1</td>\n",
              "      <td>0</td>\n",
              "    </tr>\n",
              "    <tr>\n",
              "      <th>1</th>\n",
              "      <td>2</td>\n",
              "      <td>1</td>\n",
              "      <td>Cumings, Mrs. John Bradley (Florence Briggs Th...</td>\n",
              "      <td>38.0</td>\n",
              "      <td>PC 17599</td>\n",
              "      <td>71.2833</td>\n",
              "      <td>C85</td>\n",
              "      <td>2.0</td>\n",
              "      <td>4.280593</td>\n",
              "      <td>1</td>\n",
              "      <td>0.0</td>\n",
              "      <td>1.0</td>\n",
              "      <td>1</td>\n",
              "      <td>0</td>\n",
              "      <td>0</td>\n",
              "      <td>0</td>\n",
              "      <td>0</td>\n",
              "      <td>1</td>\n",
              "      <td>0</td>\n",
              "      <td>0</td>\n",
              "      <td>0</td>\n",
              "      <td>0</td>\n",
              "      <td>0</td>\n",
              "      <td>0</td>\n",
              "    </tr>\n",
              "    <tr>\n",
              "      <th>2</th>\n",
              "      <td>3</td>\n",
              "      <td>1</td>\n",
              "      <td>Heikkinen, Miss. Laina</td>\n",
              "      <td>26.0</td>\n",
              "      <td>STON/O2. 3101282</td>\n",
              "      <td>7.9250</td>\n",
              "      <td>B96 B98</td>\n",
              "      <td>1.0</td>\n",
              "      <td>2.188856</td>\n",
              "      <td>0</td>\n",
              "      <td>0.0</td>\n",
              "      <td>0.0</td>\n",
              "      <td>3</td>\n",
              "      <td>0</td>\n",
              "      <td>1</td>\n",
              "      <td>0</td>\n",
              "      <td>0</td>\n",
              "      <td>0</td>\n",
              "      <td>0</td>\n",
              "      <td>0</td>\n",
              "      <td>0</td>\n",
              "      <td>0</td>\n",
              "      <td>1</td>\n",
              "      <td>1</td>\n",
              "    </tr>\n",
              "    <tr>\n",
              "      <th>3</th>\n",
              "      <td>4</td>\n",
              "      <td>1</td>\n",
              "      <td>Futrelle, Mrs. Jacques Heath (Lily May Peel)</td>\n",
              "      <td>35.0</td>\n",
              "      <td>113803</td>\n",
              "      <td>53.1000</td>\n",
              "      <td>C123</td>\n",
              "      <td>2.0</td>\n",
              "      <td>3.990834</td>\n",
              "      <td>1</td>\n",
              "      <td>0.0</td>\n",
              "      <td>1.0</td>\n",
              "      <td>1</td>\n",
              "      <td>0</td>\n",
              "      <td>0</td>\n",
              "      <td>0</td>\n",
              "      <td>0</td>\n",
              "      <td>1</td>\n",
              "      <td>0</td>\n",
              "      <td>0</td>\n",
              "      <td>1</td>\n",
              "      <td>0</td>\n",
              "      <td>1</td>\n",
              "      <td>0</td>\n",
              "    </tr>\n",
              "    <tr>\n",
              "      <th>4</th>\n",
              "      <td>5</td>\n",
              "      <td>0</td>\n",
              "      <td>Allen, Mr. William Henry</td>\n",
              "      <td>35.0</td>\n",
              "      <td>373450</td>\n",
              "      <td>8.0500</td>\n",
              "      <td>B96 B98</td>\n",
              "      <td>1.0</td>\n",
              "      <td>2.202765</td>\n",
              "      <td>0</td>\n",
              "      <td>0.0</td>\n",
              "      <td>0.0</td>\n",
              "      <td>3</td>\n",
              "      <td>1</td>\n",
              "      <td>0</td>\n",
              "      <td>1</td>\n",
              "      <td>0</td>\n",
              "      <td>0</td>\n",
              "      <td>0</td>\n",
              "      <td>1</td>\n",
              "      <td>0</td>\n",
              "      <td>0</td>\n",
              "      <td>1</td>\n",
              "      <td>1</td>\n",
              "    </tr>\n",
              "  </tbody>\n",
              "</table>\n",
              "</div>"
            ],
            "text/plain": [
              "   PassengerId  Survived                                               Name  \\\n",
              "0            1         0                            Braund, Mr. Owen Harris   \n",
              "1            2         1  Cumings, Mrs. John Bradley (Florence Briggs Th...   \n",
              "2            3         1                             Heikkinen, Miss. Laina   \n",
              "3            4         1       Futrelle, Mrs. Jacques Heath (Lily May Peel)   \n",
              "4            5         0                           Allen, Mr. William Henry   \n",
              "\n",
              "    Age            Ticket     Fare    Cabin  FamilySize  norm_fare  CabinBool  \\\n",
              "0  22.0         A/5 21171   7.2500  B96 B98         2.0   2.110213          0   \n",
              "1  38.0          PC 17599  71.2833      C85         2.0   4.280593          1   \n",
              "2  26.0  STON/O2. 3101282   7.9250  B96 B98         1.0   2.188856          0   \n",
              "3  35.0            113803  53.1000     C123         2.0   3.990834          1   \n",
              "4  35.0            373450   8.0500  B96 B98         1.0   2.202765          0   \n",
              "\n",
              "   Parch  SibSp  Pclass  Sex_male  Name_title_Miss  Name_title_Mr1  \\\n",
              "0    0.0    1.0       3         1                0               0   \n",
              "1    0.0    1.0       1         0                0               0   \n",
              "2    0.0    0.0       3         0                1               0   \n",
              "3    0.0    1.0       1         0                0               0   \n",
              "4    0.0    0.0       3         1                0               1   \n",
              "\n",
              "   Name_title_Mr2  Name_title_Mrs  Name_title_Other  Ticket_cls_Numeric1  \\\n",
              "0               1               0                 0                    0   \n",
              "1               0               1                 0                    0   \n",
              "2               0               0                 0                    0   \n",
              "3               0               1                 0                    0   \n",
              "4               0               0                 0                    1   \n",
              "\n",
              "   Ticket_cls_Numeric2  Embarked_Q  Embarked_S  Solo_traveller_Yes  \n",
              "0                    0           0           1                   0  \n",
              "1                    0           0           0                   0  \n",
              "2                    0           0           1                   1  \n",
              "3                    1           0           1                   0  \n",
              "4                    0           0           1                   1  "
            ]
          },
          "execution_count": 38,
          "metadata": {},
          "output_type": "execute_result"
        }
      ],
      "source": [
        "train_data.head()"
      ]
    },
    {
      "cell_type": "markdown",
      "id": "f200c89c",
      "metadata": {
        "papermill": {
          "duration": 0.035747,
          "end_time": "2022-09-24T14:19:54.444349",
          "exception": false,
          "start_time": "2022-09-24T14:19:54.408602",
          "status": "completed"
        },
        "tags": [],
        "id": "f200c89c"
      },
      "source": [
        "**Remove unnecessary columns**"
      ]
    },
    {
      "cell_type": "code",
      "execution_count": null,
      "id": "ade58cf5",
      "metadata": {
        "execution": {
          "iopub.execute_input": "2022-09-24T14:19:54.516940Z",
          "iopub.status.busy": "2022-09-24T14:19:54.516075Z",
          "iopub.status.idle": "2022-09-24T14:19:54.524544Z",
          "shell.execute_reply": "2022-09-24T14:19:54.523034Z"
        },
        "papermill": {
          "duration": 0.047224,
          "end_time": "2022-09-24T14:19:54.526994",
          "exception": false,
          "start_time": "2022-09-24T14:19:54.479770",
          "status": "completed"
        },
        "tags": [],
        "id": "ade58cf5"
      },
      "outputs": [],
      "source": [
        "train_data.drop(['PassengerId', 'Cabin', 'Ticket', 'Name', 'Fare', 'FamilySize'], axis = 1, inplace = True)"
      ]
    },
    {
      "cell_type": "code",
      "execution_count": null,
      "id": "87762c3d",
      "metadata": {
        "execution": {
          "iopub.execute_input": "2022-09-24T14:19:54.599939Z",
          "iopub.status.busy": "2022-09-24T14:19:54.599476Z",
          "iopub.status.idle": "2022-09-24T14:19:54.629033Z",
          "shell.execute_reply": "2022-09-24T14:19:54.627818Z"
        },
        "papermill": {
          "duration": 0.069441,
          "end_time": "2022-09-24T14:19:54.631523",
          "exception": false,
          "start_time": "2022-09-24T14:19:54.562082",
          "status": "completed"
        },
        "tags": [],
        "id": "87762c3d",
        "outputId": "45c85776-b402-416f-d3db-0ce9a9a295d0"
      },
      "outputs": [
        {
          "data": {
            "text/html": [
              "<div>\n",
              "<style scoped>\n",
              "    .dataframe tbody tr th:only-of-type {\n",
              "        vertical-align: middle;\n",
              "    }\n",
              "\n",
              "    .dataframe tbody tr th {\n",
              "        vertical-align: top;\n",
              "    }\n",
              "\n",
              "    .dataframe thead th {\n",
              "        text-align: right;\n",
              "    }\n",
              "</style>\n",
              "<table border=\"1\" class=\"dataframe\">\n",
              "  <thead>\n",
              "    <tr style=\"text-align: right;\">\n",
              "      <th></th>\n",
              "      <th>Datatype</th>\n",
              "      <th>Non_Null_Count</th>\n",
              "      <th>Null_Count</th>\n",
              "      <th>Null_Percentage</th>\n",
              "      <th>Unique_Values_Count</th>\n",
              "    </tr>\n",
              "  </thead>\n",
              "  <tbody>\n",
              "    <tr>\n",
              "      <th>Survived</th>\n",
              "      <td>int64</td>\n",
              "      <td>891</td>\n",
              "      <td>0</td>\n",
              "      <td>0.0</td>\n",
              "      <td>2</td>\n",
              "    </tr>\n",
              "    <tr>\n",
              "      <th>Age</th>\n",
              "      <td>float64</td>\n",
              "      <td>891</td>\n",
              "      <td>0</td>\n",
              "      <td>0.0</td>\n",
              "      <td>84</td>\n",
              "    </tr>\n",
              "    <tr>\n",
              "      <th>Embarked_S</th>\n",
              "      <td>uint8</td>\n",
              "      <td>891</td>\n",
              "      <td>0</td>\n",
              "      <td>0.0</td>\n",
              "      <td>2</td>\n",
              "    </tr>\n",
              "    <tr>\n",
              "      <th>Embarked_Q</th>\n",
              "      <td>uint8</td>\n",
              "      <td>891</td>\n",
              "      <td>0</td>\n",
              "      <td>0.0</td>\n",
              "      <td>2</td>\n",
              "    </tr>\n",
              "    <tr>\n",
              "      <th>Ticket_cls_Numeric2</th>\n",
              "      <td>uint8</td>\n",
              "      <td>891</td>\n",
              "      <td>0</td>\n",
              "      <td>0.0</td>\n",
              "      <td>2</td>\n",
              "    </tr>\n",
              "    <tr>\n",
              "      <th>Ticket_cls_Numeric1</th>\n",
              "      <td>uint8</td>\n",
              "      <td>891</td>\n",
              "      <td>0</td>\n",
              "      <td>0.0</td>\n",
              "      <td>2</td>\n",
              "    </tr>\n",
              "    <tr>\n",
              "      <th>Name_title_Other</th>\n",
              "      <td>uint8</td>\n",
              "      <td>891</td>\n",
              "      <td>0</td>\n",
              "      <td>0.0</td>\n",
              "      <td>2</td>\n",
              "    </tr>\n",
              "    <tr>\n",
              "      <th>Name_title_Mrs</th>\n",
              "      <td>uint8</td>\n",
              "      <td>891</td>\n",
              "      <td>0</td>\n",
              "      <td>0.0</td>\n",
              "      <td>2</td>\n",
              "    </tr>\n",
              "    <tr>\n",
              "      <th>Name_title_Mr2</th>\n",
              "      <td>uint8</td>\n",
              "      <td>891</td>\n",
              "      <td>0</td>\n",
              "      <td>0.0</td>\n",
              "      <td>2</td>\n",
              "    </tr>\n",
              "    <tr>\n",
              "      <th>Name_title_Mr1</th>\n",
              "      <td>uint8</td>\n",
              "      <td>891</td>\n",
              "      <td>0</td>\n",
              "      <td>0.0</td>\n",
              "      <td>2</td>\n",
              "    </tr>\n",
              "    <tr>\n",
              "      <th>Name_title_Miss</th>\n",
              "      <td>uint8</td>\n",
              "      <td>891</td>\n",
              "      <td>0</td>\n",
              "      <td>0.0</td>\n",
              "      <td>2</td>\n",
              "    </tr>\n",
              "    <tr>\n",
              "      <th>Sex_male</th>\n",
              "      <td>uint8</td>\n",
              "      <td>891</td>\n",
              "      <td>0</td>\n",
              "      <td>0.0</td>\n",
              "      <td>2</td>\n",
              "    </tr>\n",
              "    <tr>\n",
              "      <th>Pclass</th>\n",
              "      <td>int64</td>\n",
              "      <td>891</td>\n",
              "      <td>0</td>\n",
              "      <td>0.0</td>\n",
              "      <td>3</td>\n",
              "    </tr>\n",
              "    <tr>\n",
              "      <th>SibSp</th>\n",
              "      <td>float64</td>\n",
              "      <td>891</td>\n",
              "      <td>0</td>\n",
              "      <td>0.0</td>\n",
              "      <td>5</td>\n",
              "    </tr>\n",
              "    <tr>\n",
              "      <th>Parch</th>\n",
              "      <td>float64</td>\n",
              "      <td>891</td>\n",
              "      <td>0</td>\n",
              "      <td>0.0</td>\n",
              "      <td>4</td>\n",
              "    </tr>\n",
              "    <tr>\n",
              "      <th>CabinBool</th>\n",
              "      <td>int64</td>\n",
              "      <td>891</td>\n",
              "      <td>0</td>\n",
              "      <td>0.0</td>\n",
              "      <td>2</td>\n",
              "    </tr>\n",
              "    <tr>\n",
              "      <th>norm_fare</th>\n",
              "      <td>float64</td>\n",
              "      <td>891</td>\n",
              "      <td>0</td>\n",
              "      <td>0.0</td>\n",
              "      <td>248</td>\n",
              "    </tr>\n",
              "    <tr>\n",
              "      <th>Solo_traveller_Yes</th>\n",
              "      <td>uint8</td>\n",
              "      <td>891</td>\n",
              "      <td>0</td>\n",
              "      <td>0.0</td>\n",
              "      <td>2</td>\n",
              "    </tr>\n",
              "  </tbody>\n",
              "</table>\n",
              "</div>"
            ],
            "text/plain": [
              "                    Datatype  Non_Null_Count  Null_Count  Null_Percentage  \\\n",
              "Survived               int64             891           0              0.0   \n",
              "Age                  float64             891           0              0.0   \n",
              "Embarked_S             uint8             891           0              0.0   \n",
              "Embarked_Q             uint8             891           0              0.0   \n",
              "Ticket_cls_Numeric2    uint8             891           0              0.0   \n",
              "Ticket_cls_Numeric1    uint8             891           0              0.0   \n",
              "Name_title_Other       uint8             891           0              0.0   \n",
              "Name_title_Mrs         uint8             891           0              0.0   \n",
              "Name_title_Mr2         uint8             891           0              0.0   \n",
              "Name_title_Mr1         uint8             891           0              0.0   \n",
              "Name_title_Miss        uint8             891           0              0.0   \n",
              "Sex_male               uint8             891           0              0.0   \n",
              "Pclass                 int64             891           0              0.0   \n",
              "SibSp                float64             891           0              0.0   \n",
              "Parch                float64             891           0              0.0   \n",
              "CabinBool              int64             891           0              0.0   \n",
              "norm_fare            float64             891           0              0.0   \n",
              "Solo_traveller_Yes     uint8             891           0              0.0   \n",
              "\n",
              "                     Unique_Values_Count  \n",
              "Survived                               2  \n",
              "Age                                   84  \n",
              "Embarked_S                             2  \n",
              "Embarked_Q                             2  \n",
              "Ticket_cls_Numeric2                    2  \n",
              "Ticket_cls_Numeric1                    2  \n",
              "Name_title_Other                       2  \n",
              "Name_title_Mrs                         2  \n",
              "Name_title_Mr2                         2  \n",
              "Name_title_Mr1                         2  \n",
              "Name_title_Miss                        2  \n",
              "Sex_male                               2  \n",
              "Pclass                                 3  \n",
              "SibSp                                  5  \n",
              "Parch                                  4  \n",
              "CabinBool                              2  \n",
              "norm_fare                            248  \n",
              "Solo_traveller_Yes                     2  "
            ]
          },
          "execution_count": 40,
          "metadata": {},
          "output_type": "execute_result"
        }
      ],
      "source": [
        "getDatasetDetail(train_data)"
      ]
    },
    {
      "cell_type": "markdown",
      "id": "b636d1ff",
      "metadata": {
        "papermill": {
          "duration": 0.04886,
          "end_time": "2022-09-24T14:19:54.717765",
          "exception": false,
          "start_time": "2022-09-24T14:19:54.668905",
          "status": "completed"
        },
        "tags": [],
        "id": "b636d1ff"
      },
      "source": [
        "**Splitting dataset**"
      ]
    },
    {
      "cell_type": "code",
      "execution_count": null,
      "id": "b766ebec",
      "metadata": {
        "execution": {
          "iopub.execute_input": "2022-09-24T14:19:54.805409Z",
          "iopub.status.busy": "2022-09-24T14:19:54.804050Z",
          "iopub.status.idle": "2022-09-24T14:19:54.811028Z",
          "shell.execute_reply": "2022-09-24T14:19:54.810149Z"
        },
        "papermill": {
          "duration": 0.050233,
          "end_time": "2022-09-24T14:19:54.813469",
          "exception": false,
          "start_time": "2022-09-24T14:19:54.763236",
          "status": "completed"
        },
        "tags": [],
        "id": "b766ebec"
      },
      "outputs": [],
      "source": [
        "X = train_data.drop(\"Survived\",1)\n",
        "y = train_data.Survived"
      ]
    },
    {
      "cell_type": "code",
      "execution_count": null,
      "id": "4e6a076a",
      "metadata": {
        "execution": {
          "iopub.execute_input": "2022-09-24T14:19:54.888307Z",
          "iopub.status.busy": "2022-09-24T14:19:54.887165Z",
          "iopub.status.idle": "2022-09-24T14:19:54.895401Z",
          "shell.execute_reply": "2022-09-24T14:19:54.894385Z"
        },
        "papermill": {
          "duration": 0.047931,
          "end_time": "2022-09-24T14:19:54.897910",
          "exception": false,
          "start_time": "2022-09-24T14:19:54.849979",
          "status": "completed"
        },
        "tags": [],
        "id": "4e6a076a"
      },
      "outputs": [],
      "source": [
        "X_train, X_test, y_train, y_test = train_test_split(X, y,test_size = 0.20, stratify=y, random_state=42)"
      ]
    },
    {
      "cell_type": "code",
      "execution_count": null,
      "id": "234a4499",
      "metadata": {
        "execution": {
          "iopub.execute_input": "2022-09-24T14:19:54.977170Z",
          "iopub.status.busy": "2022-09-24T14:19:54.976333Z",
          "iopub.status.idle": "2022-09-24T14:19:54.983115Z",
          "shell.execute_reply": "2022-09-24T14:19:54.981977Z"
        },
        "papermill": {
          "duration": 0.051423,
          "end_time": "2022-09-24T14:19:54.985252",
          "exception": false,
          "start_time": "2022-09-24T14:19:54.933829",
          "status": "completed"
        },
        "tags": [],
        "id": "234a4499",
        "outputId": "e2abd9b5-5884-4131-f54b-d57ede24c2be"
      },
      "outputs": [
        {
          "data": {
            "text/plain": [
              "(712, 17)"
            ]
          },
          "execution_count": 43,
          "metadata": {},
          "output_type": "execute_result"
        }
      ],
      "source": [
        "X_train.shape"
      ]
    },
    {
      "cell_type": "markdown",
      "id": "b7e7e78d",
      "metadata": {
        "papermill": {
          "duration": 0.037714,
          "end_time": "2022-09-24T14:19:55.059369",
          "exception": false,
          "start_time": "2022-09-24T14:19:55.021655",
          "status": "completed"
        },
        "tags": [],
        "id": "b7e7e78d"
      },
      "source": [
        "**Scaling dataset**"
      ]
    },
    {
      "cell_type": "code",
      "execution_count": null,
      "id": "1e5e2005",
      "metadata": {
        "execution": {
          "iopub.execute_input": "2022-09-24T14:19:55.132438Z",
          "iopub.status.busy": "2022-09-24T14:19:55.131512Z",
          "iopub.status.idle": "2022-09-24T14:19:55.141427Z",
          "shell.execute_reply": "2022-09-24T14:19:55.140471Z"
        },
        "papermill": {
          "duration": 0.049104,
          "end_time": "2022-09-24T14:19:55.143953",
          "exception": false,
          "start_time": "2022-09-24T14:19:55.094849",
          "status": "completed"
        },
        "tags": [],
        "id": "1e5e2005"
      },
      "outputs": [],
      "source": [
        "#Scaling and transform train Dataset\n",
        "scaler = StandardScaler()\n",
        "\n",
        "X_train_sc = scaler.fit_transform(X_train)\n",
        "X_train_scaled = pd.DataFrame(X_train_sc, columns=X_train.columns)"
      ]
    },
    {
      "cell_type": "code",
      "execution_count": null,
      "id": "efbd4ca6",
      "metadata": {
        "execution": {
          "iopub.execute_input": "2022-09-24T14:19:55.219165Z",
          "iopub.status.busy": "2022-09-24T14:19:55.218704Z",
          "iopub.status.idle": "2022-09-24T14:19:55.241795Z",
          "shell.execute_reply": "2022-09-24T14:19:55.240680Z"
        },
        "papermill": {
          "duration": 0.063153,
          "end_time": "2022-09-24T14:19:55.244460",
          "exception": false,
          "start_time": "2022-09-24T14:19:55.181307",
          "status": "completed"
        },
        "tags": [],
        "id": "efbd4ca6",
        "outputId": "aa6aaeb1-ac65-4c01-dc9d-564e983b047a"
      },
      "outputs": [
        {
          "data": {
            "text/html": [
              "<div>\n",
              "<style scoped>\n",
              "    .dataframe tbody tr th:only-of-type {\n",
              "        vertical-align: middle;\n",
              "    }\n",
              "\n",
              "    .dataframe tbody tr th {\n",
              "        vertical-align: top;\n",
              "    }\n",
              "\n",
              "    .dataframe thead th {\n",
              "        text-align: right;\n",
              "    }\n",
              "</style>\n",
              "<table border=\"1\" class=\"dataframe\">\n",
              "  <thead>\n",
              "    <tr style=\"text-align: right;\">\n",
              "      <th></th>\n",
              "      <th>Age</th>\n",
              "      <th>norm_fare</th>\n",
              "      <th>CabinBool</th>\n",
              "      <th>Parch</th>\n",
              "      <th>SibSp</th>\n",
              "      <th>Pclass</th>\n",
              "      <th>Sex_male</th>\n",
              "      <th>Name_title_Miss</th>\n",
              "      <th>Name_title_Mr1</th>\n",
              "      <th>Name_title_Mr2</th>\n",
              "      <th>Name_title_Mrs</th>\n",
              "      <th>Name_title_Other</th>\n",
              "      <th>Ticket_cls_Numeric1</th>\n",
              "      <th>Ticket_cls_Numeric2</th>\n",
              "      <th>Embarked_Q</th>\n",
              "      <th>Embarked_S</th>\n",
              "      <th>Solo_traveller_Yes</th>\n",
              "    </tr>\n",
              "  </thead>\n",
              "  <tbody>\n",
              "    <tr>\n",
              "      <th>0</th>\n",
              "      <td>-0.110291</td>\n",
              "      <td>1.132146</td>\n",
              "      <td>-0.538382</td>\n",
              "      <td>-0.508116</td>\n",
              "      <td>-0.528596</td>\n",
              "      <td>0.829568</td>\n",
              "      <td>0.742427</td>\n",
              "      <td>-0.496926</td>\n",
              "      <td>-0.633699</td>\n",
              "      <td>1.556624</td>\n",
              "      <td>-0.420547</td>\n",
              "      <td>-0.174329</td>\n",
              "      <td>-0.807448</td>\n",
              "      <td>1.397983</td>\n",
              "      <td>-0.289333</td>\n",
              "      <td>0.611978</td>\n",
              "      <td>0.800346</td>\n",
              "    </tr>\n",
              "    <tr>\n",
              "      <th>1</th>\n",
              "      <td>-0.110291</td>\n",
              "      <td>-2.978009</td>\n",
              "      <td>-0.538382</td>\n",
              "      <td>-0.508116</td>\n",
              "      <td>-0.528596</td>\n",
              "      <td>-0.370945</td>\n",
              "      <td>0.742427</td>\n",
              "      <td>-0.496926</td>\n",
              "      <td>-0.633699</td>\n",
              "      <td>1.556624</td>\n",
              "      <td>-0.420547</td>\n",
              "      <td>-0.174329</td>\n",
              "      <td>1.238470</td>\n",
              "      <td>-0.715316</td>\n",
              "      <td>-0.289333</td>\n",
              "      <td>0.611978</td>\n",
              "      <td>0.800346</td>\n",
              "    </tr>\n",
              "    <tr>\n",
              "      <th>2</th>\n",
              "      <td>-0.110291</td>\n",
              "      <td>2.525096</td>\n",
              "      <td>1.857418</td>\n",
              "      <td>-0.508116</td>\n",
              "      <td>-0.528596</td>\n",
              "      <td>-1.571457</td>\n",
              "      <td>0.742427</td>\n",
              "      <td>-0.496926</td>\n",
              "      <td>-0.633699</td>\n",
              "      <td>1.556624</td>\n",
              "      <td>-0.420547</td>\n",
              "      <td>-0.174329</td>\n",
              "      <td>-0.807448</td>\n",
              "      <td>-0.715316</td>\n",
              "      <td>-0.289333</td>\n",
              "      <td>0.611978</td>\n",
              "      <td>0.800346</td>\n",
              "    </tr>\n",
              "    <tr>\n",
              "      <th>3</th>\n",
              "      <td>-0.885142</td>\n",
              "      <td>-0.631295</td>\n",
              "      <td>-0.538382</td>\n",
              "      <td>0.894146</td>\n",
              "      <td>-0.528596</td>\n",
              "      <td>0.829568</td>\n",
              "      <td>-1.346933</td>\n",
              "      <td>-0.496926</td>\n",
              "      <td>-0.633699</td>\n",
              "      <td>-0.642416</td>\n",
              "      <td>2.377857</td>\n",
              "      <td>-0.174329</td>\n",
              "      <td>1.238470</td>\n",
              "      <td>-0.715316</td>\n",
              "      <td>-0.289333</td>\n",
              "      <td>0.611978</td>\n",
              "      <td>-1.249460</td>\n",
              "    </tr>\n",
              "    <tr>\n",
              "      <th>4</th>\n",
              "      <td>0.122165</td>\n",
              "      <td>0.364275</td>\n",
              "      <td>-0.538382</td>\n",
              "      <td>0.894146</td>\n",
              "      <td>0.632585</td>\n",
              "      <td>-0.370945</td>\n",
              "      <td>-1.346933</td>\n",
              "      <td>-0.496926</td>\n",
              "      <td>-0.633699</td>\n",
              "      <td>-0.642416</td>\n",
              "      <td>2.377857</td>\n",
              "      <td>-0.174329</td>\n",
              "      <td>-0.807448</td>\n",
              "      <td>-0.715316</td>\n",
              "      <td>-0.289333</td>\n",
              "      <td>0.611978</td>\n",
              "      <td>-1.249460</td>\n",
              "    </tr>\n",
              "  </tbody>\n",
              "</table>\n",
              "</div>"
            ],
            "text/plain": [
              "        Age  norm_fare  CabinBool     Parch     SibSp    Pclass  Sex_male  \\\n",
              "0 -0.110291   1.132146  -0.538382 -0.508116 -0.528596  0.829568  0.742427   \n",
              "1 -0.110291  -2.978009  -0.538382 -0.508116 -0.528596 -0.370945  0.742427   \n",
              "2 -0.110291   2.525096   1.857418 -0.508116 -0.528596 -1.571457  0.742427   \n",
              "3 -0.885142  -0.631295  -0.538382  0.894146 -0.528596  0.829568 -1.346933   \n",
              "4  0.122165   0.364275  -0.538382  0.894146  0.632585 -0.370945 -1.346933   \n",
              "\n",
              "   Name_title_Miss  Name_title_Mr1  Name_title_Mr2  Name_title_Mrs  \\\n",
              "0        -0.496926       -0.633699        1.556624       -0.420547   \n",
              "1        -0.496926       -0.633699        1.556624       -0.420547   \n",
              "2        -0.496926       -0.633699        1.556624       -0.420547   \n",
              "3        -0.496926       -0.633699       -0.642416        2.377857   \n",
              "4        -0.496926       -0.633699       -0.642416        2.377857   \n",
              "\n",
              "   Name_title_Other  Ticket_cls_Numeric1  Ticket_cls_Numeric2  Embarked_Q  \\\n",
              "0         -0.174329            -0.807448             1.397983   -0.289333   \n",
              "1         -0.174329             1.238470            -0.715316   -0.289333   \n",
              "2         -0.174329            -0.807448            -0.715316   -0.289333   \n",
              "3         -0.174329             1.238470            -0.715316   -0.289333   \n",
              "4         -0.174329            -0.807448            -0.715316   -0.289333   \n",
              "\n",
              "   Embarked_S  Solo_traveller_Yes  \n",
              "0    0.611978            0.800346  \n",
              "1    0.611978            0.800346  \n",
              "2    0.611978            0.800346  \n",
              "3    0.611978           -1.249460  \n",
              "4    0.611978           -1.249460  "
            ]
          },
          "execution_count": 45,
          "metadata": {},
          "output_type": "execute_result"
        }
      ],
      "source": [
        "X_train_scaled.head()"
      ]
    },
    {
      "cell_type": "code",
      "execution_count": null,
      "id": "f33da17a",
      "metadata": {
        "execution": {
          "iopub.execute_input": "2022-09-24T14:19:55.321176Z",
          "iopub.status.busy": "2022-09-24T14:19:55.320492Z",
          "iopub.status.idle": "2022-09-24T14:19:55.328818Z",
          "shell.execute_reply": "2022-09-24T14:19:55.327964Z"
        },
        "papermill": {
          "duration": 0.049537,
          "end_time": "2022-09-24T14:19:55.331311",
          "exception": false,
          "start_time": "2022-09-24T14:19:55.281774",
          "status": "completed"
        },
        "tags": [],
        "id": "f33da17a"
      },
      "outputs": [],
      "source": [
        "#Transform test dataset\n",
        "X_test_sc = scaler.transform(X_test)\n",
        "X_test_scaled = pd.DataFrame(X_test_sc, columns=X_test.columns)"
      ]
    },
    {
      "cell_type": "code",
      "execution_count": null,
      "id": "a1efa63e",
      "metadata": {
        "execution": {
          "iopub.execute_input": "2022-09-24T14:19:55.408216Z",
          "iopub.status.busy": "2022-09-24T14:19:55.407506Z",
          "iopub.status.idle": "2022-09-24T14:19:55.429113Z",
          "shell.execute_reply": "2022-09-24T14:19:55.427954Z"
        },
        "papermill": {
          "duration": 0.062239,
          "end_time": "2022-09-24T14:19:55.431402",
          "exception": false,
          "start_time": "2022-09-24T14:19:55.369163",
          "status": "completed"
        },
        "tags": [],
        "id": "a1efa63e",
        "outputId": "d6cc3844-9485-4a1d-e704-6958eb01a025"
      },
      "outputs": [
        {
          "data": {
            "text/html": [
              "<div>\n",
              "<style scoped>\n",
              "    .dataframe tbody tr th:only-of-type {\n",
              "        vertical-align: middle;\n",
              "    }\n",
              "\n",
              "    .dataframe tbody tr th {\n",
              "        vertical-align: top;\n",
              "    }\n",
              "\n",
              "    .dataframe thead th {\n",
              "        text-align: right;\n",
              "    }\n",
              "</style>\n",
              "<table border=\"1\" class=\"dataframe\">\n",
              "  <thead>\n",
              "    <tr style=\"text-align: right;\">\n",
              "      <th></th>\n",
              "      <th>Age</th>\n",
              "      <th>norm_fare</th>\n",
              "      <th>CabinBool</th>\n",
              "      <th>Parch</th>\n",
              "      <th>SibSp</th>\n",
              "      <th>Pclass</th>\n",
              "      <th>Sex_male</th>\n",
              "      <th>Name_title_Miss</th>\n",
              "      <th>Name_title_Mr1</th>\n",
              "      <th>Name_title_Mr2</th>\n",
              "      <th>Name_title_Mrs</th>\n",
              "      <th>Name_title_Other</th>\n",
              "      <th>Ticket_cls_Numeric1</th>\n",
              "      <th>Ticket_cls_Numeric2</th>\n",
              "      <th>Embarked_Q</th>\n",
              "      <th>Embarked_S</th>\n",
              "      <th>Solo_traveller_Yes</th>\n",
              "    </tr>\n",
              "  </thead>\n",
              "  <tbody>\n",
              "    <tr>\n",
              "      <th>0</th>\n",
              "      <td>-0.420231</td>\n",
              "      <td>0.281801</td>\n",
              "      <td>-0.538382</td>\n",
              "      <td>-0.508116</td>\n",
              "      <td>1.793765</td>\n",
              "      <td>0.829568</td>\n",
              "      <td>0.742427</td>\n",
              "      <td>-0.496926</td>\n",
              "      <td>-0.633699</td>\n",
              "      <td>1.556624</td>\n",
              "      <td>-0.420547</td>\n",
              "      <td>-0.174329</td>\n",
              "      <td>-0.807448</td>\n",
              "      <td>-0.715316</td>\n",
              "      <td>-0.289333</td>\n",
              "      <td>0.611978</td>\n",
              "      <td>-1.249460</td>\n",
              "    </tr>\n",
              "    <tr>\n",
              "      <th>1</th>\n",
              "      <td>1.129472</td>\n",
              "      <td>-0.114938</td>\n",
              "      <td>-0.538382</td>\n",
              "      <td>0.894146</td>\n",
              "      <td>-0.528596</td>\n",
              "      <td>0.829568</td>\n",
              "      <td>0.742427</td>\n",
              "      <td>-0.496926</td>\n",
              "      <td>1.578036</td>\n",
              "      <td>-0.642416</td>\n",
              "      <td>-0.420547</td>\n",
              "      <td>-0.174329</td>\n",
              "      <td>1.238470</td>\n",
              "      <td>-0.715316</td>\n",
              "      <td>-0.289333</td>\n",
              "      <td>0.611978</td>\n",
              "      <td>-1.249460</td>\n",
              "    </tr>\n",
              "    <tr>\n",
              "      <th>2</th>\n",
              "      <td>-0.575201</td>\n",
              "      <td>-0.867632</td>\n",
              "      <td>-0.538382</td>\n",
              "      <td>-0.508116</td>\n",
              "      <td>-0.528596</td>\n",
              "      <td>0.829568</td>\n",
              "      <td>0.742427</td>\n",
              "      <td>-0.496926</td>\n",
              "      <td>-0.633699</td>\n",
              "      <td>1.556624</td>\n",
              "      <td>-0.420547</td>\n",
              "      <td>-0.174329</td>\n",
              "      <td>-0.807448</td>\n",
              "      <td>1.397983</td>\n",
              "      <td>-0.289333</td>\n",
              "      <td>-1.634045</td>\n",
              "      <td>0.800346</td>\n",
              "    </tr>\n",
              "    <tr>\n",
              "      <th>3</th>\n",
              "      <td>0.897016</td>\n",
              "      <td>-0.242291</td>\n",
              "      <td>-0.538382</td>\n",
              "      <td>-0.508116</td>\n",
              "      <td>1.793765</td>\n",
              "      <td>0.829568</td>\n",
              "      <td>0.742427</td>\n",
              "      <td>-0.496926</td>\n",
              "      <td>1.578036</td>\n",
              "      <td>-0.642416</td>\n",
              "      <td>-0.420547</td>\n",
              "      <td>-0.174329</td>\n",
              "      <td>1.238470</td>\n",
              "      <td>-0.715316</td>\n",
              "      <td>-0.289333</td>\n",
              "      <td>0.611978</td>\n",
              "      <td>-1.249460</td>\n",
              "    </tr>\n",
              "    <tr>\n",
              "      <th>4</th>\n",
              "      <td>-0.110291</td>\n",
              "      <td>-0.151671</td>\n",
              "      <td>-0.538382</td>\n",
              "      <td>-0.508116</td>\n",
              "      <td>0.632585</td>\n",
              "      <td>0.829568</td>\n",
              "      <td>-1.346933</td>\n",
              "      <td>2.012373</td>\n",
              "      <td>-0.633699</td>\n",
              "      <td>-0.642416</td>\n",
              "      <td>-0.420547</td>\n",
              "      <td>-0.174329</td>\n",
              "      <td>1.238470</td>\n",
              "      <td>-0.715316</td>\n",
              "      <td>3.456220</td>\n",
              "      <td>-1.634045</td>\n",
              "      <td>-1.249460</td>\n",
              "    </tr>\n",
              "  </tbody>\n",
              "</table>\n",
              "</div>"
            ],
            "text/plain": [
              "        Age  norm_fare  CabinBool     Parch     SibSp    Pclass  Sex_male  \\\n",
              "0 -0.420231   0.281801  -0.538382 -0.508116  1.793765  0.829568  0.742427   \n",
              "1  1.129472  -0.114938  -0.538382  0.894146 -0.528596  0.829568  0.742427   \n",
              "2 -0.575201  -0.867632  -0.538382 -0.508116 -0.528596  0.829568  0.742427   \n",
              "3  0.897016  -0.242291  -0.538382 -0.508116  1.793765  0.829568  0.742427   \n",
              "4 -0.110291  -0.151671  -0.538382 -0.508116  0.632585  0.829568 -1.346933   \n",
              "\n",
              "   Name_title_Miss  Name_title_Mr1  Name_title_Mr2  Name_title_Mrs  \\\n",
              "0        -0.496926       -0.633699        1.556624       -0.420547   \n",
              "1        -0.496926        1.578036       -0.642416       -0.420547   \n",
              "2        -0.496926       -0.633699        1.556624       -0.420547   \n",
              "3        -0.496926        1.578036       -0.642416       -0.420547   \n",
              "4         2.012373       -0.633699       -0.642416       -0.420547   \n",
              "\n",
              "   Name_title_Other  Ticket_cls_Numeric1  Ticket_cls_Numeric2  Embarked_Q  \\\n",
              "0         -0.174329            -0.807448            -0.715316   -0.289333   \n",
              "1         -0.174329             1.238470            -0.715316   -0.289333   \n",
              "2         -0.174329            -0.807448             1.397983   -0.289333   \n",
              "3         -0.174329             1.238470            -0.715316   -0.289333   \n",
              "4         -0.174329             1.238470            -0.715316    3.456220   \n",
              "\n",
              "   Embarked_S  Solo_traveller_Yes  \n",
              "0    0.611978           -1.249460  \n",
              "1    0.611978           -1.249460  \n",
              "2   -1.634045            0.800346  \n",
              "3    0.611978           -1.249460  \n",
              "4   -1.634045           -1.249460  "
            ]
          },
          "execution_count": 47,
          "metadata": {},
          "output_type": "execute_result"
        }
      ],
      "source": [
        "X_test_scaled.head()"
      ]
    },
    {
      "cell_type": "markdown",
      "id": "bba2cba4",
      "metadata": {
        "papermill": {
          "duration": 0.037189,
          "end_time": "2022-09-24T14:19:55.505439",
          "exception": false,
          "start_time": "2022-09-24T14:19:55.468250",
          "status": "completed"
        },
        "tags": [],
        "id": "bba2cba4"
      },
      "source": [
        "**Model Building**"
      ]
    },
    {
      "cell_type": "code",
      "execution_count": null,
      "id": "0fdaaef8",
      "metadata": {
        "execution": {
          "iopub.execute_input": "2022-09-24T14:19:55.582552Z",
          "iopub.status.busy": "2022-09-24T14:19:55.581901Z",
          "iopub.status.idle": "2022-09-24T14:19:55.591121Z",
          "shell.execute_reply": "2022-09-24T14:19:55.590185Z"
        },
        "papermill": {
          "duration": 0.050778,
          "end_time": "2022-09-24T14:19:55.593491",
          "exception": false,
          "start_time": "2022-09-24T14:19:55.542713",
          "status": "completed"
        },
        "tags": [],
        "id": "0fdaaef8"
      },
      "outputs": [],
      "source": [
        "# Following function will be used for different models evaluation\n",
        "def evaluate_model(actual, pred):\n",
        "    # Accuracy Score\n",
        "    acc_sc = round(accuracy_score(actual, pred)*100,2)\n",
        "    \n",
        "    # Precision score\n",
        "    prec_sc = round(precision_score(actual, pred)*100,2)\n",
        "    \n",
        "    # Recall score\n",
        "    rec_sc = round(recall_score(actual, pred)*100,2)\n",
        "    \n",
        "    # Confusion matrix\n",
        "    confusion_m = confusion_matrix(actual, pred)\n",
        "   \n",
        "    TP = confusion_m[1,1] # true positive \n",
        "    TN = confusion_m[0,0] # true negatives\n",
        "    FP = confusion_m[0,1] # false positives\n",
        "    FN = confusion_m[1,0] # false negatives\n",
        "    # Specificity\n",
        "    Specificity= round(TN / float(TN+FP),2)\n",
        "    # ROC AUC score\n",
        "    roc_score = round(recall_score(actual, pred)*100,2)\n",
        "    #F1-Score\n",
        "    f1_score=round(2*((prec_sc*rec_sc)/(prec_sc+rec_sc)),2)\n",
        "    return {\"TP\":TP,\"TN\":TN,\"FP\":FP,\"FN\":FN,\"Recall\":rec_sc,\"Precision\":prec_sc,\"Specificity\":Specificity,\"ROC/AUC Score\":roc_score,\"F1-Score\":f1_score, \"Accuracy\": acc_sc}"
      ]
    },
    {
      "cell_type": "code",
      "execution_count": null,
      "id": "48619ed5",
      "metadata": {
        "execution": {
          "iopub.execute_input": "2022-09-24T14:19:55.669198Z",
          "iopub.status.busy": "2022-09-24T14:19:55.668525Z",
          "iopub.status.idle": "2022-09-24T14:19:55.705074Z",
          "shell.execute_reply": "2022-09-24T14:19:55.703205Z"
        },
        "papermill": {
          "duration": 0.078705,
          "end_time": "2022-09-24T14:19:55.708882",
          "exception": false,
          "start_time": "2022-09-24T14:19:55.630177",
          "status": "completed"
        },
        "tags": [],
        "id": "48619ed5"
      },
      "outputs": [],
      "source": [
        "# Build Logistic Regression using important features\n",
        "# Initialize the Logistic regression\n",
        "model_lg = LogisticRegression(random_state=42)\n",
        "# fit the training data\n",
        "model_lg.fit(X_train_scaled, y_train)\n",
        "# predict the training data\n",
        "Y_train_pred = model_lg.predict(X_train_scaled)\n",
        "# predict the testing data\n",
        "Y_test_pred = model_lg.predict(X_test_scaled)"
      ]
    },
    {
      "cell_type": "code",
      "execution_count": null,
      "id": "e6a7f1a3",
      "metadata": {
        "execution": {
          "iopub.execute_input": "2022-09-24T14:19:55.852037Z",
          "iopub.status.busy": "2022-09-24T14:19:55.851630Z",
          "iopub.status.idle": "2022-09-24T14:19:55.872897Z",
          "shell.execute_reply": "2022-09-24T14:19:55.872050Z"
        },
        "papermill": {
          "duration": 0.070832,
          "end_time": "2022-09-24T14:19:55.875468",
          "exception": false,
          "start_time": "2022-09-24T14:19:55.804636",
          "status": "completed"
        },
        "tags": [],
        "id": "e6a7f1a3"
      },
      "outputs": [],
      "source": [
        "# Model evaluation\n",
        "train_eval=pd.DataFrame([evaluate_model(y_train, Y_train_pred)])\n",
        "test_eval=pd.DataFrame([evaluate_model(y_test, Y_test_pred)])\n",
        "df_eval=pd.concat([train_eval,test_eval])\n",
        "df_eval['data']=['train_data','test_data']\n",
        "df_eval.set_index('data',inplace=True)"
      ]
    },
    {
      "cell_type": "code",
      "execution_count": null,
      "id": "b54b7410",
      "metadata": {
        "execution": {
          "iopub.execute_input": "2022-09-24T14:19:55.950885Z",
          "iopub.status.busy": "2022-09-24T14:19:55.950113Z",
          "iopub.status.idle": "2022-09-24T14:19:55.966317Z",
          "shell.execute_reply": "2022-09-24T14:19:55.965083Z"
        },
        "papermill": {
          "duration": 0.056433,
          "end_time": "2022-09-24T14:19:55.969095",
          "exception": false,
          "start_time": "2022-09-24T14:19:55.912662",
          "status": "completed"
        },
        "tags": [],
        "id": "b54b7410",
        "outputId": "25b5831b-9ff1-43bf-faea-a5946e68db11"
      },
      "outputs": [
        {
          "data": {
            "text/html": [
              "<div>\n",
              "<style scoped>\n",
              "    .dataframe tbody tr th:only-of-type {\n",
              "        vertical-align: middle;\n",
              "    }\n",
              "\n",
              "    .dataframe tbody tr th {\n",
              "        vertical-align: top;\n",
              "    }\n",
              "\n",
              "    .dataframe thead th {\n",
              "        text-align: right;\n",
              "    }\n",
              "</style>\n",
              "<table border=\"1\" class=\"dataframe\">\n",
              "  <thead>\n",
              "    <tr style=\"text-align: right;\">\n",
              "      <th></th>\n",
              "      <th>TP</th>\n",
              "      <th>TN</th>\n",
              "      <th>FP</th>\n",
              "      <th>FN</th>\n",
              "      <th>Recall</th>\n",
              "      <th>Precision</th>\n",
              "      <th>Specificity</th>\n",
              "      <th>ROC/AUC Score</th>\n",
              "      <th>F1-Score</th>\n",
              "      <th>Accuracy</th>\n",
              "    </tr>\n",
              "    <tr>\n",
              "      <th>data</th>\n",
              "      <th></th>\n",
              "      <th></th>\n",
              "      <th></th>\n",
              "      <th></th>\n",
              "      <th></th>\n",
              "      <th></th>\n",
              "      <th></th>\n",
              "      <th></th>\n",
              "      <th></th>\n",
              "      <th></th>\n",
              "    </tr>\n",
              "  </thead>\n",
              "  <tbody>\n",
              "    <tr>\n",
              "      <th>train_data</th>\n",
              "      <td>205</td>\n",
              "      <td>384</td>\n",
              "      <td>55</td>\n",
              "      <td>68</td>\n",
              "      <td>75.09</td>\n",
              "      <td>78.85</td>\n",
              "      <td>0.87</td>\n",
              "      <td>75.09</td>\n",
              "      <td>76.92</td>\n",
              "      <td>82.72</td>\n",
              "    </tr>\n",
              "    <tr>\n",
              "      <th>test_data</th>\n",
              "      <td>53</td>\n",
              "      <td>96</td>\n",
              "      <td>14</td>\n",
              "      <td>16</td>\n",
              "      <td>76.81</td>\n",
              "      <td>79.10</td>\n",
              "      <td>0.87</td>\n",
              "      <td>76.81</td>\n",
              "      <td>77.94</td>\n",
              "      <td>83.24</td>\n",
              "    </tr>\n",
              "  </tbody>\n",
              "</table>\n",
              "</div>"
            ],
            "text/plain": [
              "             TP   TN  FP  FN  Recall  Precision  Specificity  ROC/AUC Score  \\\n",
              "data                                                                          \n",
              "train_data  205  384  55  68   75.09      78.85         0.87          75.09   \n",
              "test_data    53   96  14  16   76.81      79.10         0.87          76.81   \n",
              "\n",
              "            F1-Score  Accuracy  \n",
              "data                            \n",
              "train_data     76.92     82.72  \n",
              "test_data      77.94     83.24  "
            ]
          },
          "execution_count": 51,
          "metadata": {},
          "output_type": "execute_result"
        }
      ],
      "source": [
        "df_eval"
      ]
    },
    {
      "cell_type": "code",
      "execution_count": null,
      "id": "314bfb6d",
      "metadata": {
        "execution": {
          "iopub.execute_input": "2022-09-24T14:19:56.044116Z",
          "iopub.status.busy": "2022-09-24T14:19:56.043712Z",
          "iopub.status.idle": "2022-09-24T14:19:56.353369Z",
          "shell.execute_reply": "2022-09-24T14:19:56.352254Z"
        },
        "papermill": {
          "duration": 0.349873,
          "end_time": "2022-09-24T14:19:56.356070",
          "exception": false,
          "start_time": "2022-09-24T14:19:56.006197",
          "status": "completed"
        },
        "tags": [],
        "id": "314bfb6d",
        "outputId": "57118d3c-75cb-42d3-d0a6-d1667d9b02c8"
      },
      "outputs": [
        {
          "data": {
            "image/png": "[encoded data removed]",
            "text/plain": [
              "<Figure size 360x360 with 1 Axes>"
            ]
          },
          "metadata": {},
          "output_type": "display_data"
        }
      ],
      "source": [
        "# Visualisation with plot_metric\n",
        "bc = BinaryClassification(y_test, Y_test_pred, labels=[\"Class 1\", \"Class 2\"])\n",
        "\n",
        "# Figures\n",
        "plt.figure(figsize=(5,5))\n",
        "bc.plot_roc_curve()\n",
        "plt.show()"
      ]
    },
    {
      "cell_type": "code",
      "execution_count": null,
      "id": "95c109c8",
      "metadata": {
        "execution": {
          "iopub.execute_input": "2022-09-24T14:19:56.432203Z",
          "iopub.status.busy": "2022-09-24T14:19:56.431755Z",
          "iopub.status.idle": "2022-09-24T14:19:58.640705Z",
          "shell.execute_reply": "2022-09-24T14:19:58.639175Z"
        },
        "papermill": {
          "duration": 2.251419,
          "end_time": "2022-09-24T14:19:58.644917",
          "exception": false,
          "start_time": "2022-09-24T14:19:56.393498",
          "status": "completed"
        },
        "tags": [],
        "id": "95c109c8",
        "outputId": "3afe1cc8-8795-4f6b-bcd0-a6ddda207fda"
      },
      "outputs": [
        {
          "name": "stdout",
          "output_type": "stream",
          "text": [
            "Fitting 10 folds for each of 6 candidates, totalling 60 fits\n"
          ]
        },
        {
          "data": {
            "text/plain": [
              "GridSearchCV(cv=KFold(n_splits=10, random_state=4, shuffle=True),\n",
              "             estimator=LogisticRegression(),\n",
              "             param_grid={'C': [0.01, 0.1, 1, 10, 100, 1000]},\n",
              "             return_train_score=True, scoring='recall', verbose=1)"
            ]
          },
          "execution_count": 53,
          "metadata": {},
          "output_type": "execute_result"
        }
      ],
      "source": [
        "# Creating KFold object with 10 splits\n",
        "folds = KFold(n_splits=10, shuffle=True, random_state=4)\n",
        "\n",
        "# Specify params\n",
        "params = {\"C\": [0.01, 0.1, 1, 10, 100, 1000]}\n",
        "\n",
        "# Specifing score as recall as we are more focused on acheiving the higher sensitivity than the accuracy\n",
        "model_cv = GridSearchCV(estimator = LogisticRegression(),\n",
        "                        param_grid = params, \n",
        "                        scoring= 'recall', \n",
        "                        cv = folds, \n",
        "                        verbose = 1,\n",
        "                        return_train_score=True) \n",
        "\n",
        "# Fit the model\n",
        "model_cv.fit(X_train_scaled, y_train)"
      ]
    },
    {
      "cell_type": "code",
      "execution_count": null,
      "id": "f9a26329",
      "metadata": {
        "execution": {
          "iopub.execute_input": "2022-09-24T14:19:58.784480Z",
          "iopub.status.busy": "2022-09-24T14:19:58.784081Z",
          "iopub.status.idle": "2022-09-24T14:19:58.821628Z",
          "shell.execute_reply": "2022-09-24T14:19:58.820490Z"
        },
        "papermill": {
          "duration": 0.082498,
          "end_time": "2022-09-24T14:19:58.824412",
          "exception": false,
          "start_time": "2022-09-24T14:19:58.741914",
          "status": "completed"
        },
        "tags": [],
        "id": "f9a26329",
        "outputId": "3e84fd5f-e808-49ee-b494-53a625b68b69"
      },
      "outputs": [
        {
          "data": {
            "text/html": [
              "<div>\n",
              "<style scoped>\n",
              "    .dataframe tbody tr th:only-of-type {\n",
              "        vertical-align: middle;\n",
              "    }\n",
              "\n",
              "    .dataframe tbody tr th {\n",
              "        vertical-align: top;\n",
              "    }\n",
              "\n",
              "    .dataframe thead th {\n",
              "        text-align: right;\n",
              "    }\n",
              "</style>\n",
              "<table border=\"1\" class=\"dataframe\">\n",
              "  <thead>\n",
              "    <tr style=\"text-align: right;\">\n",
              "      <th></th>\n",
              "      <th>mean_fit_time</th>\n",
              "      <th>std_fit_time</th>\n",
              "      <th>mean_score_time</th>\n",
              "      <th>std_score_time</th>\n",
              "      <th>param_C</th>\n",
              "      <th>params</th>\n",
              "      <th>split0_test_score</th>\n",
              "      <th>split1_test_score</th>\n",
              "      <th>split2_test_score</th>\n",
              "      <th>split3_test_score</th>\n",
              "      <th>split4_test_score</th>\n",
              "      <th>split5_test_score</th>\n",
              "      <th>split6_test_score</th>\n",
              "      <th>split7_test_score</th>\n",
              "      <th>split8_test_score</th>\n",
              "      <th>split9_test_score</th>\n",
              "      <th>mean_test_score</th>\n",
              "      <th>std_test_score</th>\n",
              "      <th>rank_test_score</th>\n",
              "      <th>split0_train_score</th>\n",
              "      <th>split1_train_score</th>\n",
              "      <th>split2_train_score</th>\n",
              "      <th>split3_train_score</th>\n",
              "      <th>split4_train_score</th>\n",
              "      <th>split5_train_score</th>\n",
              "      <th>split6_train_score</th>\n",
              "      <th>split7_train_score</th>\n",
              "      <th>split8_train_score</th>\n",
              "      <th>split9_train_score</th>\n",
              "      <th>mean_train_score</th>\n",
              "      <th>std_train_score</th>\n",
              "    </tr>\n",
              "  </thead>\n",
              "  <tbody>\n",
              "    <tr>\n",
              "      <th>0</th>\n",
              "      <td>0.013272</td>\n",
              "      <td>0.001253</td>\n",
              "      <td>0.005451</td>\n",
              "      <td>0.000101</td>\n",
              "      <td>0.01</td>\n",
              "      <td>{'C': 0.01}</td>\n",
              "      <td>0.85</td>\n",
              "      <td>0.617647</td>\n",
              "      <td>0.739130</td>\n",
              "      <td>0.71875</td>\n",
              "      <td>0.777778</td>\n",
              "      <td>0.545455</td>\n",
              "      <td>0.708333</td>\n",
              "      <td>0.53125</td>\n",
              "      <td>0.625000</td>\n",
              "      <td>0.666667</td>\n",
              "      <td>0.678001</td>\n",
              "      <td>0.095677</td>\n",
              "      <td>6</td>\n",
              "      <td>0.687747</td>\n",
              "      <td>0.690377</td>\n",
              "      <td>0.684</td>\n",
              "      <td>0.672199</td>\n",
              "      <td>0.695122</td>\n",
              "      <td>0.716667</td>\n",
              "      <td>0.694779</td>\n",
              "      <td>0.701245</td>\n",
              "      <td>0.706827</td>\n",
              "      <td>0.690763</td>\n",
              "      <td>0.693973</td>\n",
              "      <td>0.011707</td>\n",
              "    </tr>\n",
              "    <tr>\n",
              "      <th>1</th>\n",
              "      <td>0.018785</td>\n",
              "      <td>0.000426</td>\n",
              "      <td>0.005508</td>\n",
              "      <td>0.000205</td>\n",
              "      <td>0.1</td>\n",
              "      <td>{'C': 0.1}</td>\n",
              "      <td>0.85</td>\n",
              "      <td>0.676471</td>\n",
              "      <td>0.782609</td>\n",
              "      <td>0.78125</td>\n",
              "      <td>0.777778</td>\n",
              "      <td>0.606061</td>\n",
              "      <td>0.750000</td>\n",
              "      <td>0.65625</td>\n",
              "      <td>0.750000</td>\n",
              "      <td>0.708333</td>\n",
              "      <td>0.733875</td>\n",
              "      <td>0.068456</td>\n",
              "      <td>5</td>\n",
              "      <td>0.747036</td>\n",
              "      <td>0.736402</td>\n",
              "      <td>0.748</td>\n",
              "      <td>0.742739</td>\n",
              "      <td>0.752033</td>\n",
              "      <td>0.754167</td>\n",
              "      <td>0.751004</td>\n",
              "      <td>0.755187</td>\n",
              "      <td>0.751004</td>\n",
              "      <td>0.755020</td>\n",
              "      <td>0.749259</td>\n",
              "      <td>0.005662</td>\n",
              "    </tr>\n",
              "    <tr>\n",
              "      <th>2</th>\n",
              "      <td>0.022470</td>\n",
              "      <td>0.000619</td>\n",
              "      <td>0.005296</td>\n",
              "      <td>0.000275</td>\n",
              "      <td>1</td>\n",
              "      <td>{'C': 1}</td>\n",
              "      <td>0.90</td>\n",
              "      <td>0.735294</td>\n",
              "      <td>0.782609</td>\n",
              "      <td>0.78125</td>\n",
              "      <td>0.777778</td>\n",
              "      <td>0.636364</td>\n",
              "      <td>0.791667</td>\n",
              "      <td>0.65625</td>\n",
              "      <td>0.750000</td>\n",
              "      <td>0.708333</td>\n",
              "      <td>0.751954</td>\n",
              "      <td>0.071179</td>\n",
              "      <td>1</td>\n",
              "      <td>0.747036</td>\n",
              "      <td>0.744770</td>\n",
              "      <td>0.744</td>\n",
              "      <td>0.738589</td>\n",
              "      <td>0.760163</td>\n",
              "      <td>0.783333</td>\n",
              "      <td>0.759036</td>\n",
              "      <td>0.755187</td>\n",
              "      <td>0.767068</td>\n",
              "      <td>0.763052</td>\n",
              "      <td>0.756223</td>\n",
              "      <td>0.012648</td>\n",
              "    </tr>\n",
              "    <tr>\n",
              "      <th>3</th>\n",
              "      <td>0.026478</td>\n",
              "      <td>0.001043</td>\n",
              "      <td>0.005563</td>\n",
              "      <td>0.000183</td>\n",
              "      <td>10</td>\n",
              "      <td>{'C': 10}</td>\n",
              "      <td>0.85</td>\n",
              "      <td>0.705882</td>\n",
              "      <td>0.782609</td>\n",
              "      <td>0.78125</td>\n",
              "      <td>0.740741</td>\n",
              "      <td>0.636364</td>\n",
              "      <td>0.791667</td>\n",
              "      <td>0.68750</td>\n",
              "      <td>0.708333</td>\n",
              "      <td>0.708333</td>\n",
              "      <td>0.739268</td>\n",
              "      <td>0.059117</td>\n",
              "      <td>2</td>\n",
              "      <td>0.747036</td>\n",
              "      <td>0.740586</td>\n",
              "      <td>0.740</td>\n",
              "      <td>0.734440</td>\n",
              "      <td>0.760163</td>\n",
              "      <td>0.770833</td>\n",
              "      <td>0.751004</td>\n",
              "      <td>0.751037</td>\n",
              "      <td>0.759036</td>\n",
              "      <td>0.742972</td>\n",
              "      <td>0.749711</td>\n",
              "      <td>0.010532</td>\n",
              "    </tr>\n",
              "    <tr>\n",
              "      <th>4</th>\n",
              "      <td>0.028350</td>\n",
              "      <td>0.001834</td>\n",
              "      <td>0.005637</td>\n",
              "      <td>0.000263</td>\n",
              "      <td>100</td>\n",
              "      <td>{'C': 100}</td>\n",
              "      <td>0.85</td>\n",
              "      <td>0.705882</td>\n",
              "      <td>0.782609</td>\n",
              "      <td>0.78125</td>\n",
              "      <td>0.740741</td>\n",
              "      <td>0.636364</td>\n",
              "      <td>0.791667</td>\n",
              "      <td>0.68750</td>\n",
              "      <td>0.708333</td>\n",
              "      <td>0.708333</td>\n",
              "      <td>0.739268</td>\n",
              "      <td>0.059117</td>\n",
              "      <td>2</td>\n",
              "      <td>0.747036</td>\n",
              "      <td>0.740586</td>\n",
              "      <td>0.740</td>\n",
              "      <td>0.734440</td>\n",
              "      <td>0.756098</td>\n",
              "      <td>0.770833</td>\n",
              "      <td>0.742972</td>\n",
              "      <td>0.751037</td>\n",
              "      <td>0.759036</td>\n",
              "      <td>0.742972</td>\n",
              "      <td>0.748501</td>\n",
              "      <td>0.010343</td>\n",
              "    </tr>\n",
              "    <tr>\n",
              "      <th>5</th>\n",
              "      <td>0.031621</td>\n",
              "      <td>0.001411</td>\n",
              "      <td>0.005740</td>\n",
              "      <td>0.000327</td>\n",
              "      <td>1000</td>\n",
              "      <td>{'C': 1000}</td>\n",
              "      <td>0.85</td>\n",
              "      <td>0.705882</td>\n",
              "      <td>0.782609</td>\n",
              "      <td>0.78125</td>\n",
              "      <td>0.740741</td>\n",
              "      <td>0.636364</td>\n",
              "      <td>0.791667</td>\n",
              "      <td>0.68750</td>\n",
              "      <td>0.708333</td>\n",
              "      <td>0.708333</td>\n",
              "      <td>0.739268</td>\n",
              "      <td>0.059117</td>\n",
              "      <td>2</td>\n",
              "      <td>0.747036</td>\n",
              "      <td>0.740586</td>\n",
              "      <td>0.740</td>\n",
              "      <td>0.734440</td>\n",
              "      <td>0.756098</td>\n",
              "      <td>0.770833</td>\n",
              "      <td>0.742972</td>\n",
              "      <td>0.751037</td>\n",
              "      <td>0.759036</td>\n",
              "      <td>0.746988</td>\n",
              "      <td>0.748903</td>\n",
              "      <td>0.010198</td>\n",
              "    </tr>\n",
              "  </tbody>\n",
              "</table>\n",
              "</div>"
            ],
            "text/plain": [
              "   mean_fit_time  std_fit_time  mean_score_time  std_score_time param_C  \\\n",
              "0       0.013272      0.001253         0.005451        0.000101    0.01   \n",
              "1       0.018785      0.000426         0.005508        0.000205     0.1   \n",
              "2       0.022470      0.000619         0.005296        0.000275       1   \n",
              "3       0.026478      0.001043         0.005563        0.000183      10   \n",
              "4       0.028350      0.001834         0.005637        0.000263     100   \n",
              "5       0.031621      0.001411         0.005740        0.000327    1000   \n",
              "\n",
              "        params  split0_test_score  split1_test_score  split2_test_score  \\\n",
              "0  {'C': 0.01}               0.85           0.617647           0.739130   \n",
              "1   {'C': 0.1}               0.85           0.676471           0.782609   \n",
              "2     {'C': 1}               0.90           0.735294           0.782609   \n",
              "3    {'C': 10}               0.85           0.705882           0.782609   \n",
              "4   {'C': 100}               0.85           0.705882           0.782609   \n",
              "5  {'C': 1000}               0.85           0.705882           0.782609   \n",
              "\n",
              "   split3_test_score  split4_test_score  split5_test_score  split6_test_score  \\\n",
              "0            0.71875           0.777778           0.545455           0.708333   \n",
              "1            0.78125           0.777778           0.606061           0.750000   \n",
              "2            0.78125           0.777778           0.636364           0.791667   \n",
              "3            0.78125           0.740741           0.636364           0.791667   \n",
              "4            0.78125           0.740741           0.636364           0.791667   \n",
              "5            0.78125           0.740741           0.636364           0.791667   \n",
              "\n",
              "   split7_test_score  split8_test_score  split9_test_score  mean_test_score  \\\n",
              "0            0.53125           0.625000           0.666667         0.678001   \n",
              "1            0.65625           0.750000           0.708333         0.733875   \n",
              "2            0.65625           0.750000           0.708333         0.751954   \n",
              "3            0.68750           0.708333           0.708333         0.739268   \n",
              "4            0.68750           0.708333           0.708333         0.739268   \n",
              "5            0.68750           0.708333           0.708333         0.739268   \n",
              "\n",
              "   std_test_score  rank_test_score  split0_train_score  split1_train_score  \\\n",
              "0        0.095677                6            0.687747            0.690377   \n",
              "1        0.068456                5            0.747036            0.736402   \n",
              "2        0.071179                1            0.747036            0.744770   \n",
              "3        0.059117                2            0.747036            0.740586   \n",
              "4        0.059117                2            0.747036            0.740586   \n",
              "5        0.059117                2            0.747036            0.740586   \n",
              "\n",
              "   split2_train_score  split3_train_score  split4_train_score  \\\n",
              "0               0.684            0.672199            0.695122   \n",
              "1               0.748            0.742739            0.752033   \n",
              "2               0.744            0.738589            0.760163   \n",
              "3               0.740            0.734440            0.760163   \n",
              "4               0.740            0.734440            0.756098   \n",
              "5               0.740            0.734440            0.756098   \n",
              "\n",
              "   split5_train_score  split6_train_score  split7_train_score  \\\n",
              "0            0.716667            0.694779            0.701245   \n",
              "1            0.754167            0.751004            0.755187   \n",
              "2            0.783333            0.759036            0.755187   \n",
              "3            0.770833            0.751004            0.751037   \n",
              "4            0.770833            0.742972            0.751037   \n",
              "5            0.770833            0.742972            0.751037   \n",
              "\n",
              "   split8_train_score  split9_train_score  mean_train_score  std_train_score  \n",
              "0            0.706827            0.690763          0.693973         0.011707  \n",
              "1            0.751004            0.755020          0.749259         0.005662  \n",
              "2            0.767068            0.763052          0.756223         0.012648  \n",
              "3            0.759036            0.742972          0.749711         0.010532  \n",
              "4            0.759036            0.742972          0.748501         0.010343  \n",
              "5            0.759036            0.746988          0.748903         0.010198  "
            ]
          },
          "execution_count": 54,
          "metadata": {},
          "output_type": "execute_result"
        }
      ],
      "source": [
        "# results of grid search CV\n",
        "cv_results = pd.DataFrame(model_cv.cv_results_)\n",
        "cv_results"
      ]
    },
    {
      "cell_type": "code",
      "execution_count": null,
      "id": "a7ba5ef5",
      "metadata": {
        "execution": {
          "iopub.execute_input": "2022-09-24T14:19:58.902236Z",
          "iopub.status.busy": "2022-09-24T14:19:58.901804Z",
          "iopub.status.idle": "2022-09-24T14:20:00.040658Z",
          "shell.execute_reply": "2022-09-24T14:20:00.039856Z"
        },
        "papermill": {
          "duration": 1.180577,
          "end_time": "2022-09-24T14:20:00.042967",
          "exception": false,
          "start_time": "2022-09-24T14:19:58.862390",
          "status": "completed"
        },
        "tags": [],
        "id": "a7ba5ef5",
        "outputId": "092e8209-2cb7-4b9a-a04b-76e18b65f352"
      },
      "outputs": [
        {
          "data": {
            "image/png": "[encoded data removed]",
            "text/plain": [
              "<Figure size 576x432 with 1 Axes>"
            ]
          },
          "metadata": {},
          "output_type": "display_data"
        }
      ],
      "source": [
        "# plot of C versus train and validation scores\n",
        "plt.figure(figsize=(8, 6))\n",
        "plt.plot(cv_results['param_C'], cv_results['mean_test_score'])\n",
        "plt.plot(cv_results['param_C'], cv_results['mean_train_score'])\n",
        "plt.xlabel('C')\n",
        "plt.ylabel('sensitivity')\n",
        "plt.legend(['test result', 'train result'], loc='upper left')\n",
        "plt.xscale('log')"
      ]
    },
    {
      "cell_type": "code",
      "execution_count": null,
      "id": "d7e86103",
      "metadata": {
        "execution": {
          "iopub.execute_input": "2022-09-24T14:20:00.126092Z",
          "iopub.status.busy": "2022-09-24T14:20:00.124958Z",
          "iopub.status.idle": "2022-09-24T14:20:00.131949Z",
          "shell.execute_reply": "2022-09-24T14:20:00.130359Z"
        },
        "papermill": {
          "duration": 0.051352,
          "end_time": "2022-09-24T14:20:00.134504",
          "exception": false,
          "start_time": "2022-09-24T14:20:00.083152",
          "status": "completed"
        },
        "tags": [],
        "id": "d7e86103",
        "outputId": "3043df8a-b9eb-47e9-f446-505873866836"
      },
      "outputs": [
        {
          "name": "stdout",
          "output_type": "stream",
          "text": [
            " The highest test sensitivity is 0.7519544227440647 at C = 1\n"
          ]
        }
      ],
      "source": [
        "# Best score with best C\n",
        "best_score = model_cv.best_score_\n",
        "best_C = model_cv.best_params_['C']\n",
        "\n",
        "print(\" The highest test sensitivity is {0} at C = {1}\".format(best_score, best_C))"
      ]
    },
    {
      "cell_type": "code",
      "execution_count": null,
      "id": "b654ff87",
      "metadata": {
        "execution": {
          "iopub.execute_input": "2022-09-24T14:20:00.216880Z",
          "iopub.status.busy": "2022-09-24T14:20:00.216138Z",
          "iopub.status.idle": "2022-09-24T14:20:00.252771Z",
          "shell.execute_reply": "2022-09-24T14:20:00.251104Z"
        },
        "papermill": {
          "duration": 0.081662,
          "end_time": "2022-09-24T14:20:00.257386",
          "exception": false,
          "start_time": "2022-09-24T14:20:00.175724",
          "status": "completed"
        },
        "tags": [],
        "id": "b654ff87"
      },
      "outputs": [],
      "source": [
        "# Instantiate the model with best C\n",
        "logistic_1 = LogisticRegression(class_weight='balanced',C=best_C)\n",
        "\n",
        "# Fit the model on the train set\n",
        "log_1_model = logistic_1.fit(X_train_scaled, y_train)\n",
        "\n",
        "# predict the training data\n",
        "Y_train_pred = log_1_model.predict(X_train_scaled)\n",
        "# predict the testing data\n",
        "Y_test_pred = log_1_model.predict(X_test_scaled)"
      ]
    },
    {
      "cell_type": "code",
      "execution_count": null,
      "id": "50f42fec",
      "metadata": {
        "execution": {
          "iopub.execute_input": "2022-09-24T14:20:00.404752Z",
          "iopub.status.busy": "2022-09-24T14:20:00.404315Z",
          "iopub.status.idle": "2022-09-24T14:20:00.423754Z",
          "shell.execute_reply": "2022-09-24T14:20:00.422543Z"
        },
        "papermill": {
          "duration": 0.066978,
          "end_time": "2022-09-24T14:20:00.426379",
          "exception": false,
          "start_time": "2022-09-24T14:20:00.359401",
          "status": "completed"
        },
        "tags": [],
        "id": "50f42fec"
      },
      "outputs": [],
      "source": [
        "# Model evaluation\n",
        "train_eval=pd.DataFrame([evaluate_model(y_train, Y_train_pred)])\n",
        "test_eval=pd.DataFrame([evaluate_model(y_test, Y_test_pred)])\n",
        "df_eval=pd.concat([train_eval,test_eval])\n",
        "df_eval['data']=['train_data','test_data']\n",
        "df_eval.set_index('data',inplace=True)"
      ]
    },
    {
      "cell_type": "code",
      "execution_count": null,
      "id": "7c971e23",
      "metadata": {
        "execution": {
          "iopub.execute_input": "2022-09-24T14:20:00.505673Z",
          "iopub.status.busy": "2022-09-24T14:20:00.505292Z",
          "iopub.status.idle": "2022-09-24T14:20:00.520302Z",
          "shell.execute_reply": "2022-09-24T14:20:00.519019Z"
        },
        "papermill": {
          "duration": 0.057104,
          "end_time": "2022-09-24T14:20:00.522592",
          "exception": false,
          "start_time": "2022-09-24T14:20:00.465488",
          "status": "completed"
        },
        "tags": [],
        "id": "7c971e23",
        "outputId": "0175f428-2771-4f8e-e461-ec2aca9bc0fa"
      },
      "outputs": [
        {
          "data": {
            "text/html": [
              "<div>\n",
              "<style scoped>\n",
              "    .dataframe tbody tr th:only-of-type {\n",
              "        vertical-align: middle;\n",
              "    }\n",
              "\n",
              "    .dataframe tbody tr th {\n",
              "        vertical-align: top;\n",
              "    }\n",
              "\n",
              "    .dataframe thead th {\n",
              "        text-align: right;\n",
              "    }\n",
              "</style>\n",
              "<table border=\"1\" class=\"dataframe\">\n",
              "  <thead>\n",
              "    <tr style=\"text-align: right;\">\n",
              "      <th></th>\n",
              "      <th>TP</th>\n",
              "      <th>TN</th>\n",
              "      <th>FP</th>\n",
              "      <th>FN</th>\n",
              "      <th>Recall</th>\n",
              "      <th>Precision</th>\n",
              "      <th>Specificity</th>\n",
              "      <th>ROC/AUC Score</th>\n",
              "      <th>F1-Score</th>\n",
              "      <th>Accuracy</th>\n",
              "    </tr>\n",
              "    <tr>\n",
              "      <th>data</th>\n",
              "      <th></th>\n",
              "      <th></th>\n",
              "      <th></th>\n",
              "      <th></th>\n",
              "      <th></th>\n",
              "      <th></th>\n",
              "      <th></th>\n",
              "      <th></th>\n",
              "      <th></th>\n",
              "      <th></th>\n",
              "    </tr>\n",
              "  </thead>\n",
              "  <tbody>\n",
              "    <tr>\n",
              "      <th>train_data</th>\n",
              "      <td>222</td>\n",
              "      <td>357</td>\n",
              "      <td>82</td>\n",
              "      <td>51</td>\n",
              "      <td>81.32</td>\n",
              "      <td>73.03</td>\n",
              "      <td>0.81</td>\n",
              "      <td>81.32</td>\n",
              "      <td>76.95</td>\n",
              "      <td>81.32</td>\n",
              "    </tr>\n",
              "    <tr>\n",
              "      <th>test_data</th>\n",
              "      <td>58</td>\n",
              "      <td>89</td>\n",
              "      <td>21</td>\n",
              "      <td>11</td>\n",
              "      <td>84.06</td>\n",
              "      <td>73.42</td>\n",
              "      <td>0.81</td>\n",
              "      <td>84.06</td>\n",
              "      <td>78.38</td>\n",
              "      <td>82.12</td>\n",
              "    </tr>\n",
              "  </tbody>\n",
              "</table>\n",
              "</div>"
            ],
            "text/plain": [
              "             TP   TN  FP  FN  Recall  Precision  Specificity  ROC/AUC Score  \\\n",
              "data                                                                          \n",
              "train_data  222  357  82  51   81.32      73.03         0.81          81.32   \n",
              "test_data    58   89  21  11   84.06      73.42         0.81          84.06   \n",
              "\n",
              "            F1-Score  Accuracy  \n",
              "data                            \n",
              "train_data     76.95     81.32  \n",
              "test_data      78.38     82.12  "
            ]
          },
          "execution_count": 59,
          "metadata": {},
          "output_type": "execute_result"
        }
      ],
      "source": [
        "df_eval"
      ]
    },
    {
      "cell_type": "code",
      "execution_count": null,
      "id": "04256c67",
      "metadata": {
        "execution": {
          "iopub.execute_input": "2022-09-24T14:20:00.602042Z",
          "iopub.status.busy": "2022-09-24T14:20:00.601578Z",
          "iopub.status.idle": "2022-09-24T14:20:00.893975Z",
          "shell.execute_reply": "2022-09-24T14:20:00.892785Z"
        },
        "papermill": {
          "duration": 0.335587,
          "end_time": "2022-09-24T14:20:00.896452",
          "exception": false,
          "start_time": "2022-09-24T14:20:00.560865",
          "status": "completed"
        },
        "tags": [],
        "id": "04256c67",
        "outputId": "aca51cc3-eee0-4b5b-f4b5-2e90187d6b49"
      },
      "outputs": [
        {
          "data": {
            "image/png": "[encoded data removed]",
            "text/plain": [
              "<Figure size 360x360 with 1 Axes>"
            ]
          },
          "metadata": {},
          "output_type": "display_data"
        }
      ],
      "source": [
        "from plot_metric.functions import BinaryClassification\n",
        "# Visualisation with plot_metric\n",
        "bc = BinaryClassification(y_test, Y_test_pred, labels=[\"Class 1\", \"Class 2\"])\n",
        "\n",
        "# Figures\n",
        "plt.figure(figsize=(5,5))\n",
        "bc.plot_roc_curve()\n",
        "plt.show()"
      ]
    },
    {
      "cell_type": "markdown",
      "id": "269cd45b",
      "metadata": {
        "papermill": {
          "duration": 0.040614,
          "end_time": "2022-09-24T14:20:00.978129",
          "exception": false,
          "start_time": "2022-09-24T14:20:00.937515",
          "status": "completed"
        },
        "tags": [],
        "id": "269cd45b"
      },
      "source": [
        "**Decision Tree**"
      ]
    },
    {
      "cell_type": "code",
      "execution_count": null,
      "id": "1e90328b",
      "metadata": {
        "execution": {
          "iopub.execute_input": "2022-09-24T14:20:01.060407Z",
          "iopub.status.busy": "2022-09-24T14:20:01.059978Z",
          "iopub.status.idle": "2022-09-24T14:20:01.204878Z",
          "shell.execute_reply": "2022-09-24T14:20:01.203585Z"
        },
        "papermill": {
          "duration": 0.188992,
          "end_time": "2022-09-24T14:20:01.208033",
          "exception": false,
          "start_time": "2022-09-24T14:20:01.019041",
          "status": "completed"
        },
        "tags": [],
        "id": "1e90328b",
        "outputId": "fa28d12f-ec43-440c-ff00-c4a64699e25c"
      },
      "outputs": [
        {
          "name": "stdout",
          "output_type": "stream",
          "text": [
            "Fitting 5 folds for each of 4 candidates, totalling 20 fits\n"
          ]
        },
        {
          "data": {
            "text/plain": [
              "GridSearchCV(cv=5,\n",
              "             estimator=DecisionTreeClassifier(class_weight='balanced',\n",
              "                                              random_state=42),\n",
              "             param_grid={'max_depth': range(10, 20, 10),\n",
              "                         'min_samples_leaf': range(50, 150, 50),\n",
              "                         'min_samples_split': range(50, 150, 50)},\n",
              "             scoring='recall', verbose=1)"
            ]
          },
          "execution_count": 61,
          "metadata": {},
          "output_type": "execute_result"
        }
      ],
      "source": [
        "# Create the parameter grid \n",
        "param_grid = {\n",
        "    'max_depth': range(10,20,10),\n",
        "    'min_samples_leaf': range(50, 150, 50),\n",
        "    'min_samples_split': range(50, 150, 50),\n",
        "}\n",
        "\n",
        "\n",
        "# Instantiate the grid search model\n",
        "dtree = DecisionTreeClassifier(class_weight='balanced',random_state=42)\n",
        "\n",
        "grid_search = GridSearchCV(estimator = dtree, \n",
        "                           param_grid = param_grid, \n",
        "                           scoring= 'recall',\n",
        "                           cv = 5, \n",
        "                           verbose = 1)\n",
        "\n",
        "# Fit the grid search to the data\n",
        "grid_search.fit(X_train_scaled,y_train)"
      ]
    },
    {
      "cell_type": "code",
      "execution_count": null,
      "id": "d2b3be75",
      "metadata": {
        "execution": {
          "iopub.execute_input": "2022-09-24T14:20:01.292037Z",
          "iopub.status.busy": "2022-09-24T14:20:01.291419Z",
          "iopub.status.idle": "2022-09-24T14:20:01.314068Z",
          "shell.execute_reply": "2022-09-24T14:20:01.312940Z"
        },
        "papermill": {
          "duration": 0.067639,
          "end_time": "2022-09-24T14:20:01.316613",
          "exception": false,
          "start_time": "2022-09-24T14:20:01.248974",
          "status": "completed"
        },
        "tags": [],
        "id": "d2b3be75",
        "outputId": "58821f9b-3fce-49bc-8bbe-97710eecc517"
      },
      "outputs": [
        {
          "data": {
            "text/html": [
              "<div>\n",
              "<style scoped>\n",
              "    .dataframe tbody tr th:only-of-type {\n",
              "        vertical-align: middle;\n",
              "    }\n",
              "\n",
              "    .dataframe tbody tr th {\n",
              "        vertical-align: top;\n",
              "    }\n",
              "\n",
              "    .dataframe thead th {\n",
              "        text-align: right;\n",
              "    }\n",
              "</style>\n",
              "<table border=\"1\" class=\"dataframe\">\n",
              "  <thead>\n",
              "    <tr style=\"text-align: right;\">\n",
              "      <th></th>\n",
              "      <th>mean_fit_time</th>\n",
              "      <th>std_fit_time</th>\n",
              "      <th>mean_score_time</th>\n",
              "      <th>std_score_time</th>\n",
              "      <th>param_max_depth</th>\n",
              "      <th>param_min_samples_leaf</th>\n",
              "      <th>param_min_samples_split</th>\n",
              "      <th>params</th>\n",
              "      <th>split0_test_score</th>\n",
              "      <th>split1_test_score</th>\n",
              "      <th>split2_test_score</th>\n",
              "      <th>split3_test_score</th>\n",
              "      <th>split4_test_score</th>\n",
              "      <th>mean_test_score</th>\n",
              "      <th>std_test_score</th>\n",
              "      <th>rank_test_score</th>\n",
              "    </tr>\n",
              "  </thead>\n",
              "  <tbody>\n",
              "    <tr>\n",
              "      <th>0</th>\n",
              "      <td>0.003647</td>\n",
              "      <td>0.000290</td>\n",
              "      <td>0.002418</td>\n",
              "      <td>0.000130</td>\n",
              "      <td>10</td>\n",
              "      <td>50</td>\n",
              "      <td>50</td>\n",
              "      <td>{'max_depth': 10, 'min_samples_leaf': 50, 'min...</td>\n",
              "      <td>0.800000</td>\n",
              "      <td>0.727273</td>\n",
              "      <td>0.836364</td>\n",
              "      <td>0.888889</td>\n",
              "      <td>0.851852</td>\n",
              "      <td>0.820875</td>\n",
              "      <td>0.054813</td>\n",
              "      <td>1</td>\n",
              "    </tr>\n",
              "    <tr>\n",
              "      <th>1</th>\n",
              "      <td>0.003655</td>\n",
              "      <td>0.000127</td>\n",
              "      <td>0.002407</td>\n",
              "      <td>0.000051</td>\n",
              "      <td>10</td>\n",
              "      <td>50</td>\n",
              "      <td>100</td>\n",
              "      <td>{'max_depth': 10, 'min_samples_leaf': 50, 'min...</td>\n",
              "      <td>0.800000</td>\n",
              "      <td>0.727273</td>\n",
              "      <td>0.836364</td>\n",
              "      <td>0.888889</td>\n",
              "      <td>0.851852</td>\n",
              "      <td>0.820875</td>\n",
              "      <td>0.054813</td>\n",
              "      <td>1</td>\n",
              "    </tr>\n",
              "    <tr>\n",
              "      <th>2</th>\n",
              "      <td>0.003146</td>\n",
              "      <td>0.000042</td>\n",
              "      <td>0.002270</td>\n",
              "      <td>0.000017</td>\n",
              "      <td>10</td>\n",
              "      <td>100</td>\n",
              "      <td>50</td>\n",
              "      <td>{'max_depth': 10, 'min_samples_leaf': 100, 'mi...</td>\n",
              "      <td>0.709091</td>\n",
              "      <td>0.545455</td>\n",
              "      <td>0.763636</td>\n",
              "      <td>0.703704</td>\n",
              "      <td>0.722222</td>\n",
              "      <td>0.688822</td>\n",
              "      <td>0.074698</td>\n",
              "      <td>3</td>\n",
              "    </tr>\n",
              "    <tr>\n",
              "      <th>3</th>\n",
              "      <td>0.003179</td>\n",
              "      <td>0.000042</td>\n",
              "      <td>0.002331</td>\n",
              "      <td>0.000029</td>\n",
              "      <td>10</td>\n",
              "      <td>100</td>\n",
              "      <td>100</td>\n",
              "      <td>{'max_depth': 10, 'min_samples_leaf': 100, 'mi...</td>\n",
              "      <td>0.709091</td>\n",
              "      <td>0.545455</td>\n",
              "      <td>0.763636</td>\n",
              "      <td>0.703704</td>\n",
              "      <td>0.722222</td>\n",
              "      <td>0.688822</td>\n",
              "      <td>0.074698</td>\n",
              "      <td>3</td>\n",
              "    </tr>\n",
              "  </tbody>\n",
              "</table>\n",
              "</div>"
            ],
            "text/plain": [
              "   mean_fit_time  std_fit_time  mean_score_time  std_score_time  \\\n",
              "0       0.003647      0.000290         0.002418        0.000130   \n",
              "1       0.003655      0.000127         0.002407        0.000051   \n",
              "2       0.003146      0.000042         0.002270        0.000017   \n",
              "3       0.003179      0.000042         0.002331        0.000029   \n",
              "\n",
              "  param_max_depth param_min_samples_leaf param_min_samples_split  \\\n",
              "0              10                     50                      50   \n",
              "1              10                     50                     100   \n",
              "2              10                    100                      50   \n",
              "3              10                    100                     100   \n",
              "\n",
              "                                              params  split0_test_score  \\\n",
              "0  {'max_depth': 10, 'min_samples_leaf': 50, 'min...           0.800000   \n",
              "1  {'max_depth': 10, 'min_samples_leaf': 50, 'min...           0.800000   \n",
              "2  {'max_depth': 10, 'min_samples_leaf': 100, 'mi...           0.709091   \n",
              "3  {'max_depth': 10, 'min_samples_leaf': 100, 'mi...           0.709091   \n",
              "\n",
              "   split1_test_score  split2_test_score  split3_test_score  split4_test_score  \\\n",
              "0           0.727273           0.836364           0.888889           0.851852   \n",
              "1           0.727273           0.836364           0.888889           0.851852   \n",
              "2           0.545455           0.763636           0.703704           0.722222   \n",
              "3           0.545455           0.763636           0.703704           0.722222   \n",
              "\n",
              "   mean_test_score  std_test_score  rank_test_score  \n",
              "0         0.820875        0.054813                1  \n",
              "1         0.820875        0.054813                1  \n",
              "2         0.688822        0.074698                3  \n",
              "3         0.688822        0.074698                3  "
            ]
          },
          "execution_count": 62,
          "metadata": {},
          "output_type": "execute_result"
        }
      ],
      "source": [
        "# cv results\n",
        "cv_results = pd.DataFrame(grid_search.cv_results_)\n",
        "cv_results"
      ]
    },
    {
      "cell_type": "code",
      "execution_count": null,
      "id": "db10cf79",
      "metadata": {
        "execution": {
          "iopub.execute_input": "2022-09-24T14:20:01.398943Z",
          "iopub.status.busy": "2022-09-24T14:20:01.398525Z",
          "iopub.status.idle": "2022-09-24T14:20:01.405080Z",
          "shell.execute_reply": "2022-09-24T14:20:01.403801Z"
        },
        "papermill": {
          "duration": 0.050135,
          "end_time": "2022-09-24T14:20:01.407569",
          "exception": false,
          "start_time": "2022-09-24T14:20:01.357434",
          "status": "completed"
        },
        "tags": [],
        "id": "db10cf79",
        "outputId": "8336b9b5-17b9-4978-db2e-efcaae6158a1"
      },
      "outputs": [
        {
          "name": "stdout",
          "output_type": "stream",
          "text": [
            "Best score:- 0.820875420875421\n",
            "DecisionTreeClassifier(class_weight='balanced', max_depth=10,\n",
            "                       min_samples_leaf=50, min_samples_split=50,\n",
            "                       random_state=42)\n"
          ]
        }
      ],
      "source": [
        "# Printing the optimal sensitivity score and hyperparameters\n",
        "print(\"Best score:-\", grid_search.best_score_)\n",
        "print(grid_search.best_estimator_)"
      ]
    },
    {
      "cell_type": "code",
      "execution_count": null,
      "id": "00be4999",
      "metadata": {
        "execution": {
          "iopub.execute_input": "2022-09-24T14:20:01.488735Z",
          "iopub.status.busy": "2022-09-24T14:20:01.488312Z",
          "iopub.status.idle": "2022-09-24T14:20:01.515852Z",
          "shell.execute_reply": "2022-09-24T14:20:01.515006Z"
        },
        "papermill": {
          "duration": 0.071037,
          "end_time": "2022-09-24T14:20:01.518421",
          "exception": false,
          "start_time": "2022-09-24T14:20:01.447384",
          "status": "completed"
        },
        "tags": [],
        "id": "00be4999"
      },
      "outputs": [],
      "source": [
        "# Instantiate the model with best hyperparameters\n",
        "dt = DecisionTreeClassifier(class_weight='balanced', criterion = \"gini\",max_depth=10,\n",
        "                       min_samples_leaf=50, min_samples_split=50,\n",
        "                       random_state=42)\n",
        "\n",
        "# Fit the model on the train set\n",
        "dt_model = dt.fit(X_train_scaled, y_train)\n",
        "\n",
        "# predict the training data\n",
        "Y_train_pred = dt_model.predict(X_train_scaled)\n",
        "# predict the testing data\n",
        "Y_test_pred = dt_model.predict(X_test_scaled)\n",
        "# Model evaluation\n",
        "train_eval=pd.DataFrame([evaluate_model(y_train, Y_train_pred)])\n",
        "test_eval=pd.DataFrame([evaluate_model(y_test, Y_test_pred)])\n",
        "df_eval=pd.concat([train_eval,test_eval])\n",
        "df_eval['data']=['train_data','test_data']\n",
        "df_eval.set_index('data',inplace=True)"
      ]
    },
    {
      "cell_type": "code",
      "execution_count": null,
      "id": "d7cb032e",
      "metadata": {
        "execution": {
          "iopub.execute_input": "2022-09-24T14:20:01.599636Z",
          "iopub.status.busy": "2022-09-24T14:20:01.598734Z",
          "iopub.status.idle": "2022-09-24T14:20:01.614081Z",
          "shell.execute_reply": "2022-09-24T14:20:01.613204Z"
        },
        "papermill": {
          "duration": 0.057793,
          "end_time": "2022-09-24T14:20:01.616253",
          "exception": false,
          "start_time": "2022-09-24T14:20:01.558460",
          "status": "completed"
        },
        "tags": [],
        "id": "d7cb032e",
        "outputId": "88520ab2-c68f-49f7-94c5-132d3d0eb01c"
      },
      "outputs": [
        {
          "data": {
            "text/html": [
              "<div>\n",
              "<style scoped>\n",
              "    .dataframe tbody tr th:only-of-type {\n",
              "        vertical-align: middle;\n",
              "    }\n",
              "\n",
              "    .dataframe tbody tr th {\n",
              "        vertical-align: top;\n",
              "    }\n",
              "\n",
              "    .dataframe thead th {\n",
              "        text-align: right;\n",
              "    }\n",
              "</style>\n",
              "<table border=\"1\" class=\"dataframe\">\n",
              "  <thead>\n",
              "    <tr style=\"text-align: right;\">\n",
              "      <th></th>\n",
              "      <th>TP</th>\n",
              "      <th>TN</th>\n",
              "      <th>FP</th>\n",
              "      <th>FN</th>\n",
              "      <th>Recall</th>\n",
              "      <th>Precision</th>\n",
              "      <th>Specificity</th>\n",
              "      <th>ROC/AUC Score</th>\n",
              "      <th>F1-Score</th>\n",
              "      <th>Accuracy</th>\n",
              "    </tr>\n",
              "    <tr>\n",
              "      <th>data</th>\n",
              "      <th></th>\n",
              "      <th></th>\n",
              "      <th></th>\n",
              "      <th></th>\n",
              "      <th></th>\n",
              "      <th></th>\n",
              "      <th></th>\n",
              "      <th></th>\n",
              "      <th></th>\n",
              "      <th></th>\n",
              "    </tr>\n",
              "  </thead>\n",
              "  <tbody>\n",
              "    <tr>\n",
              "      <th>train_data</th>\n",
              "      <td>205</td>\n",
              "      <td>366</td>\n",
              "      <td>73</td>\n",
              "      <td>68</td>\n",
              "      <td>75.09</td>\n",
              "      <td>73.74</td>\n",
              "      <td>0.83</td>\n",
              "      <td>75.09</td>\n",
              "      <td>74.41</td>\n",
              "      <td>80.20</td>\n",
              "    </tr>\n",
              "    <tr>\n",
              "      <th>test_data</th>\n",
              "      <td>47</td>\n",
              "      <td>83</td>\n",
              "      <td>27</td>\n",
              "      <td>22</td>\n",
              "      <td>68.12</td>\n",
              "      <td>63.51</td>\n",
              "      <td>0.75</td>\n",
              "      <td>68.12</td>\n",
              "      <td>65.73</td>\n",
              "      <td>72.63</td>\n",
              "    </tr>\n",
              "  </tbody>\n",
              "</table>\n",
              "</div>"
            ],
            "text/plain": [
              "             TP   TN  FP  FN  Recall  Precision  Specificity  ROC/AUC Score  \\\n",
              "data                                                                          \n",
              "train_data  205  366  73  68   75.09      73.74         0.83          75.09   \n",
              "test_data    47   83  27  22   68.12      63.51         0.75          68.12   \n",
              "\n",
              "            F1-Score  Accuracy  \n",
              "data                            \n",
              "train_data     74.41     80.20  \n",
              "test_data      65.73     72.63  "
            ]
          },
          "execution_count": 65,
          "metadata": {},
          "output_type": "execute_result"
        }
      ],
      "source": [
        "df_eval"
      ]
    },
    {
      "cell_type": "code",
      "execution_count": null,
      "id": "ba3d6076",
      "metadata": {
        "execution": {
          "iopub.execute_input": "2022-09-24T14:20:01.698065Z",
          "iopub.status.busy": "2022-09-24T14:20:01.697191Z",
          "iopub.status.idle": "2022-09-24T14:20:01.976940Z",
          "shell.execute_reply": "2022-09-24T14:20:01.975773Z"
        },
        "papermill": {
          "duration": 0.323497,
          "end_time": "2022-09-24T14:20:01.979321",
          "exception": false,
          "start_time": "2022-09-24T14:20:01.655824",
          "status": "completed"
        },
        "tags": [],
        "id": "ba3d6076",
        "outputId": "bc7d1fb3-ec1c-4ed7-f25c-8bae5675308a"
      },
      "outputs": [
        {
          "data": {
            "image/png": "[encoded data removed]",
            "text/plain": [
              "<Figure size 360x360 with 1 Axes>"
            ]
          },
          "metadata": {},
          "output_type": "display_data"
        }
      ],
      "source": [
        "# Visualisation with plot_metric\n",
        "bc = BinaryClassification(y_test, Y_test_pred, labels=[\"Class 1\", \"Class 2\"])\n",
        "\n",
        "# Figures\n",
        "plt.figure(figsize=(5,5))\n",
        "bc.plot_roc_curve()\n",
        "plt.show()"
      ]
    },
    {
      "cell_type": "markdown",
      "id": "773529ad",
      "metadata": {
        "papermill": {
          "duration": 0.040755,
          "end_time": "2022-09-24T14:20:02.061444",
          "exception": false,
          "start_time": "2022-09-24T14:20:02.020689",
          "status": "completed"
        },
        "tags": [],
        "id": "773529ad"
      },
      "source": [
        "**RandomForest Model**"
      ]
    },
    {
      "cell_type": "code",
      "execution_count": null,
      "id": "01f144d9",
      "metadata": {
        "execution": {
          "iopub.execute_input": "2022-09-24T14:20:02.143511Z",
          "iopub.status.busy": "2022-09-24T14:20:02.143099Z",
          "iopub.status.idle": "2022-09-24T14:20:08.913066Z",
          "shell.execute_reply": "2022-09-24T14:20:08.912263Z"
        },
        "papermill": {
          "duration": 6.813689,
          "end_time": "2022-09-24T14:20:08.915171",
          "exception": false,
          "start_time": "2022-09-24T14:20:02.101482",
          "status": "completed"
        },
        "tags": [],
        "id": "01f144d9",
        "outputId": "de8dc3eb-2c62-41c4-8e07-916ee13f6a6d"
      },
      "outputs": [
        {
          "name": "stdout",
          "output_type": "stream",
          "text": [
            "Fitting 3 folds for each of 4 candidates, totalling 12 fits\n"
          ]
        },
        {
          "data": {
            "text/plain": [
              "GridSearchCV(cv=3, estimator=RandomForestClassifier(class_weight='balanced'),\n",
              "             param_grid={'max_depth': range(10, 20, 10), 'max_features': [7],\n",
              "                         'min_samples_leaf': range(50, 150, 50),\n",
              "                         'min_samples_split': range(50, 150, 50),\n",
              "                         'n_estimators': [300]},\n",
              "             return_train_score=True, scoring='recall', verbose=1)"
            ]
          },
          "execution_count": 67,
          "metadata": {},
          "output_type": "execute_result"
        }
      ],
      "source": [
        "# Create the parameter grid \n",
        "param_grid = {\n",
        "    'max_depth': range(10,20,10),\n",
        "    'min_samples_leaf': range(50, 150, 50),\n",
        "    'min_samples_split': range(50, 150, 50),\n",
        "    'max_features': [7],\n",
        "    'n_estimators':[300]\n",
        "}\n",
        "# Create a based model\n",
        "rf = RandomForestClassifier(class_weight='balanced')\n",
        "# Instantiate the grid search model\n",
        "grid_search = GridSearchCV(estimator = rf, \n",
        "                           param_grid = param_grid, \n",
        "                           cv = 3,\n",
        "                           verbose = 1, \n",
        "                           scoring='recall',\n",
        "                           return_train_score=True)\n",
        "\n",
        "# Fit the model\n",
        "grid_search.fit(X_train_scaled, y_train)"
      ]
    },
    {
      "cell_type": "code",
      "execution_count": null,
      "id": "0b29f7be",
      "metadata": {
        "execution": {
          "iopub.execute_input": "2022-09-24T14:20:08.999045Z",
          "iopub.status.busy": "2022-09-24T14:20:08.998379Z",
          "iopub.status.idle": "2022-09-24T14:20:09.004403Z",
          "shell.execute_reply": "2022-09-24T14:20:09.002871Z"
        },
        "papermill": {
          "duration": 0.051441,
          "end_time": "2022-09-24T14:20:09.007402",
          "exception": false,
          "start_time": "2022-09-24T14:20:08.955961",
          "status": "completed"
        },
        "tags": [],
        "id": "0b29f7be",
        "outputId": "71cc571b-4c4b-4274-c1c8-f01f23cf41ea"
      },
      "outputs": [
        {
          "name": "stdout",
          "output_type": "stream",
          "text": [
            "Best Score 0.7362637362637363\n",
            "Best Params {'max_depth': 10, 'max_features': 7, 'min_samples_leaf': 50, 'min_samples_split': 50, 'n_estimators': 300}\n"
          ]
        }
      ],
      "source": [
        "print(\"Best Score\",grid_search.best_score_)\n",
        "print(\"Best Params\",grid_search.best_params_)"
      ]
    },
    {
      "cell_type": "code",
      "execution_count": null,
      "id": "16511ce3",
      "metadata": {
        "execution": {
          "iopub.execute_input": "2022-09-24T14:20:09.090855Z",
          "iopub.status.busy": "2022-09-24T14:20:09.090192Z",
          "iopub.status.idle": "2022-09-24T14:20:09.689173Z",
          "shell.execute_reply": "2022-09-24T14:20:09.688218Z"
        },
        "papermill": {
          "duration": 0.644021,
          "end_time": "2022-09-24T14:20:09.691923",
          "exception": false,
          "start_time": "2022-09-24T14:20:09.047902",
          "status": "completed"
        },
        "tags": [],
        "id": "16511ce3"
      },
      "outputs": [],
      "source": [
        "# Instantiate the model with best hyperparameters\n",
        "rfc = RandomForestClassifier(class_weight='balanced',\n",
        "                             max_depth=10,\n",
        "                             min_samples_leaf=50, \n",
        "                             min_samples_split=100,\n",
        "                             max_features=7,\n",
        "                             n_estimators=300,\n",
        "                       random_state=42)\n",
        "\n",
        "# Fit the model on the train set\n",
        "rfc_model = rfc.fit(X_train_scaled, y_train)\n",
        "\n",
        "# predict the training data\n",
        "Y_train_pred = rfc_model.predict(X_train_scaled)\n",
        "# predict the testing data\n",
        "Y_test_pred = rfc_model.predict(X_test_scaled)\n",
        "# Model evaluation\n",
        "train_eval=pd.DataFrame([evaluate_model(y_train, Y_train_pred)])\n",
        "test_eval=pd.DataFrame([evaluate_model(y_test, Y_test_pred)])\n",
        "df_eval=pd.concat([train_eval,test_eval])\n",
        "df_eval['data']=['train_data','test_data']\n",
        "df_eval.set_index('data',inplace=True)"
      ]
    },
    {
      "cell_type": "code",
      "execution_count": null,
      "id": "8781916d",
      "metadata": {
        "execution": {
          "iopub.execute_input": "2022-09-24T14:20:09.776939Z",
          "iopub.status.busy": "2022-09-24T14:20:09.775747Z",
          "iopub.status.idle": "2022-09-24T14:20:09.791112Z",
          "shell.execute_reply": "2022-09-24T14:20:09.790203Z"
        },
        "papermill": {
          "duration": 0.059589,
          "end_time": "2022-09-24T14:20:09.793416",
          "exception": false,
          "start_time": "2022-09-24T14:20:09.733827",
          "status": "completed"
        },
        "tags": [],
        "id": "8781916d",
        "outputId": "f1c0b903-0c52-4a46-90f4-76397cb8f695"
      },
      "outputs": [
        {
          "data": {
            "text/html": [
              "<div>\n",
              "<style scoped>\n",
              "    .dataframe tbody tr th:only-of-type {\n",
              "        vertical-align: middle;\n",
              "    }\n",
              "\n",
              "    .dataframe tbody tr th {\n",
              "        vertical-align: top;\n",
              "    }\n",
              "\n",
              "    .dataframe thead th {\n",
              "        text-align: right;\n",
              "    }\n",
              "</style>\n",
              "<table border=\"1\" class=\"dataframe\">\n",
              "  <thead>\n",
              "    <tr style=\"text-align: right;\">\n",
              "      <th></th>\n",
              "      <th>TP</th>\n",
              "      <th>TN</th>\n",
              "      <th>FP</th>\n",
              "      <th>FN</th>\n",
              "      <th>Recall</th>\n",
              "      <th>Precision</th>\n",
              "      <th>Specificity</th>\n",
              "      <th>ROC/AUC Score</th>\n",
              "      <th>F1-Score</th>\n",
              "      <th>Accuracy</th>\n",
              "    </tr>\n",
              "    <tr>\n",
              "      <th>data</th>\n",
              "      <th></th>\n",
              "      <th></th>\n",
              "      <th></th>\n",
              "      <th></th>\n",
              "      <th></th>\n",
              "      <th></th>\n",
              "      <th></th>\n",
              "      <th></th>\n",
              "      <th></th>\n",
              "      <th></th>\n",
              "    </tr>\n",
              "  </thead>\n",
              "  <tbody>\n",
              "    <tr>\n",
              "      <th>train_data</th>\n",
              "      <td>208</td>\n",
              "      <td>364</td>\n",
              "      <td>75</td>\n",
              "      <td>65</td>\n",
              "      <td>76.19</td>\n",
              "      <td>73.50</td>\n",
              "      <td>0.83</td>\n",
              "      <td>76.19</td>\n",
              "      <td>74.82</td>\n",
              "      <td>80.34</td>\n",
              "    </tr>\n",
              "    <tr>\n",
              "      <th>test_data</th>\n",
              "      <td>50</td>\n",
              "      <td>84</td>\n",
              "      <td>26</td>\n",
              "      <td>19</td>\n",
              "      <td>72.46</td>\n",
              "      <td>65.79</td>\n",
              "      <td>0.76</td>\n",
              "      <td>72.46</td>\n",
              "      <td>68.96</td>\n",
              "      <td>74.86</td>\n",
              "    </tr>\n",
              "  </tbody>\n",
              "</table>\n",
              "</div>"
            ],
            "text/plain": [
              "             TP   TN  FP  FN  Recall  Precision  Specificity  ROC/AUC Score  \\\n",
              "data                                                                          \n",
              "train_data  208  364  75  65   76.19      73.50         0.83          76.19   \n",
              "test_data    50   84  26  19   72.46      65.79         0.76          72.46   \n",
              "\n",
              "            F1-Score  Accuracy  \n",
              "data                            \n",
              "train_data     74.82     80.34  \n",
              "test_data      68.96     74.86  "
            ]
          },
          "execution_count": 70,
          "metadata": {},
          "output_type": "execute_result"
        }
      ],
      "source": [
        "df_eval"
      ]
    },
    {
      "cell_type": "code",
      "execution_count": null,
      "id": "0fec9763",
      "metadata": {
        "execution": {
          "iopub.execute_input": "2022-09-24T14:20:09.878037Z",
          "iopub.status.busy": "2022-09-24T14:20:09.877333Z",
          "iopub.status.idle": "2022-09-24T14:20:10.159604Z",
          "shell.execute_reply": "2022-09-24T14:20:10.158450Z"
        },
        "papermill": {
          "duration": 0.327115,
          "end_time": "2022-09-24T14:20:10.162246",
          "exception": false,
          "start_time": "2022-09-24T14:20:09.835131",
          "status": "completed"
        },
        "tags": [],
        "id": "0fec9763",
        "outputId": "45d37a61-fd86-4e11-9ae8-3a2750fa57df"
      },
      "outputs": [
        {
          "data": {
            "image/png": "[encoded data removed]",
            "text/plain": [
              "<Figure size 360x360 with 1 Axes>"
            ]
          },
          "metadata": {},
          "output_type": "display_data"
        }
      ],
      "source": [
        "# Visualisation with plot_metric\n",
        "bc = BinaryClassification(y_test, Y_test_pred, labels=[\"Class 1\", \"Class 2\"])\n",
        "\n",
        "# Figures\n",
        "plt.figure(figsize=(5,5))\n",
        "bc.plot_roc_curve()\n",
        "plt.show()"
      ]
    },
    {
      "cell_type": "markdown",
      "id": "ee8746a0",
      "metadata": {
        "papermill": {
          "duration": 0.04162,
          "end_time": "2022-09-24T14:20:10.245308",
          "exception": false,
          "start_time": "2022-09-24T14:20:10.203688",
          "status": "completed"
        },
        "tags": [],
        "id": "ee8746a0"
      },
      "source": [
        "**SVC**"
      ]
    },
    {
      "cell_type": "code",
      "execution_count": null,
      "id": "0bf10552",
      "metadata": {
        "execution": {
          "iopub.execute_input": "2022-09-24T14:20:10.330931Z",
          "iopub.status.busy": "2022-09-24T14:20:10.329640Z",
          "iopub.status.idle": "2022-09-24T14:20:38.856748Z",
          "shell.execute_reply": "2022-09-24T14:20:38.855295Z"
        },
        "papermill": {
          "duration": 28.572904,
          "end_time": "2022-09-24T14:20:38.859196",
          "exception": false,
          "start_time": "2022-09-24T14:20:10.286292",
          "status": "completed"
        },
        "tags": [],
        "id": "0bf10552",
        "outputId": "fe7b8de0-65fb-4d65-81e3-4a21f79868e7"
      },
      "outputs": [
        {
          "name": "stdout",
          "output_type": "stream",
          "text": [
            "Fitting 5 folds for each of 60 candidates, totalling 300 fits\n",
            "[CV 1/5] END ........C=0.1, gamma=1, kernel=rbf;, score=0.615 total time=   0.0s\n",
            "[CV 2/5] END ........C=0.1, gamma=1, kernel=rbf;, score=0.615 total time=   0.0s\n",
            "[CV 3/5] END ........C=0.1, gamma=1, kernel=rbf;, score=0.613 total time=   0.0s\n",
            "[CV 4/5] END ........C=0.1, gamma=1, kernel=rbf;, score=0.620 total time=   0.0s\n",
            "[CV 5/5] END ........C=0.1, gamma=1, kernel=rbf;, score=0.620 total time=   0.0s\n",
            "[CV 1/5] END .....C=0.1, gamma=1, kernel=linear;, score=0.804 total time=   0.0s\n",
            "[CV 2/5] END .....C=0.1, gamma=1, kernel=linear;, score=0.811 total time=   0.0s\n",
            "[CV 3/5] END .....C=0.1, gamma=1, kernel=linear;, score=0.838 total time=   0.0s\n",
            "[CV 4/5] END .....C=0.1, gamma=1, kernel=linear;, score=0.831 total time=   0.0s\n",
            "[CV 5/5] END .....C=0.1, gamma=1, kernel=linear;, score=0.796 total time=   0.0s\n",
            "[CV 1/5] END ......C=0.1, gamma=0.1, kernel=rbf;, score=0.804 total time=   0.0s\n",
            "[CV 2/5] END ......C=0.1, gamma=0.1, kernel=rbf;, score=0.776 total time=   0.0s\n",
            "[CV 3/5] END ......C=0.1, gamma=0.1, kernel=rbf;, score=0.831 total time=   0.0s\n",
            "[CV 4/5] END ......C=0.1, gamma=0.1, kernel=rbf;, score=0.803 total time=   0.0s\n",
            "[CV 5/5] END ......C=0.1, gamma=0.1, kernel=rbf;, score=0.803 total time=   0.0s\n",
            "[CV 1/5] END ...C=0.1, gamma=0.1, kernel=linear;, score=0.804 total time=   0.0s\n",
            "[CV 2/5] END ...C=0.1, gamma=0.1, kernel=linear;, score=0.811 total time=   0.0s\n",
            "[CV 3/5] END ...C=0.1, gamma=0.1, kernel=linear;, score=0.838 total time=   0.0s\n",
            "[CV 4/5] END ...C=0.1, gamma=0.1, kernel=linear;, score=0.831 total time=   0.0s\n",
            "[CV 5/5] END ...C=0.1, gamma=0.1, kernel=linear;, score=0.796 total time=   0.0s\n",
            "[CV 1/5] END .....C=0.1, gamma=0.01, kernel=rbf;, score=0.797 total time=   0.0s\n",
            "[CV 2/5] END .....C=0.1, gamma=0.01, kernel=rbf;, score=0.762 total time=   0.0s\n",
            "[CV 3/5] END .....C=0.1, gamma=0.01, kernel=rbf;, score=0.817 total time=   0.0s\n",
            "[CV 4/5] END .....C=0.1, gamma=0.01, kernel=rbf;, score=0.817 total time=   0.0s\n",
            "[CV 5/5] END .....C=0.1, gamma=0.01, kernel=rbf;, score=0.782 total time=   0.0s\n",
            "[CV 1/5] END ..C=0.1, gamma=0.01, kernel=linear;, score=0.804 total time=   0.0s\n",
            "[CV 2/5] END ..C=0.1, gamma=0.01, kernel=linear;, score=0.811 total time=   0.0s\n",
            "[CV 3/5] END ..C=0.1, gamma=0.01, kernel=linear;, score=0.838 total time=   0.0s\n",
            "[CV 4/5] END ..C=0.1, gamma=0.01, kernel=linear;, score=0.831 total time=   0.0s\n",
            "[CV 5/5] END ..C=0.1, gamma=0.01, kernel=linear;, score=0.796 total time=   0.0s\n",
            "[CV 1/5] END ....C=0.1, gamma=0.001, kernel=rbf;, score=0.615 total time=   0.0s\n",
            "[CV 2/5] END ....C=0.1, gamma=0.001, kernel=rbf;, score=0.615 total time=   0.0s\n",
            "[CV 3/5] END ....C=0.1, gamma=0.001, kernel=rbf;, score=0.613 total time=   0.0s\n",
            "[CV 4/5] END ....C=0.1, gamma=0.001, kernel=rbf;, score=0.620 total time=   0.0s\n",
            "[CV 5/5] END ....C=0.1, gamma=0.001, kernel=rbf;, score=0.620 total time=   0.0s\n",
            "[CV 1/5] END .C=0.1, gamma=0.001, kernel=linear;, score=0.804 total time=   0.0s\n",
            "[CV 2/5] END .C=0.1, gamma=0.001, kernel=linear;, score=0.811 total time=   0.0s\n",
            "[CV 3/5] END .C=0.1, gamma=0.001, kernel=linear;, score=0.838 total time=   0.0s\n",
            "[CV 4/5] END .C=0.1, gamma=0.001, kernel=linear;, score=0.831 total time=   0.0s\n",
            "[CV 5/5] END .C=0.1, gamma=0.001, kernel=linear;, score=0.796 total time=   0.0s\n",
            "[CV 1/5] END ...C=0.1, gamma=0.0001, kernel=rbf;, score=0.615 total time=   0.0s\n",
            "[CV 2/5] END ...C=0.1, gamma=0.0001, kernel=rbf;, score=0.615 total time=   0.0s\n",
            "[CV 3/5] END ...C=0.1, gamma=0.0001, kernel=rbf;, score=0.613 total time=   0.0s\n",
            "[CV 4/5] END ...C=0.1, gamma=0.0001, kernel=rbf;, score=0.620 total time=   0.0s\n",
            "[CV 5/5] END ...C=0.1, gamma=0.0001, kernel=rbf;, score=0.620 total time=   0.0s\n",
            "[CV 1/5] END C=0.1, gamma=0.0001, kernel=linear;, score=0.804 total time=   0.0s\n",
            "[CV 2/5] END C=0.1, gamma=0.0001, kernel=linear;, score=0.811 total time=   0.0s\n",
            "[CV 3/5] END C=0.1, gamma=0.0001, kernel=linear;, score=0.838 total time=   0.0s\n",
            "[CV 4/5] END C=0.1, gamma=0.0001, kernel=linear;, score=0.831 total time=   0.0s\n",
            "[CV 5/5] END C=0.1, gamma=0.0001, kernel=linear;, score=0.796 total time=   0.0s\n",
            "[CV 1/5] END ..........C=1, gamma=1, kernel=rbf;, score=0.734 total time=   0.0s\n",
            "[CV 2/5] END ..........C=1, gamma=1, kernel=rbf;, score=0.720 total time=   0.0s\n",
            "[CV 3/5] END ..........C=1, gamma=1, kernel=rbf;, score=0.803 total time=   0.0s\n",
            "[CV 4/5] END ..........C=1, gamma=1, kernel=rbf;, score=0.775 total time=   0.0s\n",
            "[CV 5/5] END ..........C=1, gamma=1, kernel=rbf;, score=0.761 total time=   0.0s\n",
            "[CV 1/5] END .......C=1, gamma=1, kernel=linear;, score=0.797 total time=   0.0s\n",
            "[CV 2/5] END .......C=1, gamma=1, kernel=linear;, score=0.825 total time=   0.0s\n",
            "[CV 3/5] END .......C=1, gamma=1, kernel=linear;, score=0.831 total time=   0.0s\n",
            "[CV 4/5] END .......C=1, gamma=1, kernel=linear;, score=0.831 total time=   0.0s\n",
            "[CV 5/5] END .......C=1, gamma=1, kernel=linear;, score=0.838 total time=   0.0s\n",
            "[CV 1/5] END ........C=1, gamma=0.1, kernel=rbf;, score=0.825 total time=   0.0s\n",
            "[CV 2/5] END ........C=1, gamma=0.1, kernel=rbf;, score=0.804 total time=   0.0s\n",
            "[CV 3/5] END ........C=1, gamma=0.1, kernel=rbf;, score=0.845 total time=   0.0s\n",
            "[CV 4/5] END ........C=1, gamma=0.1, kernel=rbf;, score=0.838 total time=   0.0s\n",
            "[CV 5/5] END ........C=1, gamma=0.1, kernel=rbf;, score=0.810 total time=   0.0s\n",
            "[CV 1/5] END .....C=1, gamma=0.1, kernel=linear;, score=0.797 total time=   0.0s\n",
            "[CV 2/5] END .....C=1, gamma=0.1, kernel=linear;, score=0.825 total time=   0.0s\n",
            "[CV 3/5] END .....C=1, gamma=0.1, kernel=linear;, score=0.831 total time=   0.0s\n",
            "[CV 4/5] END .....C=1, gamma=0.1, kernel=linear;, score=0.831 total time=   0.0s\n",
            "[CV 5/5] END .....C=1, gamma=0.1, kernel=linear;, score=0.838 total time=   0.0s\n",
            "[CV 1/5] END .......C=1, gamma=0.01, kernel=rbf;, score=0.804 total time=   0.0s\n",
            "[CV 2/5] END .......C=1, gamma=0.01, kernel=rbf;, score=0.769 total time=   0.0s\n",
            "[CV 3/5] END .......C=1, gamma=0.01, kernel=rbf;, score=0.831 total time=   0.0s\n",
            "[CV 4/5] END .......C=1, gamma=0.01, kernel=rbf;, score=0.817 total time=   0.0s\n",
            "[CV 5/5] END .......C=1, gamma=0.01, kernel=rbf;, score=0.796 total time=   0.0s\n",
            "[CV 1/5] END ....C=1, gamma=0.01, kernel=linear;, score=0.797 total time=   0.0s\n",
            "[CV 2/5] END ....C=1, gamma=0.01, kernel=linear;, score=0.825 total time=   0.0s\n",
            "[CV 3/5] END ....C=1, gamma=0.01, kernel=linear;, score=0.831 total time=   0.0s\n",
            "[CV 4/5] END ....C=1, gamma=0.01, kernel=linear;, score=0.831 total time=   0.0s\n",
            "[CV 5/5] END ....C=1, gamma=0.01, kernel=linear;, score=0.838 total time=   0.0s\n",
            "[CV 1/5] END ......C=1, gamma=0.001, kernel=rbf;, score=0.790 total time=   0.0s\n",
            "[CV 2/5] END ......C=1, gamma=0.001, kernel=rbf;, score=0.762 total time=   0.0s\n",
            "[CV 3/5] END ......C=1, gamma=0.001, kernel=rbf;, score=0.803 total time=   0.0s\n",
            "[CV 4/5] END ......C=1, gamma=0.001, kernel=rbf;, score=0.803 total time=   0.0s\n",
            "[CV 5/5] END ......C=1, gamma=0.001, kernel=rbf;, score=0.789 total time=   0.0s\n",
            "[CV 1/5] END ...C=1, gamma=0.001, kernel=linear;, score=0.797 total time=   0.0s\n",
            "[CV 2/5] END ...C=1, gamma=0.001, kernel=linear;, score=0.825 total time=   0.0s\n",
            "[CV 3/5] END ...C=1, gamma=0.001, kernel=linear;, score=0.831 total time=   0.0s\n",
            "[CV 4/5] END ...C=1, gamma=0.001, kernel=linear;, score=0.831 total time=   0.0s\n",
            "[CV 5/5] END ...C=1, gamma=0.001, kernel=linear;, score=0.838 total time=   0.0s\n",
            "[CV 1/5] END .....C=1, gamma=0.0001, kernel=rbf;, score=0.615 total time=   0.0s\n",
            "[CV 2/5] END .....C=1, gamma=0.0001, kernel=rbf;, score=0.615 total time=   0.0s\n",
            "[CV 3/5] END .....C=1, gamma=0.0001, kernel=rbf;, score=0.613 total time=   0.0s\n",
            "[CV 4/5] END .....C=1, gamma=0.0001, kernel=rbf;, score=0.620 total time=   0.0s\n",
            "[CV 5/5] END .....C=1, gamma=0.0001, kernel=rbf;, score=0.620 total time=   0.0s\n",
            "[CV 1/5] END ..C=1, gamma=0.0001, kernel=linear;, score=0.797 total time=   0.0s\n",
            "[CV 2/5] END ..C=1, gamma=0.0001, kernel=linear;, score=0.825 total time=   0.0s\n",
            "[CV 3/5] END ..C=1, gamma=0.0001, kernel=linear;, score=0.831 total time=   0.0s\n",
            "[CV 4/5] END ..C=1, gamma=0.0001, kernel=linear;, score=0.831 total time=   0.0s\n",
            "[CV 5/5] END ..C=1, gamma=0.0001, kernel=linear;, score=0.838 total time=   0.0s\n",
            "[CV 1/5] END ..........C=8, gamma=1, kernel=rbf;, score=0.706 total time=   0.0s\n",
            "[CV 2/5] END ..........C=8, gamma=1, kernel=rbf;, score=0.699 total time=   0.0s\n",
            "[CV 3/5] END ..........C=8, gamma=1, kernel=rbf;, score=0.775 total time=   0.0s\n",
            "[CV 4/5] END ..........C=8, gamma=1, kernel=rbf;, score=0.775 total time=   0.0s\n",
            "[CV 5/5] END ..........C=8, gamma=1, kernel=rbf;, score=0.754 total time=   0.0s\n",
            "[CV 1/5] END .......C=8, gamma=1, kernel=linear;, score=0.797 total time=   0.1s\n",
            "[CV 2/5] END .......C=8, gamma=1, kernel=linear;, score=0.825 total time=   0.1s\n",
            "[CV 3/5] END .......C=8, gamma=1, kernel=linear;, score=0.831 total time=   0.1s\n",
            "[CV 4/5] END .......C=8, gamma=1, kernel=linear;, score=0.824 total time=   0.1s\n",
            "[CV 5/5] END .......C=8, gamma=1, kernel=linear;, score=0.824 total time=   0.1s\n",
            "[CV 1/5] END ........C=8, gamma=0.1, kernel=rbf;, score=0.804 total time=   0.0s\n",
            "[CV 2/5] END ........C=8, gamma=0.1, kernel=rbf;, score=0.776 total time=   0.0s\n",
            "[CV 3/5] END ........C=8, gamma=0.1, kernel=rbf;, score=0.831 total time=   0.0s\n",
            "[CV 4/5] END ........C=8, gamma=0.1, kernel=rbf;, score=0.838 total time=   0.0s\n",
            "[CV 5/5] END ........C=8, gamma=0.1, kernel=rbf;, score=0.796 total time=   0.0s\n",
            "[CV 1/5] END .....C=8, gamma=0.1, kernel=linear;, score=0.797 total time=   0.1s\n",
            "[CV 2/5] END .....C=8, gamma=0.1, kernel=linear;, score=0.825 total time=   0.1s\n",
            "[CV 3/5] END .....C=8, gamma=0.1, kernel=linear;, score=0.831 total time=   0.1s\n",
            "[CV 4/5] END .....C=8, gamma=0.1, kernel=linear;, score=0.824 total time=   0.1s\n",
            "[CV 5/5] END .....C=8, gamma=0.1, kernel=linear;, score=0.824 total time=   0.1s\n",
            "[CV 1/5] END .......C=8, gamma=0.01, kernel=rbf;, score=0.832 total time=   0.0s\n",
            "[CV 2/5] END .......C=8, gamma=0.01, kernel=rbf;, score=0.832 total time=   0.0s\n",
            "[CV 3/5] END .......C=8, gamma=0.01, kernel=rbf;, score=0.838 total time=   0.0s\n",
            "[CV 4/5] END .......C=8, gamma=0.01, kernel=rbf;, score=0.824 total time=   0.0s\n",
            "[CV 5/5] END .......C=8, gamma=0.01, kernel=rbf;, score=0.824 total time=   0.0s\n",
            "[CV 1/5] END ....C=8, gamma=0.01, kernel=linear;, score=0.797 total time=   0.1s\n",
            "[CV 2/5] END ....C=8, gamma=0.01, kernel=linear;, score=0.825 total time=   0.1s\n",
            "[CV 3/5] END ....C=8, gamma=0.01, kernel=linear;, score=0.831 total time=   0.1s\n",
            "[CV 4/5] END ....C=8, gamma=0.01, kernel=linear;, score=0.824 total time=   0.1s\n",
            "[CV 5/5] END ....C=8, gamma=0.01, kernel=linear;, score=0.824 total time=   0.1s\n",
            "[CV 1/5] END ......C=8, gamma=0.001, kernel=rbf;, score=0.797 total time=   0.0s\n",
            "[CV 2/5] END ......C=8, gamma=0.001, kernel=rbf;, score=0.762 total time=   0.0s\n",
            "[CV 3/5] END ......C=8, gamma=0.001, kernel=rbf;, score=0.803 total time=   0.0s\n",
            "[CV 4/5] END ......C=8, gamma=0.001, kernel=rbf;, score=0.810 total time=   0.0s\n",
            "[CV 5/5] END ......C=8, gamma=0.001, kernel=rbf;, score=0.775 total time=   0.0s\n",
            "[CV 1/5] END ...C=8, gamma=0.001, kernel=linear;, score=0.797 total time=   0.1s\n",
            "[CV 2/5] END ...C=8, gamma=0.001, kernel=linear;, score=0.825 total time=   0.1s\n",
            "[CV 3/5] END ...C=8, gamma=0.001, kernel=linear;, score=0.831 total time=   0.1s\n",
            "[CV 4/5] END ...C=8, gamma=0.001, kernel=linear;, score=0.824 total time=   0.1s\n",
            "[CV 5/5] END ...C=8, gamma=0.001, kernel=linear;, score=0.824 total time=   0.1s\n",
            "[CV 1/5] END .....C=8, gamma=0.0001, kernel=rbf;, score=0.790 total time=   0.0s\n",
            "[CV 2/5] END .....C=8, gamma=0.0001, kernel=rbf;, score=0.762 total time=   0.0s\n",
            "[CV 3/5] END .....C=8, gamma=0.0001, kernel=rbf;, score=0.803 total time=   0.0s\n",
            "[CV 4/5] END .....C=8, gamma=0.0001, kernel=rbf;, score=0.810 total time=   0.0s\n",
            "[CV 5/5] END .....C=8, gamma=0.0001, kernel=rbf;, score=0.782 total time=   0.0s\n",
            "[CV 1/5] END ..C=8, gamma=0.0001, kernel=linear;, score=0.797 total time=   0.1s\n",
            "[CV 2/5] END ..C=8, gamma=0.0001, kernel=linear;, score=0.825 total time=   0.1s\n",
            "[CV 3/5] END ..C=8, gamma=0.0001, kernel=linear;, score=0.831 total time=   0.1s\n",
            "[CV 4/5] END ..C=8, gamma=0.0001, kernel=linear;, score=0.824 total time=   0.1s\n",
            "[CV 5/5] END ..C=8, gamma=0.0001, kernel=linear;, score=0.824 total time=   0.1s\n",
            "[CV 1/5] END ..........C=9, gamma=1, kernel=rbf;, score=0.706 total time=   0.0s\n",
            "[CV 2/5] END ..........C=9, gamma=1, kernel=rbf;, score=0.699 total time=   0.0s\n",
            "[CV 3/5] END ..........C=9, gamma=1, kernel=rbf;, score=0.768 total time=   0.0s\n",
            "[CV 4/5] END ..........C=9, gamma=1, kernel=rbf;, score=0.775 total time=   0.0s\n",
            "[CV 5/5] END ..........C=9, gamma=1, kernel=rbf;, score=0.746 total time=   0.0s\n",
            "[CV 1/5] END .......C=9, gamma=1, kernel=linear;, score=0.797 total time=   0.1s\n",
            "[CV 2/5] END .......C=9, gamma=1, kernel=linear;, score=0.825 total time=   0.1s\n",
            "[CV 3/5] END .......C=9, gamma=1, kernel=linear;, score=0.831 total time=   0.1s\n",
            "[CV 4/5] END .......C=9, gamma=1, kernel=linear;, score=0.824 total time=   0.1s\n",
            "[CV 5/5] END .......C=9, gamma=1, kernel=linear;, score=0.824 total time=   0.1s\n",
            "[CV 1/5] END ........C=9, gamma=0.1, kernel=rbf;, score=0.797 total time=   0.0s\n",
            "[CV 2/5] END ........C=9, gamma=0.1, kernel=rbf;, score=0.769 total time=   0.0s\n",
            "[CV 3/5] END ........C=9, gamma=0.1, kernel=rbf;, score=0.838 total time=   0.0s\n",
            "[CV 4/5] END ........C=9, gamma=0.1, kernel=rbf;, score=0.838 total time=   0.0s\n",
            "[CV 5/5] END ........C=9, gamma=0.1, kernel=rbf;, score=0.789 total time=   0.0s\n",
            "[CV 1/5] END .....C=9, gamma=0.1, kernel=linear;, score=0.797 total time=   0.1s\n",
            "[CV 2/5] END .....C=9, gamma=0.1, kernel=linear;, score=0.825 total time=   0.1s\n",
            "[CV 3/5] END .....C=9, gamma=0.1, kernel=linear;, score=0.831 total time=   0.1s\n",
            "[CV 4/5] END .....C=9, gamma=0.1, kernel=linear;, score=0.824 total time=   0.1s\n",
            "[CV 5/5] END .....C=9, gamma=0.1, kernel=linear;, score=0.824 total time=   0.1s\n",
            "[CV 1/5] END .......C=9, gamma=0.01, kernel=rbf;, score=0.832 total time=   0.0s\n",
            "[CV 2/5] END .......C=9, gamma=0.01, kernel=rbf;, score=0.825 total time=   0.0s\n",
            "[CV 3/5] END .......C=9, gamma=0.01, kernel=rbf;, score=0.838 total time=   0.0s\n",
            "[CV 4/5] END .......C=9, gamma=0.01, kernel=rbf;, score=0.824 total time=   0.0s\n",
            "[CV 5/5] END .......C=9, gamma=0.01, kernel=rbf;, score=0.817 total time=   0.0s\n",
            "[CV 1/5] END ....C=9, gamma=0.01, kernel=linear;, score=0.797 total time=   0.1s\n",
            "[CV 2/5] END ....C=9, gamma=0.01, kernel=linear;, score=0.825 total time=   0.1s\n",
            "[CV 3/5] END ....C=9, gamma=0.01, kernel=linear;, score=0.831 total time=   0.1s\n",
            "[CV 4/5] END ....C=9, gamma=0.01, kernel=linear;, score=0.824 total time=   0.1s\n",
            "[CV 5/5] END ....C=9, gamma=0.01, kernel=linear;, score=0.824 total time=   0.1s\n",
            "[CV 1/5] END ......C=9, gamma=0.001, kernel=rbf;, score=0.797 total time=   0.0s\n",
            "[CV 2/5] END ......C=9, gamma=0.001, kernel=rbf;, score=0.762 total time=   0.0s\n",
            "[CV 3/5] END ......C=9, gamma=0.001, kernel=rbf;, score=0.810 total time=   0.0s\n",
            "[CV 4/5] END ......C=9, gamma=0.001, kernel=rbf;, score=0.810 total time=   0.0s\n",
            "[CV 5/5] END ......C=9, gamma=0.001, kernel=rbf;, score=0.775 total time=   0.0s\n",
            "[CV 1/5] END ...C=9, gamma=0.001, kernel=linear;, score=0.797 total time=   0.1s\n",
            "[CV 2/5] END ...C=9, gamma=0.001, kernel=linear;, score=0.825 total time=   0.1s\n",
            "[CV 3/5] END ...C=9, gamma=0.001, kernel=linear;, score=0.831 total time=   0.1s\n",
            "[CV 4/5] END ...C=9, gamma=0.001, kernel=linear;, score=0.824 total time=   0.1s\n",
            "[CV 5/5] END ...C=9, gamma=0.001, kernel=linear;, score=0.824 total time=   0.1s\n",
            "[CV 1/5] END .....C=9, gamma=0.0001, kernel=rbf;, score=0.790 total time=   0.0s\n",
            "[CV 2/5] END .....C=9, gamma=0.0001, kernel=rbf;, score=0.762 total time=   0.0s\n",
            "[CV 3/5] END .....C=9, gamma=0.0001, kernel=rbf;, score=0.803 total time=   0.0s\n",
            "[CV 4/5] END .....C=9, gamma=0.0001, kernel=rbf;, score=0.810 total time=   0.0s\n",
            "[CV 5/5] END .....C=9, gamma=0.0001, kernel=rbf;, score=0.789 total time=   0.0s\n",
            "[CV 1/5] END ..C=9, gamma=0.0001, kernel=linear;, score=0.797 total time=   0.1s\n",
            "[CV 2/5] END ..C=9, gamma=0.0001, kernel=linear;, score=0.825 total time=   0.1s\n",
            "[CV 3/5] END ..C=9, gamma=0.0001, kernel=linear;, score=0.831 total time=   0.1s\n",
            "[CV 4/5] END ..C=9, gamma=0.0001, kernel=linear;, score=0.824 total time=   0.1s\n",
            "[CV 5/5] END ..C=9, gamma=0.0001, kernel=linear;, score=0.824 total time=   0.1s\n",
            "[CV 1/5] END .........C=10, gamma=1, kernel=rbf;, score=0.706 total time=   0.0s\n",
            "[CV 2/5] END .........C=10, gamma=1, kernel=rbf;, score=0.699 total time=   0.0s\n",
            "[CV 3/5] END .........C=10, gamma=1, kernel=rbf;, score=0.768 total time=   0.0s\n",
            "[CV 4/5] END .........C=10, gamma=1, kernel=rbf;, score=0.768 total time=   0.0s\n",
            "[CV 5/5] END .........C=10, gamma=1, kernel=rbf;, score=0.746 total time=   0.0s\n",
            "[CV 1/5] END ......C=10, gamma=1, kernel=linear;, score=0.797 total time=   0.2s\n",
            "[CV 2/5] END ......C=10, gamma=1, kernel=linear;, score=0.825 total time=   0.1s\n",
            "[CV 3/5] END ......C=10, gamma=1, kernel=linear;, score=0.831 total time=   0.1s\n",
            "[CV 4/5] END ......C=10, gamma=1, kernel=linear;, score=0.824 total time=   0.1s\n",
            "[CV 5/5] END ......C=10, gamma=1, kernel=linear;, score=0.824 total time=   0.1s\n",
            "[CV 1/5] END .......C=10, gamma=0.1, kernel=rbf;, score=0.797 total time=   0.0s\n",
            "[CV 2/5] END .......C=10, gamma=0.1, kernel=rbf;, score=0.769 total time=   0.0s\n",
            "[CV 3/5] END .......C=10, gamma=0.1, kernel=rbf;, score=0.824 total time=   0.0s\n",
            "[CV 4/5] END .......C=10, gamma=0.1, kernel=rbf;, score=0.838 total time=   0.0s\n",
            "[CV 5/5] END .......C=10, gamma=0.1, kernel=rbf;, score=0.789 total time=   0.0s\n",
            "[CV 1/5] END ....C=10, gamma=0.1, kernel=linear;, score=0.797 total time=   0.2s\n",
            "[CV 2/5] END ....C=10, gamma=0.1, kernel=linear;, score=0.825 total time=   0.1s\n",
            "[CV 3/5] END ....C=10, gamma=0.1, kernel=linear;, score=0.831 total time=   0.1s\n",
            "[CV 4/5] END ....C=10, gamma=0.1, kernel=linear;, score=0.824 total time=   0.1s\n",
            "[CV 5/5] END ....C=10, gamma=0.1, kernel=linear;, score=0.824 total time=   0.1s\n",
            "[CV 1/5] END ......C=10, gamma=0.01, kernel=rbf;, score=0.832 total time=   0.0s\n",
            "[CV 2/5] END ......C=10, gamma=0.01, kernel=rbf;, score=0.825 total time=   0.0s\n",
            "[CV 3/5] END ......C=10, gamma=0.01, kernel=rbf;, score=0.838 total time=   0.0s\n",
            "[CV 4/5] END ......C=10, gamma=0.01, kernel=rbf;, score=0.831 total time=   0.0s\n",
            "[CV 5/5] END ......C=10, gamma=0.01, kernel=rbf;, score=0.817 total time=   0.0s\n",
            "[CV 1/5] END ...C=10, gamma=0.01, kernel=linear;, score=0.797 total time=   0.2s\n",
            "[CV 2/5] END ...C=10, gamma=0.01, kernel=linear;, score=0.825 total time=   0.1s\n",
            "[CV 3/5] END ...C=10, gamma=0.01, kernel=linear;, score=0.831 total time=   0.1s\n",
            "[CV 4/5] END ...C=10, gamma=0.01, kernel=linear;, score=0.824 total time=   0.1s\n",
            "[CV 5/5] END ...C=10, gamma=0.01, kernel=linear;, score=0.824 total time=   0.1s\n",
            "[CV 1/5] END .....C=10, gamma=0.001, kernel=rbf;, score=0.804 total time=   0.0s\n",
            "[CV 2/5] END .....C=10, gamma=0.001, kernel=rbf;, score=0.762 total time=   0.0s\n",
            "[CV 3/5] END .....C=10, gamma=0.001, kernel=rbf;, score=0.817 total time=   0.0s\n",
            "[CV 4/5] END .....C=10, gamma=0.001, kernel=rbf;, score=0.810 total time=   0.0s\n",
            "[CV 5/5] END .....C=10, gamma=0.001, kernel=rbf;, score=0.775 total time=   0.0s\n",
            "[CV 1/5] END ..C=10, gamma=0.001, kernel=linear;, score=0.797 total time=   0.2s\n",
            "[CV 2/5] END ..C=10, gamma=0.001, kernel=linear;, score=0.825 total time=   0.1s\n",
            "[CV 3/5] END ..C=10, gamma=0.001, kernel=linear;, score=0.831 total time=   0.1s\n",
            "[CV 4/5] END ..C=10, gamma=0.001, kernel=linear;, score=0.824 total time=   0.1s\n",
            "[CV 5/5] END ..C=10, gamma=0.001, kernel=linear;, score=0.824 total time=   0.1s\n",
            "[CV 1/5] END ....C=10, gamma=0.0001, kernel=rbf;, score=0.790 total time=   0.0s\n",
            "[CV 2/5] END ....C=10, gamma=0.0001, kernel=rbf;, score=0.762 total time=   0.0s\n",
            "[CV 3/5] END ....C=10, gamma=0.0001, kernel=rbf;, score=0.803 total time=   0.0s\n",
            "[CV 4/5] END ....C=10, gamma=0.0001, kernel=rbf;, score=0.803 total time=   0.0s\n",
            "[CV 5/5] END ....C=10, gamma=0.0001, kernel=rbf;, score=0.789 total time=   0.0s\n",
            "[CV 1/5] END .C=10, gamma=0.0001, kernel=linear;, score=0.797 total time=   0.2s\n",
            "[CV 2/5] END .C=10, gamma=0.0001, kernel=linear;, score=0.825 total time=   0.1s\n",
            "[CV 3/5] END .C=10, gamma=0.0001, kernel=linear;, score=0.831 total time=   0.1s\n",
            "[CV 4/5] END .C=10, gamma=0.0001, kernel=linear;, score=0.824 total time=   0.1s\n",
            "[CV 5/5] END .C=10, gamma=0.0001, kernel=linear;, score=0.824 total time=   0.1s\n",
            "[CV 1/5] END ........C=100, gamma=1, kernel=rbf;, score=0.685 total time=   0.0s\n",
            "[CV 2/5] END ........C=100, gamma=1, kernel=rbf;, score=0.692 total time=   0.0s\n",
            "[CV 3/5] END ........C=100, gamma=1, kernel=rbf;, score=0.775 total time=   0.0s\n",
            "[CV 4/5] END ........C=100, gamma=1, kernel=rbf;, score=0.711 total time=   0.0s\n",
            "[CV 5/5] END ........C=100, gamma=1, kernel=rbf;, score=0.754 total time=   0.0s\n",
            "[CV 1/5] END .....C=100, gamma=1, kernel=linear;, score=0.797 total time=   0.9s\n",
            "[CV 2/5] END .....C=100, gamma=1, kernel=linear;, score=0.825 total time=   0.7s\n",
            "[CV 3/5] END .....C=100, gamma=1, kernel=linear;, score=0.831 total time=   0.7s\n",
            "[CV 4/5] END .....C=100, gamma=1, kernel=linear;, score=0.824 total time=   0.6s\n",
            "[CV 5/5] END .....C=100, gamma=1, kernel=linear;, score=0.824 total time=   0.5s\n",
            "[CV 1/5] END ......C=100, gamma=0.1, kernel=rbf;, score=0.734 total time=   0.0s\n",
            "[CV 2/5] END ......C=100, gamma=0.1, kernel=rbf;, score=0.797 total time=   0.0s\n",
            "[CV 3/5] END ......C=100, gamma=0.1, kernel=rbf;, score=0.810 total time=   0.0s\n",
            "[CV 4/5] END ......C=100, gamma=0.1, kernel=rbf;, score=0.810 total time=   0.0s\n",
            "[CV 5/5] END ......C=100, gamma=0.1, kernel=rbf;, score=0.782 total time=   0.0s\n",
            "[CV 1/5] END ...C=100, gamma=0.1, kernel=linear;, score=0.797 total time=   0.9s\n",
            "[CV 2/5] END ...C=100, gamma=0.1, kernel=linear;, score=0.825 total time=   0.7s\n",
            "[CV 3/5] END ...C=100, gamma=0.1, kernel=linear;, score=0.831 total time=   0.7s\n",
            "[CV 4/5] END ...C=100, gamma=0.1, kernel=linear;, score=0.824 total time=   0.6s\n",
            "[CV 5/5] END ...C=100, gamma=0.1, kernel=linear;, score=0.824 total time=   0.5s\n",
            "[CV 1/5] END .....C=100, gamma=0.01, kernel=rbf;, score=0.797 total time=   0.0s\n",
            "[CV 2/5] END .....C=100, gamma=0.01, kernel=rbf;, score=0.811 total time=   0.0s\n",
            "[CV 3/5] END .....C=100, gamma=0.01, kernel=rbf;, score=0.838 total time=   0.0s\n",
            "[CV 4/5] END .....C=100, gamma=0.01, kernel=rbf;, score=0.838 total time=   0.0s\n",
            "[CV 5/5] END .....C=100, gamma=0.01, kernel=rbf;, score=0.824 total time=   0.0s\n",
            "[CV 1/5] END ..C=100, gamma=0.01, kernel=linear;, score=0.797 total time=   0.9s\n",
            "[CV 2/5] END ..C=100, gamma=0.01, kernel=linear;, score=0.825 total time=   0.7s\n",
            "[CV 3/5] END ..C=100, gamma=0.01, kernel=linear;, score=0.831 total time=   0.7s\n",
            "[CV 4/5] END ..C=100, gamma=0.01, kernel=linear;, score=0.824 total time=   0.6s\n",
            "[CV 5/5] END ..C=100, gamma=0.01, kernel=linear;, score=0.824 total time=   0.5s\n",
            "[CV 1/5] END ....C=100, gamma=0.001, kernel=rbf;, score=0.811 total time=   0.0s\n",
            "[CV 2/5] END ....C=100, gamma=0.001, kernel=rbf;, score=0.825 total time=   0.0s\n",
            "[CV 3/5] END ....C=100, gamma=0.001, kernel=rbf;, score=0.838 total time=   0.0s\n",
            "[CV 4/5] END ....C=100, gamma=0.001, kernel=rbf;, score=0.824 total time=   0.0s\n",
            "[CV 5/5] END ....C=100, gamma=0.001, kernel=rbf;, score=0.817 total time=   0.0s\n",
            "[CV 1/5] END .C=100, gamma=0.001, kernel=linear;, score=0.797 total time=   0.9s\n",
            "[CV 2/5] END .C=100, gamma=0.001, kernel=linear;, score=0.825 total time=   0.7s\n",
            "[CV 3/5] END .C=100, gamma=0.001, kernel=linear;, score=0.831 total time=   0.7s\n",
            "[CV 4/5] END .C=100, gamma=0.001, kernel=linear;, score=0.824 total time=   0.6s\n",
            "[CV 5/5] END .C=100, gamma=0.001, kernel=linear;, score=0.824 total time=   0.5s\n",
            "[CV 1/5] END ...C=100, gamma=0.0001, kernel=rbf;, score=0.797 total time=   0.0s\n",
            "[CV 2/5] END ...C=100, gamma=0.0001, kernel=rbf;, score=0.762 total time=   0.0s\n",
            "[CV 3/5] END ...C=100, gamma=0.0001, kernel=rbf;, score=0.810 total time=   0.0s\n",
            "[CV 4/5] END ...C=100, gamma=0.0001, kernel=rbf;, score=0.817 total time=   0.0s\n",
            "[CV 5/5] END ...C=100, gamma=0.0001, kernel=rbf;, score=0.768 total time=   0.0s\n",
            "[CV 1/5] END C=100, gamma=0.0001, kernel=linear;, score=0.797 total time=   0.9s\n",
            "[CV 2/5] END C=100, gamma=0.0001, kernel=linear;, score=0.825 total time=   0.7s\n",
            "[CV 3/5] END C=100, gamma=0.0001, kernel=linear;, score=0.831 total time=   0.7s\n",
            "[CV 4/5] END C=100, gamma=0.0001, kernel=linear;, score=0.824 total time=   0.6s\n",
            "[CV 5/5] END C=100, gamma=0.0001, kernel=linear;, score=0.824 total time=   0.5s\n"
          ]
        },
        {
          "data": {
            "text/plain": [
              "GridSearchCV(estimator=SVC(),\n",
              "             param_grid={'C': [0.1, 1, 8, 9, 10, 100],\n",
              "                         'gamma': [1, 0.1, 0.01, 0.001, 0.0001],\n",
              "                         'kernel': ['rbf', 'linear']},\n",
              "             verbose=3)"
            ]
          },
          "execution_count": 72,
          "metadata": {},
          "output_type": "execute_result"
        }
      ],
      "source": [
        "# defining parameter range\n",
        "param_grid = {'C': [0.1, 1, 8, 9, 10, 100], \n",
        "              'gamma': [1, 0.1 , 0.01, 0.001, 0.0001],\n",
        "              'kernel': ['rbf', 'linear']} \n",
        "\n",
        "svc = svm.SVC()\n",
        "grid_search = GridSearchCV(svc, param_grid, refit = True, verbose = 3)\n",
        "  \n",
        "# fitting the model for grid search\n",
        "grid_search.fit(X_train_scaled, y_train)"
      ]
    },
    {
      "cell_type": "code",
      "execution_count": null,
      "id": "5db5b5b8",
      "metadata": {
        "execution": {
          "iopub.execute_input": "2022-09-24T14:20:38.952549Z",
          "iopub.status.busy": "2022-09-24T14:20:38.952130Z",
          "iopub.status.idle": "2022-09-24T14:20:38.957435Z",
          "shell.execute_reply": "2022-09-24T14:20:38.956346Z"
        },
        "papermill": {
          "duration": 0.054571,
          "end_time": "2022-09-24T14:20:38.959824",
          "exception": false,
          "start_time": "2022-09-24T14:20:38.905253",
          "status": "completed"
        },
        "tags": [],
        "id": "5db5b5b8",
        "outputId": "8685467c-2ba0-4eb7-cdc1-4805deab5e6b"
      },
      "outputs": [
        {
          "name": "stdout",
          "output_type": "stream",
          "text": [
            "Best Score 0.8300502314586822\n",
            "Best Params {'C': 8, 'gamma': 0.01, 'kernel': 'rbf'}\n"
          ]
        }
      ],
      "source": [
        "print(\"Best Score\",grid_search.best_score_)\n",
        "print(\"Best Params\",grid_search.best_params_)"
      ]
    },
    {
      "cell_type": "code",
      "execution_count": null,
      "id": "e18bcbb7",
      "metadata": {
        "execution": {
          "iopub.execute_input": "2022-09-24T14:20:39.053748Z",
          "iopub.status.busy": "2022-09-24T14:20:39.053330Z",
          "iopub.status.idle": "2022-09-24T14:20:39.112171Z",
          "shell.execute_reply": "2022-09-24T14:20:39.111062Z"
        },
        "papermill": {
          "duration": 0.108669,
          "end_time": "2022-09-24T14:20:39.114679",
          "exception": false,
          "start_time": "2022-09-24T14:20:39.006010",
          "status": "completed"
        },
        "tags": [],
        "id": "e18bcbb7"
      },
      "outputs": [],
      "source": [
        "# Instantiate the model with best hyperparameters\n",
        "svc = svm.SVC(C=8, gamma = 0.01, kernel = 'rbf', random_state=42)\n",
        "\n",
        "# Fit the model on the train set\n",
        "svc_model = svc.fit(X_train_scaled, y_train)\n",
        "\n",
        "# predict the training data\n",
        "Y_train_pred = svc_model.predict(X_train_scaled)\n",
        "# predict the testing data\n",
        "Y_test_pred = svc_model.predict(X_test_scaled)\n",
        "# Model evaluation\n",
        "train_eval=pd.DataFrame([evaluate_model(y_train, Y_train_pred)])\n",
        "test_eval=pd.DataFrame([evaluate_model(y_test, Y_test_pred)])\n",
        "df_eval=pd.concat([train_eval,test_eval])\n",
        "df_eval['data']=['train_data','test_data']\n",
        "df_eval.set_index('data',inplace=True)"
      ]
    },
    {
      "cell_type": "code",
      "execution_count": null,
      "id": "4ef7abbd",
      "metadata": {
        "execution": {
          "iopub.execute_input": "2022-09-24T14:20:39.208471Z",
          "iopub.status.busy": "2022-09-24T14:20:39.208036Z",
          "iopub.status.idle": "2022-09-24T14:20:39.223915Z",
          "shell.execute_reply": "2022-09-24T14:20:39.222750Z"
        },
        "papermill": {
          "duration": 0.065308,
          "end_time": "2022-09-24T14:20:39.226237",
          "exception": false,
          "start_time": "2022-09-24T14:20:39.160929",
          "status": "completed"
        },
        "tags": [],
        "id": "4ef7abbd",
        "outputId": "d8703ba2-d5b2-4f70-c12b-fa6072dc9bec"
      },
      "outputs": [
        {
          "data": {
            "text/html": [
              "<div>\n",
              "<style scoped>\n",
              "    .dataframe tbody tr th:only-of-type {\n",
              "        vertical-align: middle;\n",
              "    }\n",
              "\n",
              "    .dataframe tbody tr th {\n",
              "        vertical-align: top;\n",
              "    }\n",
              "\n",
              "    .dataframe thead th {\n",
              "        text-align: right;\n",
              "    }\n",
              "</style>\n",
              "<table border=\"1\" class=\"dataframe\">\n",
              "  <thead>\n",
              "    <tr style=\"text-align: right;\">\n",
              "      <th></th>\n",
              "      <th>TP</th>\n",
              "      <th>TN</th>\n",
              "      <th>FP</th>\n",
              "      <th>FN</th>\n",
              "      <th>Recall</th>\n",
              "      <th>Precision</th>\n",
              "      <th>Specificity</th>\n",
              "      <th>ROC/AUC Score</th>\n",
              "      <th>F1-Score</th>\n",
              "      <th>Accuracy</th>\n",
              "    </tr>\n",
              "    <tr>\n",
              "      <th>data</th>\n",
              "      <th></th>\n",
              "      <th></th>\n",
              "      <th></th>\n",
              "      <th></th>\n",
              "      <th></th>\n",
              "      <th></th>\n",
              "      <th></th>\n",
              "      <th></th>\n",
              "      <th></th>\n",
              "      <th></th>\n",
              "    </tr>\n",
              "  </thead>\n",
              "  <tbody>\n",
              "    <tr>\n",
              "      <th>train_data</th>\n",
              "      <td>204</td>\n",
              "      <td>398</td>\n",
              "      <td>41</td>\n",
              "      <td>69</td>\n",
              "      <td>74.73</td>\n",
              "      <td>83.27</td>\n",
              "      <td>0.91</td>\n",
              "      <td>74.73</td>\n",
              "      <td>78.77</td>\n",
              "      <td>84.55</td>\n",
              "    </tr>\n",
              "    <tr>\n",
              "      <th>test_data</th>\n",
              "      <td>51</td>\n",
              "      <td>97</td>\n",
              "      <td>13</td>\n",
              "      <td>18</td>\n",
              "      <td>73.91</td>\n",
              "      <td>79.69</td>\n",
              "      <td>0.88</td>\n",
              "      <td>73.91</td>\n",
              "      <td>76.69</td>\n",
              "      <td>82.68</td>\n",
              "    </tr>\n",
              "  </tbody>\n",
              "</table>\n",
              "</div>"
            ],
            "text/plain": [
              "             TP   TN  FP  FN  Recall  Precision  Specificity  ROC/AUC Score  \\\n",
              "data                                                                          \n",
              "train_data  204  398  41  69   74.73      83.27         0.91          74.73   \n",
              "test_data    51   97  13  18   73.91      79.69         0.88          73.91   \n",
              "\n",
              "            F1-Score  Accuracy  \n",
              "data                            \n",
              "train_data     78.77     84.55  \n",
              "test_data      76.69     82.68  "
            ]
          },
          "execution_count": 75,
          "metadata": {},
          "output_type": "execute_result"
        }
      ],
      "source": [
        "df_eval"
      ]
    },
    {
      "cell_type": "code",
      "execution_count": null,
      "id": "dd9786c0",
      "metadata": {
        "execution": {
          "iopub.execute_input": "2022-09-24T14:20:39.320590Z",
          "iopub.status.busy": "2022-09-24T14:20:39.320166Z",
          "iopub.status.idle": "2022-09-24T14:20:39.610488Z",
          "shell.execute_reply": "2022-09-24T14:20:39.609291Z"
        },
        "papermill": {
          "duration": 0.340257,
          "end_time": "2022-09-24T14:20:39.613029",
          "exception": false,
          "start_time": "2022-09-24T14:20:39.272772",
          "status": "completed"
        },
        "tags": [],
        "id": "dd9786c0",
        "outputId": "1177e438-fd4d-4939-c486-7fda23966923"
      },
      "outputs": [
        {
          "data": {
            "image/png": "[encoded data removed]",
            "text/plain": [
              "<Figure size 360x360 with 1 Axes>"
            ]
          },
          "metadata": {},
          "output_type": "display_data"
        }
      ],
      "source": [
        "# Visualisation with plot_metric\n",
        "bc = BinaryClassification(y_test, Y_test_pred, labels=[\"Class 1\", \"Class 2\"])\n",
        "\n",
        "# Figures\n",
        "plt.figure(figsize=(5,5))\n",
        "bc.plot_roc_curve()\n",
        "plt.show()"
      ]
    },
    {
      "cell_type": "markdown",
      "id": "f45e2cb4",
      "metadata": {
        "papermill": {
          "duration": 0.047162,
          "end_time": "2022-09-24T14:20:39.708245",
          "exception": false,
          "start_time": "2022-09-24T14:20:39.661083",
          "status": "completed"
        },
        "tags": [],
        "id": "f45e2cb4"
      },
      "source": [
        "**Gradient Boosting**"
      ]
    },
    {
      "cell_type": "code",
      "execution_count": null,
      "id": "7e9b50bd",
      "metadata": {
        "execution": {
          "iopub.execute_input": "2022-09-24T14:20:39.803409Z",
          "iopub.status.busy": "2022-09-24T14:20:39.802957Z",
          "iopub.status.idle": "2022-09-24T14:20:39.811697Z",
          "shell.execute_reply": "2022-09-24T14:20:39.810416Z"
        },
        "papermill": {
          "duration": 0.059178,
          "end_time": "2022-09-24T14:20:39.814109",
          "exception": false,
          "start_time": "2022-09-24T14:20:39.754931",
          "status": "completed"
        },
        "tags": [],
        "id": "7e9b50bd",
        "outputId": "88f23c9e-bf4d-4a47-c4cc-0db37c73ec95"
      },
      "outputs": [
        {
          "data": {
            "text/plain": [
              "{'ccp_alpha': 0.0,\n",
              " 'criterion': 'friedman_mse',\n",
              " 'init': None,\n",
              " 'learning_rate': 0.1,\n",
              " 'loss': 'deviance',\n",
              " 'max_depth': 3,\n",
              " 'max_features': None,\n",
              " 'max_leaf_nodes': None,\n",
              " 'min_impurity_decrease': 0.0,\n",
              " 'min_samples_leaf': 1,\n",
              " 'min_samples_split': 2,\n",
              " 'min_weight_fraction_leaf': 0.0,\n",
              " 'n_estimators': 100,\n",
              " 'n_iter_no_change': None,\n",
              " 'random_state': 100,\n",
              " 'subsample': 1.0,\n",
              " 'tol': 0.0001,\n",
              " 'validation_fraction': 0.1,\n",
              " 'verbose': 0,\n",
              " 'warm_start': False}"
            ]
          },
          "execution_count": 77,
          "metadata": {},
          "output_type": "execute_result"
        }
      ],
      "source": [
        "gbm = GradientBoostingClassifier(random_state=100)\n",
        "gbm.get_params()"
      ]
    },
    {
      "cell_type": "code",
      "execution_count": null,
      "id": "ec2a8dda",
      "metadata": {
        "execution": {
          "iopub.execute_input": "2022-09-24T14:20:39.912508Z",
          "iopub.status.busy": "2022-09-24T14:20:39.912126Z",
          "iopub.status.idle": "2022-09-24T14:20:40.047203Z",
          "shell.execute_reply": "2022-09-24T14:20:40.046066Z"
        },
        "papermill": {
          "duration": 0.187885,
          "end_time": "2022-09-24T14:20:40.049795",
          "exception": false,
          "start_time": "2022-09-24T14:20:39.861910",
          "status": "completed"
        },
        "tags": [],
        "id": "ec2a8dda",
        "outputId": "0ab6e6f6-16a3-4d87-ec02-23c9867ad9c7"
      },
      "outputs": [
        {
          "data": {
            "text/plain": [
              "GradientBoostingClassifier(random_state=100)"
            ]
          },
          "execution_count": 78,
          "metadata": {},
          "output_type": "execute_result"
        }
      ],
      "source": [
        "gbm.fit(X_train_scaled, y_train)"
      ]
    },
    {
      "cell_type": "code",
      "execution_count": null,
      "id": "3e025d49",
      "metadata": {
        "execution": {
          "iopub.execute_input": "2022-09-24T14:20:40.146697Z",
          "iopub.status.busy": "2022-09-24T14:20:40.146267Z",
          "iopub.status.idle": "2022-09-24T14:20:40.171048Z",
          "shell.execute_reply": "2022-09-24T14:20:40.170048Z"
        },
        "papermill": {
          "duration": 0.075833,
          "end_time": "2022-09-24T14:20:40.173516",
          "exception": false,
          "start_time": "2022-09-24T14:20:40.097683",
          "status": "completed"
        },
        "tags": [],
        "id": "3e025d49"
      },
      "outputs": [],
      "source": [
        "# predict the training data\n",
        "Y_train_pred = gbm.predict(X_train_scaled)\n",
        "# predict the testing data\n",
        "Y_test_pred = gbm.predict(X_test_scaled)\n",
        "# Model evaluation\n",
        "train_eval=pd.DataFrame([evaluate_model(y_train, Y_train_pred)])\n",
        "test_eval=pd.DataFrame([evaluate_model(y_test, Y_test_pred)])\n",
        "df_eval=pd.concat([train_eval,test_eval])\n",
        "df_eval['data']=['train_data','test_data']\n",
        "df_eval.set_index('data',inplace=True)"
      ]
    },
    {
      "cell_type": "code",
      "execution_count": null,
      "id": "af28b12c",
      "metadata": {
        "execution": {
          "iopub.execute_input": "2022-09-24T14:20:40.269883Z",
          "iopub.status.busy": "2022-09-24T14:20:40.269466Z",
          "iopub.status.idle": "2022-09-24T14:20:40.285109Z",
          "shell.execute_reply": "2022-09-24T14:20:40.283898Z"
        },
        "papermill": {
          "duration": 0.067264,
          "end_time": "2022-09-24T14:20:40.287555",
          "exception": false,
          "start_time": "2022-09-24T14:20:40.220291",
          "status": "completed"
        },
        "tags": [],
        "id": "af28b12c",
        "outputId": "adbc906c-b8eb-4a47-f3f5-e3a855dd9fe1"
      },
      "outputs": [
        {
          "data": {
            "text/html": [
              "<div>\n",
              "<style scoped>\n",
              "    .dataframe tbody tr th:only-of-type {\n",
              "        vertical-align: middle;\n",
              "    }\n",
              "\n",
              "    .dataframe tbody tr th {\n",
              "        vertical-align: top;\n",
              "    }\n",
              "\n",
              "    .dataframe thead th {\n",
              "        text-align: right;\n",
              "    }\n",
              "</style>\n",
              "<table border=\"1\" class=\"dataframe\">\n",
              "  <thead>\n",
              "    <tr style=\"text-align: right;\">\n",
              "      <th></th>\n",
              "      <th>TP</th>\n",
              "      <th>TN</th>\n",
              "      <th>FP</th>\n",
              "      <th>FN</th>\n",
              "      <th>Recall</th>\n",
              "      <th>Precision</th>\n",
              "      <th>Specificity</th>\n",
              "      <th>ROC/AUC Score</th>\n",
              "      <th>F1-Score</th>\n",
              "      <th>Accuracy</th>\n",
              "    </tr>\n",
              "    <tr>\n",
              "      <th>data</th>\n",
              "      <th></th>\n",
              "      <th></th>\n",
              "      <th></th>\n",
              "      <th></th>\n",
              "      <th></th>\n",
              "      <th></th>\n",
              "      <th></th>\n",
              "      <th></th>\n",
              "      <th></th>\n",
              "      <th></th>\n",
              "    </tr>\n",
              "  </thead>\n",
              "  <tbody>\n",
              "    <tr>\n",
              "      <th>train_data</th>\n",
              "      <td>231</td>\n",
              "      <td>420</td>\n",
              "      <td>19</td>\n",
              "      <td>42</td>\n",
              "      <td>84.62</td>\n",
              "      <td>92.40</td>\n",
              "      <td>0.96</td>\n",
              "      <td>84.62</td>\n",
              "      <td>88.34</td>\n",
              "      <td>91.43</td>\n",
              "    </tr>\n",
              "    <tr>\n",
              "      <th>test_data</th>\n",
              "      <td>44</td>\n",
              "      <td>96</td>\n",
              "      <td>14</td>\n",
              "      <td>25</td>\n",
              "      <td>63.77</td>\n",
              "      <td>75.86</td>\n",
              "      <td>0.87</td>\n",
              "      <td>63.77</td>\n",
              "      <td>69.29</td>\n",
              "      <td>78.21</td>\n",
              "    </tr>\n",
              "  </tbody>\n",
              "</table>\n",
              "</div>"
            ],
            "text/plain": [
              "             TP   TN  FP  FN  Recall  Precision  Specificity  ROC/AUC Score  \\\n",
              "data                                                                          \n",
              "train_data  231  420  19  42   84.62      92.40         0.96          84.62   \n",
              "test_data    44   96  14  25   63.77      75.86         0.87          63.77   \n",
              "\n",
              "            F1-Score  Accuracy  \n",
              "data                            \n",
              "train_data     88.34     91.43  \n",
              "test_data      69.29     78.21  "
            ]
          },
          "execution_count": 80,
          "metadata": {},
          "output_type": "execute_result"
        }
      ],
      "source": [
        "df_eval"
      ]
    },
    {
      "cell_type": "code",
      "execution_count": null,
      "id": "a6ae99c2",
      "metadata": {
        "execution": {
          "iopub.execute_input": "2022-09-24T14:20:40.384384Z",
          "iopub.status.busy": "2022-09-24T14:20:40.383963Z",
          "iopub.status.idle": "2022-09-24T14:20:40.670101Z",
          "shell.execute_reply": "2022-09-24T14:20:40.668715Z"
        },
        "papermill": {
          "duration": 0.339116,
          "end_time": "2022-09-24T14:20:40.674158",
          "exception": false,
          "start_time": "2022-09-24T14:20:40.335042",
          "status": "completed"
        },
        "tags": [],
        "id": "a6ae99c2",
        "outputId": "1e4cd57b-5a44-405f-a9b2-536b86ed6a0c"
      },
      "outputs": [
        {
          "data": {
            "image/png": "[encoded data removed]",
            "text/plain": [
              "<Figure size 360x360 with 1 Axes>"
            ]
          },
          "metadata": {},
          "output_type": "display_data"
        }
      ],
      "source": [
        "# Visualisation with plot_metric\n",
        "bc = BinaryClassification(y_test, Y_test_pred, labels=[\"Class 1\", \"Class 2\"])\n",
        "\n",
        "# Figures\n",
        "plt.figure(figsize=(5,5))\n",
        "bc.plot_roc_curve()\n",
        "plt.show()"
      ]
    },
    {
      "cell_type": "markdown",
      "id": "56d92ad2",
      "metadata": {
        "papermill": {
          "duration": 0.048569,
          "end_time": "2022-09-24T14:20:40.773345",
          "exception": false,
          "start_time": "2022-09-24T14:20:40.724776",
          "status": "completed"
        },
        "tags": [],
        "id": "56d92ad2"
      },
      "source": [
        "**Adaboost**"
      ]
    },
    {
      "cell_type": "code",
      "execution_count": null,
      "id": "120a8f71",
      "metadata": {
        "execution": {
          "iopub.execute_input": "2022-09-24T14:20:40.872865Z",
          "iopub.status.busy": "2022-09-24T14:20:40.871864Z",
          "iopub.status.idle": "2022-09-24T14:20:41.250734Z",
          "shell.execute_reply": "2022-09-24T14:20:41.249421Z"
        },
        "papermill": {
          "duration": 0.43116,
          "end_time": "2022-09-24T14:20:41.253363",
          "exception": false,
          "start_time": "2022-09-24T14:20:40.822203",
          "status": "completed"
        },
        "tags": [],
        "id": "120a8f71",
        "outputId": "b5d5b8c9-832a-4dff-85d3-dc085b9eda08"
      },
      "outputs": [
        {
          "data": {
            "text/plain": [
              "AdaBoostClassifier(n_estimators=200, random_state=1)"
            ]
          },
          "execution_count": 82,
          "metadata": {},
          "output_type": "execute_result"
        }
      ],
      "source": [
        "adaboost =  AdaBoostClassifier(n_estimators=200, random_state=1)\n",
        "adaboost.fit(X_train_scaled, y_train)"
      ]
    },
    {
      "cell_type": "code",
      "execution_count": null,
      "id": "1d99f195",
      "metadata": {
        "execution": {
          "iopub.execute_input": "2022-09-24T14:20:41.351835Z",
          "iopub.status.busy": "2022-09-24T14:20:41.350452Z",
          "iopub.status.idle": "2022-09-24T14:20:41.464861Z",
          "shell.execute_reply": "2022-09-24T14:20:41.463890Z"
        },
        "papermill": {
          "duration": 0.166588,
          "end_time": "2022-09-24T14:20:41.467680",
          "exception": false,
          "start_time": "2022-09-24T14:20:41.301092",
          "status": "completed"
        },
        "tags": [],
        "id": "1d99f195"
      },
      "outputs": [],
      "source": [
        "# predict the training data\n",
        "Y_train_pred = adaboost.predict(X_train_scaled)\n",
        "# predict the testing data\n",
        "Y_test_pred = adaboost.predict(X_test_scaled)\n",
        "# Model evaluation\n",
        "train_eval=pd.DataFrame([evaluate_model(y_train, Y_train_pred)])\n",
        "test_eval=pd.DataFrame([evaluate_model(y_test, Y_test_pred)])\n",
        "df_eval=pd.concat([train_eval,test_eval])\n",
        "df_eval['data']=['train_data','test_data']\n",
        "df_eval.set_index('data',inplace=True)"
      ]
    },
    {
      "cell_type": "code",
      "execution_count": null,
      "id": "68f6cf25",
      "metadata": {
        "execution": {
          "iopub.execute_input": "2022-09-24T14:20:41.568306Z",
          "iopub.status.busy": "2022-09-24T14:20:41.567919Z",
          "iopub.status.idle": "2022-09-24T14:20:41.583624Z",
          "shell.execute_reply": "2022-09-24T14:20:41.582442Z"
        },
        "papermill": {
          "duration": 0.067192,
          "end_time": "2022-09-24T14:20:41.585918",
          "exception": false,
          "start_time": "2022-09-24T14:20:41.518726",
          "status": "completed"
        },
        "tags": [],
        "id": "68f6cf25",
        "outputId": "b6067085-4d81-4b80-d95b-437609d59f2f"
      },
      "outputs": [
        {
          "data": {
            "text/html": [
              "<div>\n",
              "<style scoped>\n",
              "    .dataframe tbody tr th:only-of-type {\n",
              "        vertical-align: middle;\n",
              "    }\n",
              "\n",
              "    .dataframe tbody tr th {\n",
              "        vertical-align: top;\n",
              "    }\n",
              "\n",
              "    .dataframe thead th {\n",
              "        text-align: right;\n",
              "    }\n",
              "</style>\n",
              "<table border=\"1\" class=\"dataframe\">\n",
              "  <thead>\n",
              "    <tr style=\"text-align: right;\">\n",
              "      <th></th>\n",
              "      <th>TP</th>\n",
              "      <th>TN</th>\n",
              "      <th>FP</th>\n",
              "      <th>FN</th>\n",
              "      <th>Recall</th>\n",
              "      <th>Precision</th>\n",
              "      <th>Specificity</th>\n",
              "      <th>ROC/AUC Score</th>\n",
              "      <th>F1-Score</th>\n",
              "      <th>Accuracy</th>\n",
              "    </tr>\n",
              "    <tr>\n",
              "      <th>data</th>\n",
              "      <th></th>\n",
              "      <th></th>\n",
              "      <th></th>\n",
              "      <th></th>\n",
              "      <th></th>\n",
              "      <th></th>\n",
              "      <th></th>\n",
              "      <th></th>\n",
              "      <th></th>\n",
              "      <th></th>\n",
              "    </tr>\n",
              "  </thead>\n",
              "  <tbody>\n",
              "    <tr>\n",
              "      <th>train_data</th>\n",
              "      <td>218</td>\n",
              "      <td>397</td>\n",
              "      <td>42</td>\n",
              "      <td>55</td>\n",
              "      <td>79.85</td>\n",
              "      <td>83.85</td>\n",
              "      <td>0.90</td>\n",
              "      <td>79.85</td>\n",
              "      <td>81.80</td>\n",
              "      <td>86.38</td>\n",
              "    </tr>\n",
              "    <tr>\n",
              "      <th>test_data</th>\n",
              "      <td>46</td>\n",
              "      <td>92</td>\n",
              "      <td>18</td>\n",
              "      <td>23</td>\n",
              "      <td>66.67</td>\n",
              "      <td>71.88</td>\n",
              "      <td>0.84</td>\n",
              "      <td>66.67</td>\n",
              "      <td>69.18</td>\n",
              "      <td>77.09</td>\n",
              "    </tr>\n",
              "  </tbody>\n",
              "</table>\n",
              "</div>"
            ],
            "text/plain": [
              "             TP   TN  FP  FN  Recall  Precision  Specificity  ROC/AUC Score  \\\n",
              "data                                                                          \n",
              "train_data  218  397  42  55   79.85      83.85         0.90          79.85   \n",
              "test_data    46   92  18  23   66.67      71.88         0.84          66.67   \n",
              "\n",
              "            F1-Score  Accuracy  \n",
              "data                            \n",
              "train_data     81.80     86.38  \n",
              "test_data      69.18     77.09  "
            ]
          },
          "execution_count": 84,
          "metadata": {},
          "output_type": "execute_result"
        }
      ],
      "source": [
        "df_eval"
      ]
    },
    {
      "cell_type": "code",
      "execution_count": null,
      "id": "d73f3fae",
      "metadata": {
        "execution": {
          "iopub.execute_input": "2022-09-24T14:20:41.754583Z",
          "iopub.status.busy": "2022-09-24T14:20:41.753927Z",
          "iopub.status.idle": "2022-09-24T14:20:42.041110Z",
          "shell.execute_reply": "2022-09-24T14:20:42.039465Z"
        },
        "papermill": {
          "duration": 0.340459,
          "end_time": "2022-09-24T14:20:42.044170",
          "exception": false,
          "start_time": "2022-09-24T14:20:41.703711",
          "status": "completed"
        },
        "tags": [],
        "id": "d73f3fae",
        "outputId": "3d2c82a9-806b-4160-9634-5762079e6a3c"
      },
      "outputs": [
        {
          "data": {
            "image/png": "[encoded data removed]",
            "text/plain": [
              "<Figure size 360x360 with 1 Axes>"
            ]
          },
          "metadata": {},
          "output_type": "display_data"
        }
      ],
      "source": [
        "# Visualisation with plot_metric\n",
        "bc = BinaryClassification(y_test, Y_test_pred, labels=[\"Class 1\", \"Class 2\"])\n",
        "\n",
        "# Figures\n",
        "plt.figure(figsize=(5,5))\n",
        "bc.plot_roc_curve()\n",
        "plt.show()"
      ]
    },
    {
      "cell_type": "markdown",
      "id": "cadfd798",
      "metadata": {
        "papermill": {
          "duration": 0.048199,
          "end_time": "2022-09-24T14:20:42.142666",
          "exception": false,
          "start_time": "2022-09-24T14:20:42.094467",
          "status": "completed"
        },
        "tags": [],
        "id": "cadfd798"
      },
      "source": [
        "**Neural network**"
      ]
    },
    {
      "cell_type": "code",
      "execution_count": null,
      "id": "165daa10",
      "metadata": {
        "execution": {
          "iopub.execute_input": "2022-09-24T14:20:42.242318Z",
          "iopub.status.busy": "2022-09-24T14:20:42.241888Z",
          "iopub.status.idle": "2022-09-24T14:20:49.373755Z",
          "shell.execute_reply": "2022-09-24T14:20:49.372516Z"
        },
        "papermill": {
          "duration": 7.185213,
          "end_time": "2022-09-24T14:20:49.376495",
          "exception": false,
          "start_time": "2022-09-24T14:20:42.191282",
          "status": "completed"
        },
        "tags": [],
        "id": "165daa10"
      },
      "outputs": [],
      "source": [
        "import keras\n",
        "from keras.models import Sequential\n",
        "from keras.layers import Dense, Dropout, BatchNormalization, Activation, GRU, Embedding\n",
        "from keras import regularizers\n",
        "from tensorflow.keras.optimizers import SGD, Adam"
      ]
    },
    {
      "cell_type": "code",
      "execution_count": null,
      "id": "7b230222",
      "metadata": {
        "execution": {
          "iopub.execute_input": "2022-09-24T14:20:49.475812Z",
          "iopub.status.busy": "2022-09-24T14:20:49.475055Z",
          "iopub.status.idle": "2022-09-24T14:20:49.618868Z",
          "shell.execute_reply": "2022-09-24T14:20:49.616824Z"
        },
        "papermill": {
          "duration": 0.196248,
          "end_time": "2022-09-24T14:20:49.621572",
          "exception": false,
          "start_time": "2022-09-24T14:20:49.425324",
          "status": "completed"
        },
        "tags": [],
        "id": "7b230222",
        "outputId": "8988dff2-b9df-42a9-9558-6b3ed6d8b06a"
      },
      "outputs": [
        {
          "name": "stderr",
          "output_type": "stream",
          "text": [
            "2022-09-24 14:20:49.514954: I tensorflow/core/common_runtime/process_util.cc:146] Creating new thread pool with default inter op setting: 2. Tune using inter_op_parallelism_threads for best performance.\n"
          ]
        }
      ],
      "source": [
        "model = Sequential()\n",
        "model.add(Dense(32,  activation = 'relu', input_dim = 17))\n",
        "model.add(Dense(64, activation = 'relu'))\n",
        "model.add(Dense(1))\n",
        "#Complile model\n",
        "model.compile(optimizer = 'adam', loss = 'binary_crossentropy', metrics = ['accuracy'])"
      ]
    },
    {
      "cell_type": "code",
      "execution_count": null,
      "id": "54655121",
      "metadata": {
        "execution": {
          "iopub.execute_input": "2022-09-24T14:20:49.740508Z",
          "iopub.status.busy": "2022-09-24T14:20:49.739625Z",
          "iopub.status.idle": "2022-09-24T14:20:49.744941Z",
          "shell.execute_reply": "2022-09-24T14:20:49.744081Z"
        },
        "papermill": {
          "duration": 0.073266,
          "end_time": "2022-09-24T14:20:49.748282",
          "exception": false,
          "start_time": "2022-09-24T14:20:49.675016",
          "status": "completed"
        },
        "tags": [],
        "id": "54655121"
      },
      "outputs": [],
      "source": [
        "#model.fit(X_train_scaled, y_train, batch_size = 10, epochs = 100, validation_data=(X_test_scaled, y_test))"
      ]
    },
    {
      "cell_type": "code",
      "execution_count": null,
      "id": "d4d5f0a2",
      "metadata": {
        "execution": {
          "iopub.execute_input": "2022-09-24T14:20:49.863880Z",
          "iopub.status.busy": "2022-09-24T14:20:49.861640Z",
          "iopub.status.idle": "2022-09-24T14:21:03.925096Z",
          "shell.execute_reply": "2022-09-24T14:21:03.923435Z"
        },
        "papermill": {
          "duration": 14.12158,
          "end_time": "2022-09-24T14:21:03.927703",
          "exception": false,
          "start_time": "2022-09-24T14:20:49.806123",
          "status": "completed"
        },
        "tags": [],
        "id": "d4d5f0a2",
        "outputId": "247e7c57-1f09-43e4-b205-49885b710735"
      },
      "outputs": [
        {
          "name": "stderr",
          "output_type": "stream",
          "text": [
            "2022-09-24 14:20:49.966264: I tensorflow/compiler/mlir/mlir_graph_optimization_pass.cc:185] None of the MLIR Optimization Passes are enabled (registered 2)\n"
          ]
        },
        {
          "name": "stdout",
          "output_type": "stream",
          "text": [
            "Epoch 1/100\n",
            "72/72 [==============================] - 1s 2ms/step - loss: 1.1816 - accuracy: 0.7065\n",
            "Epoch 2/100\n",
            "72/72 [==============================] - 0s 2ms/step - loss: 0.8963 - accuracy: 0.8062\n",
            "Epoch 3/100\n",
            "72/72 [==============================] - 0s 2ms/step - loss: 0.8179 - accuracy: 0.8202\n",
            "Epoch 4/100\n",
            "72/72 [==============================] - 0s 2ms/step - loss: 0.8222 - accuracy: 0.8216\n",
            "Epoch 5/100\n",
            "72/72 [==============================] - 0s 2ms/step - loss: 0.8292 - accuracy: 0.8287\n",
            "Epoch 6/100\n",
            "72/72 [==============================] - 0s 2ms/step - loss: 0.8009 - accuracy: 0.8329\n",
            "Epoch 7/100\n",
            "72/72 [==============================] - 0s 2ms/step - loss: 0.7862 - accuracy: 0.8511\n",
            "Epoch 8/100\n",
            "72/72 [==============================] - 0s 2ms/step - loss: 0.8609 - accuracy: 0.8062\n",
            "Epoch 9/100\n",
            "72/72 [==============================] - 0s 2ms/step - loss: 0.8635 - accuracy: 0.8258\n",
            "Epoch 10/100\n",
            "72/72 [==============================] - 0s 2ms/step - loss: 0.7243 - accuracy: 0.8497\n",
            "Epoch 11/100\n",
            "72/72 [==============================] - 0s 2ms/step - loss: 0.7089 - accuracy: 0.8511\n",
            "Epoch 12/100\n",
            "72/72 [==============================] - 0s 2ms/step - loss: 0.7250 - accuracy: 0.8567\n",
            "Epoch 13/100\n",
            "72/72 [==============================] - 0s 2ms/step - loss: 0.6764 - accuracy: 0.8581\n",
            "Epoch 14/100\n",
            "72/72 [==============================] - 0s 2ms/step - loss: 0.6669 - accuracy: 0.8581\n",
            "Epoch 15/100\n",
            "72/72 [==============================] - 0s 2ms/step - loss: 0.6421 - accuracy: 0.8581\n",
            "Epoch 16/100\n",
            "72/72 [==============================] - 0s 2ms/step - loss: 0.6376 - accuracy: 0.8680\n",
            "Epoch 17/100\n",
            "72/72 [==============================] - 0s 2ms/step - loss: 0.6481 - accuracy: 0.8652\n",
            "Epoch 18/100\n",
            "72/72 [==============================] - 0s 2ms/step - loss: 0.6591 - accuracy: 0.8483\n",
            "Epoch 19/100\n",
            "72/72 [==============================] - 0s 2ms/step - loss: 0.6325 - accuracy: 0.8666\n",
            "Epoch 20/100\n",
            "72/72 [==============================] - 0s 2ms/step - loss: 0.6240 - accuracy: 0.8750\n",
            "Epoch 21/100\n",
            "72/72 [==============================] - 0s 2ms/step - loss: 0.6244 - accuracy: 0.8722\n",
            "Epoch 22/100\n",
            "72/72 [==============================] - 0s 2ms/step - loss: 0.6204 - accuracy: 0.8694\n",
            "Epoch 23/100\n",
            "72/72 [==============================] - 0s 2ms/step - loss: 0.6212 - accuracy: 0.8680\n",
            "Epoch 24/100\n",
            "72/72 [==============================] - 0s 2ms/step - loss: 0.6663 - accuracy: 0.8132\n",
            "Epoch 25/100\n",
            "72/72 [==============================] - 0s 2ms/step - loss: 0.4850 - accuracy: 0.8441\n",
            "Epoch 26/100\n",
            "72/72 [==============================] - 0s 2ms/step - loss: 0.4185 - accuracy: 0.8778\n",
            "Epoch 27/100\n",
            "72/72 [==============================] - 0s 2ms/step - loss: 0.4117 - accuracy: 0.8722\n",
            "Epoch 28/100\n",
            "72/72 [==============================] - 0s 2ms/step - loss: 0.4031 - accuracy: 0.8764\n",
            "Epoch 29/100\n",
            "72/72 [==============================] - 0s 2ms/step - loss: 0.4262 - accuracy: 0.8680\n",
            "Epoch 30/100\n",
            "72/72 [==============================] - 0s 2ms/step - loss: 0.4179 - accuracy: 0.8680\n",
            "Epoch 31/100\n",
            "72/72 [==============================] - 0s 2ms/step - loss: 0.3996 - accuracy: 0.8764\n",
            "Epoch 32/100\n",
            "72/72 [==============================] - 0s 2ms/step - loss: 0.4040 - accuracy: 0.8722\n",
            "Epoch 33/100\n",
            "72/72 [==============================] - 0s 2ms/step - loss: 0.3762 - accuracy: 0.8764\n",
            "Epoch 34/100\n",
            "72/72 [==============================] - 0s 2ms/step - loss: 0.3724 - accuracy: 0.8848\n",
            "Epoch 35/100\n",
            "72/72 [==============================] - 0s 2ms/step - loss: 0.3741 - accuracy: 0.8848\n",
            "Epoch 36/100\n",
            "72/72 [==============================] - 0s 2ms/step - loss: 0.3828 - accuracy: 0.8876\n",
            "Epoch 37/100\n",
            "72/72 [==============================] - 0s 2ms/step - loss: 0.3903 - accuracy: 0.8806\n",
            "Epoch 38/100\n",
            "72/72 [==============================] - 0s 2ms/step - loss: 0.5887 - accuracy: 0.8525\n",
            "Epoch 39/100\n",
            "72/72 [==============================] - 0s 2ms/step - loss: 0.5107 - accuracy: 0.8624\n",
            "Epoch 40/100\n",
            "72/72 [==============================] - 0s 2ms/step - loss: 0.4900 - accuracy: 0.8820\n",
            "Epoch 41/100\n",
            "72/72 [==============================] - 0s 2ms/step - loss: 0.4355 - accuracy: 0.8806\n",
            "Epoch 42/100\n",
            "72/72 [==============================] - 0s 2ms/step - loss: 0.4415 - accuracy: 0.8834\n",
            "Epoch 43/100\n",
            "72/72 [==============================] - 0s 2ms/step - loss: 0.5472 - accuracy: 0.8694\n",
            "Epoch 44/100\n",
            "72/72 [==============================] - 0s 2ms/step - loss: 0.5330 - accuracy: 0.8638\n",
            "Epoch 45/100\n",
            "72/72 [==============================] - 0s 2ms/step - loss: 0.4712 - accuracy: 0.8820\n",
            "Epoch 46/100\n",
            "72/72 [==============================] - 0s 2ms/step - loss: 0.4071 - accuracy: 0.8820\n",
            "Epoch 47/100\n",
            "72/72 [==============================] - 0s 2ms/step - loss: 0.4028 - accuracy: 0.8890\n",
            "Epoch 48/100\n",
            "72/72 [==============================] - 0s 2ms/step - loss: 0.4029 - accuracy: 0.8919\n",
            "Epoch 49/100\n",
            "72/72 [==============================] - 0s 2ms/step - loss: 0.4032 - accuracy: 0.8919\n",
            "Epoch 50/100\n",
            "72/72 [==============================] - 0s 2ms/step - loss: 0.3962 - accuracy: 0.8904\n",
            "Epoch 51/100\n",
            "72/72 [==============================] - 0s 2ms/step - loss: 0.4003 - accuracy: 0.8947\n",
            "Epoch 52/100\n",
            "72/72 [==============================] - 0s 2ms/step - loss: 1.0306 - accuracy: 0.7514\n",
            "Epoch 53/100\n",
            "72/72 [==============================] - 0s 2ms/step - loss: 0.8158 - accuracy: 0.8567\n",
            "Epoch 54/100\n",
            "72/72 [==============================] - 0s 2ms/step - loss: 0.4710 - accuracy: 0.8539\n",
            "Epoch 55/100\n",
            "72/72 [==============================] - 0s 2ms/step - loss: 0.4422 - accuracy: 0.8750\n",
            "Epoch 56/100\n",
            "72/72 [==============================] - 0s 2ms/step - loss: 0.3849 - accuracy: 0.8834\n",
            "Epoch 57/100\n",
            "72/72 [==============================] - 0s 2ms/step - loss: 0.3784 - accuracy: 0.8904\n",
            "Epoch 58/100\n",
            "72/72 [==============================] - 0s 2ms/step - loss: 0.3670 - accuracy: 0.8947\n",
            "Epoch 59/100\n",
            "72/72 [==============================] - 0s 2ms/step - loss: 0.3669 - accuracy: 0.8862\n",
            "Epoch 60/100\n",
            "72/72 [==============================] - 0s 2ms/step - loss: 0.3620 - accuracy: 0.8989\n",
            "Epoch 61/100\n",
            "72/72 [==============================] - 0s 2ms/step - loss: 0.3579 - accuracy: 0.8890\n",
            "Epoch 62/100\n",
            "72/72 [==============================] - 0s 2ms/step - loss: 0.3556 - accuracy: 0.8975\n",
            "Epoch 63/100\n",
            "72/72 [==============================] - 0s 2ms/step - loss: 0.3506 - accuracy: 0.8975\n",
            "Epoch 64/100\n",
            "72/72 [==============================] - 0s 2ms/step - loss: 0.3506 - accuracy: 0.8961\n",
            "Epoch 65/100\n",
            "72/72 [==============================] - 0s 2ms/step - loss: 0.3506 - accuracy: 0.8933\n",
            "Epoch 66/100\n",
            "72/72 [==============================] - 0s 2ms/step - loss: 0.3633 - accuracy: 0.8919\n",
            "Epoch 67/100\n",
            "72/72 [==============================] - 0s 2ms/step - loss: 0.3460 - accuracy: 0.8989\n",
            "Epoch 68/100\n",
            "72/72 [==============================] - 0s 2ms/step - loss: 0.3731 - accuracy: 0.8989\n",
            "Epoch 69/100\n",
            "72/72 [==============================] - 0s 2ms/step - loss: 0.6266 - accuracy: 0.8638\n",
            "Epoch 70/100\n",
            "72/72 [==============================] - 0s 2ms/step - loss: 0.3766 - accuracy: 0.8876\n",
            "Epoch 71/100\n",
            "72/72 [==============================] - 0s 2ms/step - loss: 0.3592 - accuracy: 0.8933\n",
            "Epoch 72/100\n",
            "72/72 [==============================] - 0s 2ms/step - loss: 0.3537 - accuracy: 0.8933\n",
            "Epoch 73/100\n",
            "72/72 [==============================] - 0s 2ms/step - loss: 0.3634 - accuracy: 0.8989\n",
            "Epoch 74/100\n",
            "72/72 [==============================] - 0s 2ms/step - loss: 0.3462 - accuracy: 0.8947\n",
            "Epoch 75/100\n",
            "72/72 [==============================] - 0s 2ms/step - loss: 0.3415 - accuracy: 0.8975\n",
            "Epoch 76/100\n",
            "72/72 [==============================] - 0s 3ms/step - loss: 0.3399 - accuracy: 0.8975\n",
            "Epoch 77/100\n",
            "72/72 [==============================] - 0s 2ms/step - loss: 0.3370 - accuracy: 0.9003\n",
            "Epoch 78/100\n",
            "72/72 [==============================] - 0s 2ms/step - loss: 0.3384 - accuracy: 0.8975\n",
            "Epoch 79/100\n",
            "72/72 [==============================] - 0s 2ms/step - loss: 0.3551 - accuracy: 0.8961\n",
            "Epoch 80/100\n",
            "72/72 [==============================] - 0s 2ms/step - loss: 0.3510 - accuracy: 0.9031\n",
            "Epoch 81/100\n",
            "72/72 [==============================] - 0s 2ms/step - loss: 0.3361 - accuracy: 0.9017\n",
            "Epoch 82/100\n",
            "72/72 [==============================] - 0s 2ms/step - loss: 0.3513 - accuracy: 0.9003\n",
            "Epoch 83/100\n",
            "72/72 [==============================] - 0s 2ms/step - loss: 0.3307 - accuracy: 0.9017\n",
            "Epoch 84/100\n",
            "72/72 [==============================] - 0s 2ms/step - loss: 0.3336 - accuracy: 0.9031\n",
            "Epoch 85/100\n",
            "72/72 [==============================] - 0s 2ms/step - loss: 0.3319 - accuracy: 0.8989\n",
            "Epoch 86/100\n",
            "72/72 [==============================] - 0s 2ms/step - loss: 0.3269 - accuracy: 0.9059\n",
            "Epoch 87/100\n",
            "72/72 [==============================] - 0s 2ms/step - loss: 0.3279 - accuracy: 0.9031\n",
            "Epoch 88/100\n",
            "72/72 [==============================] - 0s 2ms/step - loss: 0.3267 - accuracy: 0.9003\n",
            "Epoch 89/100\n",
            "72/72 [==============================] - 0s 2ms/step - loss: 0.3350 - accuracy: 0.9031\n",
            "Epoch 90/100\n",
            "72/72 [==============================] - 0s 2ms/step - loss: 0.3214 - accuracy: 0.9031\n",
            "Epoch 91/100\n",
            "72/72 [==============================] - 0s 2ms/step - loss: 0.3283 - accuracy: 0.9031\n",
            "Epoch 92/100\n",
            "72/72 [==============================] - 0s 2ms/step - loss: 0.3227 - accuracy: 0.9031\n",
            "Epoch 93/100\n",
            "72/72 [==============================] - 0s 2ms/step - loss: 0.3351 - accuracy: 0.8989\n",
            "Epoch 94/100\n",
            "72/72 [==============================] - 0s 2ms/step - loss: 0.3778 - accuracy: 0.8750\n",
            "Epoch 95/100\n",
            "72/72 [==============================] - 0s 2ms/step - loss: 0.3347 - accuracy: 0.8975\n",
            "Epoch 96/100\n",
            "72/72 [==============================] - 0s 2ms/step - loss: 0.3319 - accuracy: 0.9017\n",
            "Epoch 97/100\n",
            "72/72 [==============================] - 0s 2ms/step - loss: 0.3250 - accuracy: 0.9059\n",
            "Epoch 98/100\n",
            "72/72 [==============================] - 0s 2ms/step - loss: 0.3283 - accuracy: 0.9031\n",
            "Epoch 99/100\n",
            "72/72 [==============================] - 0s 2ms/step - loss: 0.3214 - accuracy: 0.9003\n",
            "Epoch 100/100\n",
            "72/72 [==============================] - 0s 2ms/step - loss: 0.3237 - accuracy: 0.9031\n"
          ]
        },
        {
          "data": {
            "text/plain": [
              "<keras.callbacks.History at 0x7f4e03a09990>"
            ]
          },
          "execution_count": 89,
          "metadata": {},
          "output_type": "execute_result"
        }
      ],
      "source": [
        "model.fit(X_train_scaled, y_train, batch_size = 10, epochs = 100)"
      ]
    },
    {
      "cell_type": "code",
      "execution_count": null,
      "id": "d8de5211",
      "metadata": {
        "execution": {
          "iopub.execute_input": "2022-09-24T14:21:04.080363Z",
          "iopub.status.busy": "2022-09-24T14:21:04.079928Z",
          "iopub.status.idle": "2022-09-24T14:21:04.335554Z",
          "shell.execute_reply": "2022-09-24T14:21:04.334245Z"
        },
        "papermill": {
          "duration": 0.335183,
          "end_time": "2022-09-24T14:21:04.338593",
          "exception": false,
          "start_time": "2022-09-24T14:21:04.003410",
          "status": "completed"
        },
        "tags": [],
        "id": "d8de5211"
      },
      "outputs": [],
      "source": [
        "# predict the training data\n",
        "Y_train_pred = model.predict(X_train_scaled)\n",
        "# predict the testing data\n",
        "Y_test_pred = model.predict(X_test_scaled)"
      ]
    },
    {
      "cell_type": "code",
      "execution_count": null,
      "id": "2d3571fc",
      "metadata": {
        "execution": {
          "iopub.execute_input": "2022-09-24T14:21:04.489878Z",
          "iopub.status.busy": "2022-09-24T14:21:04.489463Z",
          "iopub.status.idle": "2022-09-24T14:21:04.496722Z",
          "shell.execute_reply": "2022-09-24T14:21:04.495650Z"
        },
        "papermill": {
          "duration": 0.085916,
          "end_time": "2022-09-24T14:21:04.498796",
          "exception": false,
          "start_time": "2022-09-24T14:21:04.412880",
          "status": "completed"
        },
        "tags": [],
        "id": "2d3571fc"
      },
      "outputs": [],
      "source": [
        "Y_train_pred = [1 if a[0]> 0.50 else 0 for a in Y_train_pred]\n",
        "Y_test_pred = [1 if a[0]> 0.50 else 0 for a in Y_test_pred]"
      ]
    },
    {
      "cell_type": "code",
      "execution_count": null,
      "id": "42328c4f",
      "metadata": {
        "execution": {
          "iopub.execute_input": "2022-09-24T14:21:04.653284Z",
          "iopub.status.busy": "2022-09-24T14:21:04.652008Z",
          "iopub.status.idle": "2022-09-24T14:21:04.673220Z",
          "shell.execute_reply": "2022-09-24T14:21:04.672044Z"
        },
        "papermill": {
          "duration": 0.100179,
          "end_time": "2022-09-24T14:21:04.675963",
          "exception": false,
          "start_time": "2022-09-24T14:21:04.575784",
          "status": "completed"
        },
        "tags": [],
        "id": "42328c4f"
      },
      "outputs": [],
      "source": [
        "# Model evaluation\n",
        "train_eval=pd.DataFrame([evaluate_model(y_train, Y_train_pred)])\n",
        "test_eval=pd.DataFrame([evaluate_model(y_test, Y_test_pred)])\n",
        "df_eval=pd.concat([train_eval,test_eval])\n",
        "df_eval['data']=['train_data','test_data']\n",
        "df_eval.set_index('data',inplace=True)"
      ]
    },
    {
      "cell_type": "code",
      "execution_count": null,
      "id": "2123e041",
      "metadata": {
        "execution": {
          "iopub.execute_input": "2022-09-24T14:21:04.828957Z",
          "iopub.status.busy": "2022-09-24T14:21:04.828261Z",
          "iopub.status.idle": "2022-09-24T14:21:04.842551Z",
          "shell.execute_reply": "2022-09-24T14:21:04.841388Z"
        },
        "papermill": {
          "duration": 0.093355,
          "end_time": "2022-09-24T14:21:04.845000",
          "exception": false,
          "start_time": "2022-09-24T14:21:04.751645",
          "status": "completed"
        },
        "tags": [],
        "id": "2123e041",
        "outputId": "495773a3-b8cd-42a3-d232-80f63373ea12"
      },
      "outputs": [
        {
          "data": {
            "text/html": [
              "<div>\n",
              "<style scoped>\n",
              "    .dataframe tbody tr th:only-of-type {\n",
              "        vertical-align: middle;\n",
              "    }\n",
              "\n",
              "    .dataframe tbody tr th {\n",
              "        vertical-align: top;\n",
              "    }\n",
              "\n",
              "    .dataframe thead th {\n",
              "        text-align: right;\n",
              "    }\n",
              "</style>\n",
              "<table border=\"1\" class=\"dataframe\">\n",
              "  <thead>\n",
              "    <tr style=\"text-align: right;\">\n",
              "      <th></th>\n",
              "      <th>TP</th>\n",
              "      <th>TN</th>\n",
              "      <th>FP</th>\n",
              "      <th>FN</th>\n",
              "      <th>Recall</th>\n",
              "      <th>Precision</th>\n",
              "      <th>Specificity</th>\n",
              "      <th>ROC/AUC Score</th>\n",
              "      <th>F1-Score</th>\n",
              "      <th>Accuracy</th>\n",
              "    </tr>\n",
              "    <tr>\n",
              "      <th>data</th>\n",
              "      <th></th>\n",
              "      <th></th>\n",
              "      <th></th>\n",
              "      <th></th>\n",
              "      <th></th>\n",
              "      <th></th>\n",
              "      <th></th>\n",
              "      <th></th>\n",
              "      <th></th>\n",
              "      <th></th>\n",
              "    </tr>\n",
              "  </thead>\n",
              "  <tbody>\n",
              "    <tr>\n",
              "      <th>train_data</th>\n",
              "      <td>227</td>\n",
              "      <td>422</td>\n",
              "      <td>17</td>\n",
              "      <td>46</td>\n",
              "      <td>83.15</td>\n",
              "      <td>93.03</td>\n",
              "      <td>0.96</td>\n",
              "      <td>83.15</td>\n",
              "      <td>87.81</td>\n",
              "      <td>91.15</td>\n",
              "    </tr>\n",
              "    <tr>\n",
              "      <th>test_data</th>\n",
              "      <td>49</td>\n",
              "      <td>96</td>\n",
              "      <td>14</td>\n",
              "      <td>20</td>\n",
              "      <td>71.01</td>\n",
              "      <td>77.78</td>\n",
              "      <td>0.87</td>\n",
              "      <td>71.01</td>\n",
              "      <td>74.24</td>\n",
              "      <td>81.01</td>\n",
              "    </tr>\n",
              "  </tbody>\n",
              "</table>\n",
              "</div>"
            ],
            "text/plain": [
              "             TP   TN  FP  FN  Recall  Precision  Specificity  ROC/AUC Score  \\\n",
              "data                                                                          \n",
              "train_data  227  422  17  46   83.15      93.03         0.96          83.15   \n",
              "test_data    49   96  14  20   71.01      77.78         0.87          71.01   \n",
              "\n",
              "            F1-Score  Accuracy  \n",
              "data                            \n",
              "train_data     87.81     91.15  \n",
              "test_data      74.24     81.01  "
            ]
          },
          "execution_count": 93,
          "metadata": {},
          "output_type": "execute_result"
        }
      ],
      "source": [
        "df_eval"
      ]
    },
    {
      "cell_type": "code",
      "execution_count": null,
      "id": "5acdc905",
      "metadata": {
        "execution": {
          "iopub.execute_input": "2022-09-24T14:21:04.999756Z",
          "iopub.status.busy": "2022-09-24T14:21:04.998910Z",
          "iopub.status.idle": "2022-09-24T14:21:05.297722Z",
          "shell.execute_reply": "2022-09-24T14:21:05.296499Z"
        },
        "papermill": {
          "duration": 0.379398,
          "end_time": "2022-09-24T14:21:05.300418",
          "exception": false,
          "start_time": "2022-09-24T14:21:04.921020",
          "status": "completed"
        },
        "tags": [],
        "id": "5acdc905",
        "outputId": "ed0b88a2-ce4f-401b-eab1-3cefd1eb4970"
      },
      "outputs": [
        {
          "data": {
            "image/png": "[encoded data removed]",
            "text/plain": [
              "<Figure size 360x360 with 1 Axes>"
            ]
          },
          "metadata": {},
          "output_type": "display_data"
        }
      ],
      "source": [
        "# Visualisation with plot_metric\n",
        "bc = BinaryClassification(y_test, Y_test_pred, labels=[\"Class 1\", \"Class 2\"])\n",
        "\n",
        "# Figures\n",
        "plt.figure(figsize=(5,5))\n",
        "bc.plot_roc_curve()\n",
        "plt.show()"
      ]
    },
    {
      "cell_type": "markdown",
      "id": "55e067b9",
      "metadata": {
        "papermill": {
          "duration": 0.076528,
          "end_time": "2022-09-24T14:21:05.455415",
          "exception": false,
          "start_time": "2022-09-24T14:21:05.378887",
          "status": "completed"
        },
        "tags": [],
        "id": "55e067b9"
      },
      "source": [
        "**Model Summaries**"
      ]
    },
    {
      "cell_type": "code",
      "execution_count": null,
      "id": "1bb44a82",
      "metadata": {
        "execution": {
          "iopub.execute_input": "2022-09-24T14:21:05.608272Z",
          "iopub.status.busy": "2022-09-24T14:21:05.607743Z",
          "iopub.status.idle": "2022-09-24T14:21:05.615897Z",
          "shell.execute_reply": "2022-09-24T14:21:05.614820Z"
        },
        "papermill": {
          "duration": 0.087779,
          "end_time": "2022-09-24T14:21:05.618216",
          "exception": false,
          "start_time": "2022-09-24T14:21:05.530437",
          "status": "completed"
        },
        "tags": [],
        "id": "1bb44a82"
      },
      "outputs": [],
      "source": [
        "df=pd.DataFrame({\"Experiment No\":[1,2,3,4,5,6,7,8],\"Model\":[\"Logistic\", \"Logistic with Grid search\", \"Decision Tree\", \"Random Forest\", \"Support Vector Classifier\", \"Gradient bossting\", \"Adaboost\", \"Neural Networks\"],\n",
        "                 \"Train Accuracy\":[82.72, 81.32, 80.20, 80.34, 84.55, 91.43, 86.38, 90.31],\"Validation Accuracy\":[83.24, 82.12, 72.63, 74.86, 82.68, 78.21, 77.09, 78.77],\n",
        "                 \"Observation\":[\"Eventhough model was given better accuracy but not given good result on unseen data provided by kaggle\",\"Eventhough model was given better accuracy but not given good result on unseen data provided by kaggle\", \n",
        "                                \"ot producing good results on unseen data provided by kaggle\", \"Not producing good results on unseen data provided by kaggle\", \"Produced good resutls with good accuracy on train and test datasets\",\"Overfitting\", \"Overfitting\",\"Overfitting\"]})"
      ]
    },
    {
      "cell_type": "code",
      "execution_count": null,
      "id": "b1f02cb2",
      "metadata": {
        "execution": {
          "iopub.execute_input": "2022-09-24T14:21:05.771559Z",
          "iopub.status.busy": "2022-09-24T14:21:05.770613Z",
          "iopub.status.idle": "2022-09-24T14:21:05.846946Z",
          "shell.execute_reply": "2022-09-24T14:21:05.846079Z"
        },
        "papermill": {
          "duration": 0.154974,
          "end_time": "2022-09-24T14:21:05.849272",
          "exception": false,
          "start_time": "2022-09-24T14:21:05.694298",
          "status": "completed"
        },
        "tags": [],
        "id": "b1f02cb2",
        "outputId": "0d3f87f3-1645-4519-9db4-0526b487face"
      },
      "outputs": [
        {
          "data": {
            "text/html": [
              "<style type=\"text/css\">\n",
              "#T_aaf6b_row0_col4, #T_aaf6b_row1_col4, #T_aaf6b_row2_col4, #T_aaf6b_row3_col4, #T_aaf6b_row4_col4, #T_aaf6b_row5_col4, #T_aaf6b_row6_col4, #T_aaf6b_row7_col4 {\n",
              "  width: 600px;\n",
              "}\n",
              "</style>\n",
              "<table id=\"T_aaf6b_\">\n",
              "  <thead>\n",
              "    <tr>\n",
              "      <th class=\"blank level0\" >&nbsp;</th>\n",
              "      <th class=\"col_heading level0 col0\" >Experiment No</th>\n",
              "      <th class=\"col_heading level0 col1\" >Model</th>\n",
              "      <th class=\"col_heading level0 col2\" >Train Accuracy</th>\n",
              "      <th class=\"col_heading level0 col3\" >Validation Accuracy</th>\n",
              "      <th class=\"col_heading level0 col4\" >Observation</th>\n",
              "    </tr>\n",
              "  </thead>\n",
              "  <tbody>\n",
              "    <tr>\n",
              "      <th id=\"T_aaf6b_level0_row0\" class=\"row_heading level0 row0\" >0</th>\n",
              "      <td id=\"T_aaf6b_row0_col0\" class=\"data row0 col0\" >1</td>\n",
              "      <td id=\"T_aaf6b_row0_col1\" class=\"data row0 col1\" >Logistic</td>\n",
              "      <td id=\"T_aaf6b_row0_col2\" class=\"data row0 col2\" >82.720000</td>\n",
              "      <td id=\"T_aaf6b_row0_col3\" class=\"data row0 col3\" >83.240000</td>\n",
              "      <td id=\"T_aaf6b_row0_col4\" class=\"data row0 col4\" >Eventhough model was given better accuracy but not given good result on unseen data provided by kaggle</td>\n",
              "    </tr>\n",
              "    <tr>\n",
              "      <th id=\"T_aaf6b_level0_row1\" class=\"row_heading level0 row1\" >1</th>\n",
              "      <td id=\"T_aaf6b_row1_col0\" class=\"data row1 col0\" >2</td>\n",
              "      <td id=\"T_aaf6b_row1_col1\" class=\"data row1 col1\" >Logistic with Grid search</td>\n",
              "      <td id=\"T_aaf6b_row1_col2\" class=\"data row1 col2\" >81.320000</td>\n",
              "      <td id=\"T_aaf6b_row1_col3\" class=\"data row1 col3\" >82.120000</td>\n",
              "      <td id=\"T_aaf6b_row1_col4\" class=\"data row1 col4\" >Eventhough model was given better accuracy but not given good result on unseen data provided by kaggle</td>\n",
              "    </tr>\n",
              "    <tr>\n",
              "      <th id=\"T_aaf6b_level0_row2\" class=\"row_heading level0 row2\" >2</th>\n",
              "      <td id=\"T_aaf6b_row2_col0\" class=\"data row2 col0\" >3</td>\n",
              "      <td id=\"T_aaf6b_row2_col1\" class=\"data row2 col1\" >Decision Tree</td>\n",
              "      <td id=\"T_aaf6b_row2_col2\" class=\"data row2 col2\" >80.200000</td>\n",
              "      <td id=\"T_aaf6b_row2_col3\" class=\"data row2 col3\" >72.630000</td>\n",
              "      <td id=\"T_aaf6b_row2_col4\" class=\"data row2 col4\" >ot producing good results on unseen data provided by kaggle</td>\n",
              "    </tr>\n",
              "    <tr>\n",
              "      <th id=\"T_aaf6b_level0_row3\" class=\"row_heading level0 row3\" >3</th>\n",
              "      <td id=\"T_aaf6b_row3_col0\" class=\"data row3 col0\" >4</td>\n",
              "      <td id=\"T_aaf6b_row3_col1\" class=\"data row3 col1\" >Random Forest</td>\n",
              "      <td id=\"T_aaf6b_row3_col2\" class=\"data row3 col2\" >80.340000</td>\n",
              "      <td id=\"T_aaf6b_row3_col3\" class=\"data row3 col3\" >74.860000</td>\n",
              "      <td id=\"T_aaf6b_row3_col4\" class=\"data row3 col4\" >Not producing good results on unseen data provided by kaggle</td>\n",
              "    </tr>\n",
              "    <tr>\n",
              "      <th id=\"T_aaf6b_level0_row4\" class=\"row_heading level0 row4\" >4</th>\n",
              "      <td id=\"T_aaf6b_row4_col0\" class=\"data row4 col0\" >5</td>\n",
              "      <td id=\"T_aaf6b_row4_col1\" class=\"data row4 col1\" >Support Vector Classifier</td>\n",
              "      <td id=\"T_aaf6b_row4_col2\" class=\"data row4 col2\" >84.550000</td>\n",
              "      <td id=\"T_aaf6b_row4_col3\" class=\"data row4 col3\" >82.680000</td>\n",
              "      <td id=\"T_aaf6b_row4_col4\" class=\"data row4 col4\" >Produced good resutls with good accuracy on train and test datasets</td>\n",
              "    </tr>\n",
              "    <tr>\n",
              "      <th id=\"T_aaf6b_level0_row5\" class=\"row_heading level0 row5\" >5</th>\n",
              "      <td id=\"T_aaf6b_row5_col0\" class=\"data row5 col0\" >6</td>\n",
              "      <td id=\"T_aaf6b_row5_col1\" class=\"data row5 col1\" >Gradient bossting</td>\n",
              "      <td id=\"T_aaf6b_row5_col2\" class=\"data row5 col2\" >91.430000</td>\n",
              "      <td id=\"T_aaf6b_row5_col3\" class=\"data row5 col3\" >78.210000</td>\n",
              "      <td id=\"T_aaf6b_row5_col4\" class=\"data row5 col4\" >Overfitting</td>\n",
              "    </tr>\n",
              "    <tr>\n",
              "      <th id=\"T_aaf6b_level0_row6\" class=\"row_heading level0 row6\" >6</th>\n",
              "      <td id=\"T_aaf6b_row6_col0\" class=\"data row6 col0\" >7</td>\n",
              "      <td id=\"T_aaf6b_row6_col1\" class=\"data row6 col1\" >Adaboost</td>\n",
              "      <td id=\"T_aaf6b_row6_col2\" class=\"data row6 col2\" >86.380000</td>\n",
              "      <td id=\"T_aaf6b_row6_col3\" class=\"data row6 col3\" >77.090000</td>\n",
              "      <td id=\"T_aaf6b_row6_col4\" class=\"data row6 col4\" >Overfitting</td>\n",
              "    </tr>\n",
              "    <tr>\n",
              "      <th id=\"T_aaf6b_level0_row7\" class=\"row_heading level0 row7\" >7</th>\n",
              "      <td id=\"T_aaf6b_row7_col0\" class=\"data row7 col0\" >8</td>\n",
              "      <td id=\"T_aaf6b_row7_col1\" class=\"data row7 col1\" >Neural Networks</td>\n",
              "      <td id=\"T_aaf6b_row7_col2\" class=\"data row7 col2\" >90.310000</td>\n",
              "      <td id=\"T_aaf6b_row7_col3\" class=\"data row7 col3\" >78.770000</td>\n",
              "      <td id=\"T_aaf6b_row7_col4\" class=\"data row7 col4\" >Overfitting</td>\n",
              "    </tr>\n",
              "  </tbody>\n",
              "</table>\n"
            ],
            "text/plain": [
              "<pandas.io.formats.style.Styler at 0x7f4deb7a17d0>"
            ]
          },
          "execution_count": 96,
          "metadata": {},
          "output_type": "execute_result"
        }
      ],
      "source": [
        "df.style.set_properties(subset=['Observation'], **{'width': '600px'})"
      ]
    },
    {
      "cell_type": "markdown",
      "id": "e3539b71",
      "metadata": {
        "papermill": {
          "duration": 0.076601,
          "end_time": "2022-09-24T14:21:06.001873",
          "exception": false,
          "start_time": "2022-09-24T14:21:05.925272",
          "status": "completed"
        },
        "tags": [],
        "id": "e3539b71"
      },
      "source": [
        "**Model Prediction On Test Data**"
      ]
    },
    {
      "cell_type": "markdown",
      "id": "49467f32",
      "metadata": {
        "papermill": {
          "duration": 0.076772,
          "end_time": "2022-09-24T14:21:06.156591",
          "exception": false,
          "start_time": "2022-09-24T14:21:06.079819",
          "status": "completed"
        },
        "tags": [],
        "id": "49467f32"
      },
      "source": [
        "Read the test data and apply all preprocessing steps preformed on training data"
      ]
    },
    {
      "cell_type": "code",
      "execution_count": null,
      "id": "c73ee4ef",
      "metadata": {
        "execution": {
          "iopub.execute_input": "2022-09-24T14:21:06.317211Z",
          "iopub.status.busy": "2022-09-24T14:21:06.316510Z",
          "iopub.status.idle": "2022-09-24T14:21:06.343730Z",
          "shell.execute_reply": "2022-09-24T14:21:06.342181Z"
        },
        "papermill": {
          "duration": 0.110344,
          "end_time": "2022-09-24T14:21:06.346444",
          "exception": false,
          "start_time": "2022-09-24T14:21:06.236100",
          "status": "completed"
        },
        "tags": [],
        "id": "c73ee4ef",
        "outputId": "ea222e27-abe8-4f3c-e618-563a38e64d55"
      },
      "outputs": [
        {
          "data": {
            "text/html": [
              "<div>\n",
              "<style scoped>\n",
              "    .dataframe tbody tr th:only-of-type {\n",
              "        vertical-align: middle;\n",
              "    }\n",
              "\n",
              "    .dataframe tbody tr th {\n",
              "        vertical-align: top;\n",
              "    }\n",
              "\n",
              "    .dataframe thead th {\n",
              "        text-align: right;\n",
              "    }\n",
              "</style>\n",
              "<table border=\"1\" class=\"dataframe\">\n",
              "  <thead>\n",
              "    <tr style=\"text-align: right;\">\n",
              "      <th></th>\n",
              "      <th>PassengerId</th>\n",
              "      <th>Pclass</th>\n",
              "      <th>Name</th>\n",
              "      <th>Sex</th>\n",
              "      <th>Age</th>\n",
              "      <th>SibSp</th>\n",
              "      <th>Parch</th>\n",
              "      <th>Ticket</th>\n",
              "      <th>Fare</th>\n",
              "      <th>Cabin</th>\n",
              "      <th>Embarked</th>\n",
              "    </tr>\n",
              "  </thead>\n",
              "  <tbody>\n",
              "    <tr>\n",
              "      <th>0</th>\n",
              "      <td>892</td>\n",
              "      <td>3</td>\n",
              "      <td>Kelly, Mr. James</td>\n",
              "      <td>male</td>\n",
              "      <td>34.5</td>\n",
              "      <td>0</td>\n",
              "      <td>0</td>\n",
              "      <td>330911</td>\n",
              "      <td>7.8292</td>\n",
              "      <td>NaN</td>\n",
              "      <td>Q</td>\n",
              "    </tr>\n",
              "    <tr>\n",
              "      <th>1</th>\n",
              "      <td>893</td>\n",
              "      <td>3</td>\n",
              "      <td>Wilkes, Mrs. James (Ellen Needs)</td>\n",
              "      <td>female</td>\n",
              "      <td>47.0</td>\n",
              "      <td>1</td>\n",
              "      <td>0</td>\n",
              "      <td>363272</td>\n",
              "      <td>7.0000</td>\n",
              "      <td>NaN</td>\n",
              "      <td>S</td>\n",
              "    </tr>\n",
              "    <tr>\n",
              "      <th>2</th>\n",
              "      <td>894</td>\n",
              "      <td>2</td>\n",
              "      <td>Myles, Mr. Thomas Francis</td>\n",
              "      <td>male</td>\n",
              "      <td>62.0</td>\n",
              "      <td>0</td>\n",
              "      <td>0</td>\n",
              "      <td>240276</td>\n",
              "      <td>9.6875</td>\n",
              "      <td>NaN</td>\n",
              "      <td>Q</td>\n",
              "    </tr>\n",
              "    <tr>\n",
              "      <th>3</th>\n",
              "      <td>895</td>\n",
              "      <td>3</td>\n",
              "      <td>Wirz, Mr. Albert</td>\n",
              "      <td>male</td>\n",
              "      <td>27.0</td>\n",
              "      <td>0</td>\n",
              "      <td>0</td>\n",
              "      <td>315154</td>\n",
              "      <td>8.6625</td>\n",
              "      <td>NaN</td>\n",
              "      <td>S</td>\n",
              "    </tr>\n",
              "    <tr>\n",
              "      <th>4</th>\n",
              "      <td>896</td>\n",
              "      <td>3</td>\n",
              "      <td>Hirvonen, Mrs. Alexander (Helga E Lindqvist)</td>\n",
              "      <td>female</td>\n",
              "      <td>22.0</td>\n",
              "      <td>1</td>\n",
              "      <td>1</td>\n",
              "      <td>3101298</td>\n",
              "      <td>12.2875</td>\n",
              "      <td>NaN</td>\n",
              "      <td>S</td>\n",
              "    </tr>\n",
              "  </tbody>\n",
              "</table>\n",
              "</div>"
            ],
            "text/plain": [
              "   PassengerId  Pclass                                          Name     Sex  \\\n",
              "0          892       3                              Kelly, Mr. James    male   \n",
              "1          893       3              Wilkes, Mrs. James (Ellen Needs)  female   \n",
              "2          894       2                     Myles, Mr. Thomas Francis    male   \n",
              "3          895       3                              Wirz, Mr. Albert    male   \n",
              "4          896       3  Hirvonen, Mrs. Alexander (Helga E Lindqvist)  female   \n",
              "\n",
              "    Age  SibSp  Parch   Ticket     Fare Cabin Embarked  \n",
              "0  34.5      0      0   330911   7.8292   NaN        Q  \n",
              "1  47.0      1      0   363272   7.0000   NaN        S  \n",
              "2  62.0      0      0   240276   9.6875   NaN        Q  \n",
              "3  27.0      0      0   315154   8.6625   NaN        S  \n",
              "4  22.0      1      1  3101298  12.2875   NaN        S  "
            ]
          },
          "execution_count": 97,
          "metadata": {},
          "output_type": "execute_result"
        }
      ],
      "source": [
        "test_data = pd.read_csv('../input/titanic/test.csv')\n",
        "test_data.head()"
      ]
    },
    {
      "cell_type": "code",
      "execution_count": null,
      "id": "58cc8505",
      "metadata": {
        "execution": {
          "iopub.execute_input": "2022-09-24T14:21:06.503848Z",
          "iopub.status.busy": "2022-09-24T14:21:06.503431Z",
          "iopub.status.idle": "2022-09-24T14:21:06.508841Z",
          "shell.execute_reply": "2022-09-24T14:21:06.507704Z"
        },
        "papermill": {
          "duration": 0.086879,
          "end_time": "2022-09-24T14:21:06.511124",
          "exception": false,
          "start_time": "2022-09-24T14:21:06.424245",
          "status": "completed"
        },
        "tags": [],
        "id": "58cc8505"
      },
      "outputs": [],
      "source": [
        "test = test_data.copy()"
      ]
    },
    {
      "cell_type": "code",
      "execution_count": null,
      "id": "ae22ddf7",
      "metadata": {
        "execution": {
          "iopub.execute_input": "2022-09-24T14:21:06.667751Z",
          "iopub.status.busy": "2022-09-24T14:21:06.667336Z",
          "iopub.status.idle": "2022-09-24T14:21:06.676783Z",
          "shell.execute_reply": "2022-09-24T14:21:06.675592Z"
        },
        "papermill": {
          "duration": 0.091696,
          "end_time": "2022-09-24T14:21:06.679356",
          "exception": false,
          "start_time": "2022-09-24T14:21:06.587660",
          "status": "completed"
        },
        "tags": [],
        "id": "ae22ddf7"
      },
      "outputs": [],
      "source": [
        "test_data[\"CabinBool\"] = (test_data[\"Cabin\"].notnull().astype('int'))\n",
        "test_data['Name_title'] = test_data['Name'].apply(lambda x: x.split(',')[1].split('.')[0].strip())\n",
        "test_data['Name_title'] = test_data['Name_title'].apply(lambda a: 'Other' if a not in ['Mr', 'Miss', 'Mrs', 'Master'] else a)"
      ]
    },
    {
      "cell_type": "code",
      "execution_count": null,
      "id": "e3717da0",
      "metadata": {
        "execution": {
          "iopub.execute_input": "2022-09-24T14:21:06.833750Z",
          "iopub.status.busy": "2022-09-24T14:21:06.833339Z",
          "iopub.status.idle": "2022-09-24T14:21:06.853209Z",
          "shell.execute_reply": "2022-09-24T14:21:06.852004Z"
        },
        "papermill": {
          "duration": 0.099987,
          "end_time": "2022-09-24T14:21:06.855568",
          "exception": false,
          "start_time": "2022-09-24T14:21:06.755581",
          "status": "completed"
        },
        "tags": [],
        "id": "e3717da0"
      },
      "outputs": [],
      "source": [
        "test_data['Name_title'] = test_data[['Name_title', 'Age']].apply(lambda a: return_title(a.Name_title, a.Age), axis = 1)"
      ]
    },
    {
      "cell_type": "code",
      "execution_count": null,
      "id": "98a8dd7e",
      "metadata": {
        "execution": {
          "iopub.execute_input": "2022-09-24T14:21:07.010255Z",
          "iopub.status.busy": "2022-09-24T14:21:07.009271Z",
          "iopub.status.idle": "2022-09-24T14:21:07.032490Z",
          "shell.execute_reply": "2022-09-24T14:21:07.031222Z"
        },
        "papermill": {
          "duration": 0.103745,
          "end_time": "2022-09-24T14:21:07.035199",
          "exception": false,
          "start_time": "2022-09-24T14:21:06.931454",
          "status": "completed"
        },
        "tags": [],
        "id": "98a8dd7e"
      },
      "outputs": [],
      "source": [
        "test_data['Ticket_cls'] = test_data['Ticket'].apply(lambda a: a.split(' ')[0])\n",
        "test_data['Ticket_cls'] = test_data['Ticket_cls'].apply(lambda a: 'Numeric' if a.isnumeric() else 'Alphabet')\n",
        "test_data['Ticket_cls'] = test_data[['Ticket_cls', 'Ticket']].apply(lambda a: return_numeric(a.Ticket_cls, a.Ticket), axis = 1)\n",
        "test_data['FamilySize'] = test_data['SibSp'] + test_data['Parch'] + 1\n",
        "test_data['Solo_traveller'] = test_data['FamilySize'].apply(lambda a: 'Yes' if a == 1 else 'No')"
      ]
    },
    {
      "cell_type": "code",
      "execution_count": null,
      "id": "a0043844",
      "metadata": {
        "execution": {
          "iopub.execute_input": "2022-09-24T14:21:07.187438Z",
          "iopub.status.busy": "2022-09-24T14:21:07.187013Z",
          "iopub.status.idle": "2022-09-24T14:21:07.193513Z",
          "shell.execute_reply": "2022-09-24T14:21:07.192747Z"
        },
        "papermill": {
          "duration": 0.085015,
          "end_time": "2022-09-24T14:21:07.195515",
          "exception": false,
          "start_time": "2022-09-24T14:21:07.110500",
          "status": "completed"
        },
        "tags": [],
        "id": "a0043844"
      },
      "outputs": [],
      "source": [
        "#test_data['norm_fare'] = test_data['Fare'].map(lambda x: np.log(x) if x > 0 else 0)\n",
        "\n",
        "test_data['norm_fare'] = np.log(test_data['Fare'] + 1)"
      ]
    },
    {
      "cell_type": "code",
      "execution_count": null,
      "id": "ea6525ed",
      "metadata": {
        "execution": {
          "iopub.execute_input": "2022-09-24T14:21:07.350553Z",
          "iopub.status.busy": "2022-09-24T14:21:07.349577Z",
          "iopub.status.idle": "2022-09-24T14:21:07.360436Z",
          "shell.execute_reply": "2022-09-24T14:21:07.359251Z"
        },
        "papermill": {
          "duration": 0.090966,
          "end_time": "2022-09-24T14:21:07.363278",
          "exception": false,
          "start_time": "2022-09-24T14:21:07.272312",
          "status": "completed"
        },
        "tags": [],
        "id": "ea6525ed"
      },
      "outputs": [],
      "source": [
        "test_data = fill_Missing_Values(test_data)"
      ]
    },
    {
      "cell_type": "code",
      "execution_count": null,
      "id": "4dce22a7",
      "metadata": {
        "execution": {
          "iopub.execute_input": "2022-09-24T14:21:07.517234Z",
          "iopub.status.busy": "2022-09-24T14:21:07.516567Z",
          "iopub.status.idle": "2022-09-24T14:21:07.532309Z",
          "shell.execute_reply": "2022-09-24T14:21:07.531222Z"
        },
        "papermill": {
          "duration": 0.095576,
          "end_time": "2022-09-24T14:21:07.534682",
          "exception": false,
          "start_time": "2022-09-24T14:21:07.439106",
          "status": "completed"
        },
        "tags": [],
        "id": "4dce22a7"
      },
      "outputs": [],
      "source": [
        "# Creating dummies for categorical variables\n",
        "categorical_cols = ['Sex', 'Name_title', 'Ticket_cls', 'Embarked', 'Solo_traveller', 'CabinBool', 'Parch', 'SibSp', 'Pclass']\n",
        "dummies = pd.get_dummies(test_data[categorical_cols],drop_first=True)\n",
        "# Drop Categorical columns\n",
        "test_data.drop(categorical_cols,axis=1,inplace=True)\n",
        "# Concatenate original dataframe and dummies\n",
        "test_data = pd.concat([test_data,dummies],axis=1)"
      ]
    },
    {
      "cell_type": "code",
      "execution_count": null,
      "id": "c3ad7fd0",
      "metadata": {
        "execution": {
          "iopub.execute_input": "2022-09-24T14:21:07.689011Z",
          "iopub.status.busy": "2022-09-24T14:21:07.688341Z",
          "iopub.status.idle": "2022-09-24T14:21:07.694263Z",
          "shell.execute_reply": "2022-09-24T14:21:07.693468Z"
        },
        "papermill": {
          "duration": 0.084613,
          "end_time": "2022-09-24T14:21:07.696466",
          "exception": false,
          "start_time": "2022-09-24T14:21:07.611853",
          "status": "completed"
        },
        "tags": [],
        "id": "c3ad7fd0"
      },
      "outputs": [],
      "source": [
        "# Drop previously dropped columns\n",
        "test_data.drop(['PassengerId', 'Cabin', 'Ticket', 'Name', 'Fare', 'FamilySize'], axis = 1, inplace = True)"
      ]
    },
    {
      "cell_type": "code",
      "execution_count": null,
      "id": "3b05193c",
      "metadata": {
        "execution": {
          "iopub.execute_input": "2022-09-24T14:21:07.853695Z",
          "iopub.status.busy": "2022-09-24T14:21:07.852752Z",
          "iopub.status.idle": "2022-09-24T14:21:07.859816Z",
          "shell.execute_reply": "2022-09-24T14:21:07.859044Z"
        },
        "papermill": {
          "duration": 0.089275,
          "end_time": "2022-09-24T14:21:07.862168",
          "exception": false,
          "start_time": "2022-09-24T14:21:07.772893",
          "status": "completed"
        },
        "tags": [],
        "id": "3b05193c"
      },
      "outputs": [],
      "source": [
        "test_data_sc = scaler.transform(test_data)\n",
        "test_data_scaled = pd.DataFrame(test_data_sc, columns=test_data.columns)"
      ]
    },
    {
      "cell_type": "code",
      "execution_count": null,
      "id": "f3ded88b",
      "metadata": {
        "execution": {
          "iopub.execute_input": "2022-09-24T14:21:08.017242Z",
          "iopub.status.busy": "2022-09-24T14:21:08.016104Z",
          "iopub.status.idle": "2022-09-24T14:21:08.037978Z",
          "shell.execute_reply": "2022-09-24T14:21:08.036748Z"
        },
        "papermill": {
          "duration": 0.103016,
          "end_time": "2022-09-24T14:21:08.040443",
          "exception": false,
          "start_time": "2022-09-24T14:21:07.937427",
          "status": "completed"
        },
        "tags": [],
        "id": "f3ded88b",
        "outputId": "b9b2899b-4b43-43db-e732-3af2ad931b65"
      },
      "outputs": [
        {
          "data": {
            "text/html": [
              "<div>\n",
              "<style scoped>\n",
              "    .dataframe tbody tr th:only-of-type {\n",
              "        vertical-align: middle;\n",
              "    }\n",
              "\n",
              "    .dataframe tbody tr th {\n",
              "        vertical-align: top;\n",
              "    }\n",
              "\n",
              "    .dataframe thead th {\n",
              "        text-align: right;\n",
              "    }\n",
              "</style>\n",
              "<table border=\"1\" class=\"dataframe\">\n",
              "  <thead>\n",
              "    <tr style=\"text-align: right;\">\n",
              "      <th></th>\n",
              "      <th>Age</th>\n",
              "      <th>norm_fare</th>\n",
              "      <th>CabinBool</th>\n",
              "      <th>Parch</th>\n",
              "      <th>SibSp</th>\n",
              "      <th>Pclass</th>\n",
              "      <th>Sex_male</th>\n",
              "      <th>Name_title_Miss</th>\n",
              "      <th>Name_title_Mr1</th>\n",
              "      <th>Name_title_Mr2</th>\n",
              "      <th>Name_title_Mrs</th>\n",
              "      <th>Name_title_Other</th>\n",
              "      <th>Ticket_cls_Numeric1</th>\n",
              "      <th>Ticket_cls_Numeric2</th>\n",
              "      <th>Embarked_Q</th>\n",
              "      <th>Embarked_S</th>\n",
              "      <th>Solo_traveller_Yes</th>\n",
              "    </tr>\n",
              "  </thead>\n",
              "  <tbody>\n",
              "    <tr>\n",
              "      <th>0</th>\n",
              "      <td>0.393363</td>\n",
              "      <td>-0.794732</td>\n",
              "      <td>-0.538382</td>\n",
              "      <td>-0.508116</td>\n",
              "      <td>-0.528596</td>\n",
              "      <td>0.829568</td>\n",
              "      <td>0.742427</td>\n",
              "      <td>-0.496926</td>\n",
              "      <td>1.578036</td>\n",
              "      <td>-0.642416</td>\n",
              "      <td>-0.420547</td>\n",
              "      <td>-0.174329</td>\n",
              "      <td>1.23847</td>\n",
              "      <td>-0.715316</td>\n",
              "      <td>3.456220</td>\n",
              "      <td>-1.634045</td>\n",
              "      <td>0.800346</td>\n",
              "    </tr>\n",
              "    <tr>\n",
              "      <th>1</th>\n",
              "      <td>1.361927</td>\n",
              "      <td>-0.896157</td>\n",
              "      <td>-0.538382</td>\n",
              "      <td>-0.508116</td>\n",
              "      <td>0.632585</td>\n",
              "      <td>0.829568</td>\n",
              "      <td>-1.346933</td>\n",
              "      <td>-0.496926</td>\n",
              "      <td>-0.633699</td>\n",
              "      <td>-0.642416</td>\n",
              "      <td>2.377857</td>\n",
              "      <td>-0.174329</td>\n",
              "      <td>1.23847</td>\n",
              "      <td>-0.715316</td>\n",
              "      <td>-0.289333</td>\n",
              "      <td>0.611978</td>\n",
              "      <td>-1.249460</td>\n",
              "    </tr>\n",
              "    <tr>\n",
              "      <th>2</th>\n",
              "      <td>2.524205</td>\n",
              "      <td>-0.598295</td>\n",
              "      <td>-0.538382</td>\n",
              "      <td>-0.508116</td>\n",
              "      <td>-0.528596</td>\n",
              "      <td>-0.370945</td>\n",
              "      <td>0.742427</td>\n",
              "      <td>-0.496926</td>\n",
              "      <td>1.578036</td>\n",
              "      <td>-0.642416</td>\n",
              "      <td>-0.420547</td>\n",
              "      <td>-0.174329</td>\n",
              "      <td>1.23847</td>\n",
              "      <td>-0.715316</td>\n",
              "      <td>3.456220</td>\n",
              "      <td>-1.634045</td>\n",
              "      <td>0.800346</td>\n",
              "    </tr>\n",
              "    <tr>\n",
              "      <th>3</th>\n",
              "      <td>-0.187776</td>\n",
              "      <td>-0.701982</td>\n",
              "      <td>-0.538382</td>\n",
              "      <td>-0.508116</td>\n",
              "      <td>-0.528596</td>\n",
              "      <td>0.829568</td>\n",
              "      <td>0.742427</td>\n",
              "      <td>-0.496926</td>\n",
              "      <td>1.578036</td>\n",
              "      <td>-0.642416</td>\n",
              "      <td>-0.420547</td>\n",
              "      <td>-0.174329</td>\n",
              "      <td>1.23847</td>\n",
              "      <td>-0.715316</td>\n",
              "      <td>-0.289333</td>\n",
              "      <td>0.611978</td>\n",
              "      <td>0.800346</td>\n",
              "    </tr>\n",
              "    <tr>\n",
              "      <th>4</th>\n",
              "      <td>-0.575201</td>\n",
              "      <td>-0.374360</td>\n",
              "      <td>-0.538382</td>\n",
              "      <td>0.894146</td>\n",
              "      <td>0.632585</td>\n",
              "      <td>0.829568</td>\n",
              "      <td>-1.346933</td>\n",
              "      <td>-0.496926</td>\n",
              "      <td>-0.633699</td>\n",
              "      <td>-0.642416</td>\n",
              "      <td>2.377857</td>\n",
              "      <td>-0.174329</td>\n",
              "      <td>1.23847</td>\n",
              "      <td>-0.715316</td>\n",
              "      <td>-0.289333</td>\n",
              "      <td>0.611978</td>\n",
              "      <td>-1.249460</td>\n",
              "    </tr>\n",
              "  </tbody>\n",
              "</table>\n",
              "</div>"
            ],
            "text/plain": [
              "        Age  norm_fare  CabinBool     Parch     SibSp    Pclass  Sex_male  \\\n",
              "0  0.393363  -0.794732  -0.538382 -0.508116 -0.528596  0.829568  0.742427   \n",
              "1  1.361927  -0.896157  -0.538382 -0.508116  0.632585  0.829568 -1.346933   \n",
              "2  2.524205  -0.598295  -0.538382 -0.508116 -0.528596 -0.370945  0.742427   \n",
              "3 -0.187776  -0.701982  -0.538382 -0.508116 -0.528596  0.829568  0.742427   \n",
              "4 -0.575201  -0.374360  -0.538382  0.894146  0.632585  0.829568 -1.346933   \n",
              "\n",
              "   Name_title_Miss  Name_title_Mr1  Name_title_Mr2  Name_title_Mrs  \\\n",
              "0        -0.496926        1.578036       -0.642416       -0.420547   \n",
              "1        -0.496926       -0.633699       -0.642416        2.377857   \n",
              "2        -0.496926        1.578036       -0.642416       -0.420547   \n",
              "3        -0.496926        1.578036       -0.642416       -0.420547   \n",
              "4        -0.496926       -0.633699       -0.642416        2.377857   \n",
              "\n",
              "   Name_title_Other  Ticket_cls_Numeric1  Ticket_cls_Numeric2  Embarked_Q  \\\n",
              "0         -0.174329              1.23847            -0.715316    3.456220   \n",
              "1         -0.174329              1.23847            -0.715316   -0.289333   \n",
              "2         -0.174329              1.23847            -0.715316    3.456220   \n",
              "3         -0.174329              1.23847            -0.715316   -0.289333   \n",
              "4         -0.174329              1.23847            -0.715316   -0.289333   \n",
              "\n",
              "   Embarked_S  Solo_traveller_Yes  \n",
              "0   -1.634045            0.800346  \n",
              "1    0.611978           -1.249460  \n",
              "2   -1.634045            0.800346  \n",
              "3    0.611978            0.800346  \n",
              "4    0.611978           -1.249460  "
            ]
          },
          "execution_count": 107,
          "metadata": {},
          "output_type": "execute_result"
        }
      ],
      "source": [
        "test_data_scaled.head()"
      ]
    },
    {
      "cell_type": "markdown",
      "id": "437e2ddf",
      "metadata": {
        "papermill": {
          "duration": 0.076528,
          "end_time": "2022-09-24T14:21:08.193541",
          "exception": false,
          "start_time": "2022-09-24T14:21:08.117013",
          "status": "completed"
        },
        "tags": [],
        "id": "437e2ddf"
      },
      "source": [
        "Using SVC model generating predictions on test data"
      ]
    },
    {
      "cell_type": "code",
      "execution_count": null,
      "id": "6c61c3bb",
      "metadata": {
        "execution": {
          "iopub.execute_input": "2022-09-24T14:21:08.349087Z",
          "iopub.status.busy": "2022-09-24T14:21:08.347866Z",
          "iopub.status.idle": "2022-09-24T14:21:08.364127Z",
          "shell.execute_reply": "2022-09-24T14:21:08.362654Z"
        },
        "papermill": {
          "duration": 0.096866,
          "end_time": "2022-09-24T14:21:08.367001",
          "exception": false,
          "start_time": "2022-09-24T14:21:08.270135",
          "status": "completed"
        },
        "tags": [],
        "id": "6c61c3bb"
      },
      "outputs": [],
      "source": [
        "tes_pred = svc_model.predict(test_data_scaled)"
      ]
    },
    {
      "cell_type": "code",
      "execution_count": null,
      "id": "db4d577b",
      "metadata": {
        "execution": {
          "iopub.execute_input": "2022-09-24T14:21:08.578722Z",
          "iopub.status.busy": "2022-09-24T14:21:08.578044Z",
          "iopub.status.idle": "2022-09-24T14:21:08.582538Z",
          "shell.execute_reply": "2022-09-24T14:21:08.581488Z"
        },
        "papermill": {
          "duration": 0.086102,
          "end_time": "2022-09-24T14:21:08.584676",
          "exception": false,
          "start_time": "2022-09-24T14:21:08.498574",
          "status": "completed"
        },
        "tags": [],
        "id": "db4d577b"
      },
      "outputs": [],
      "source": [
        "#Need to use for NN model\n",
        "#tes_pred = [1 if a[0]> 0.50 else 0 for a in tes_pred]"
      ]
    },
    {
      "cell_type": "code",
      "execution_count": null,
      "id": "ad8d7a6e",
      "metadata": {
        "execution": {
          "iopub.execute_input": "2022-09-24T14:21:08.741592Z",
          "iopub.status.busy": "2022-09-24T14:21:08.741189Z",
          "iopub.status.idle": "2022-09-24T14:21:08.746941Z",
          "shell.execute_reply": "2022-09-24T14:21:08.746085Z"
        },
        "papermill": {
          "duration": 0.087367,
          "end_time": "2022-09-24T14:21:08.748952",
          "exception": false,
          "start_time": "2022-09-24T14:21:08.661585",
          "status": "completed"
        },
        "tags": [],
        "id": "ad8d7a6e"
      },
      "outputs": [],
      "source": [
        "df_survived = pd.DataFrame({'PassengerId':test['PassengerId'], 'Survived': tes_pred})"
      ]
    },
    {
      "cell_type": "markdown",
      "id": "496de17f",
      "metadata": {
        "papermill": {
          "duration": 0.077786,
          "end_time": "2022-09-24T14:21:08.901933",
          "exception": false,
          "start_time": "2022-09-24T14:21:08.824147",
          "status": "completed"
        },
        "tags": [],
        "id": "496de17f"
      },
      "source": [
        "Printing top 10 predictions"
      ]
    },
    {
      "cell_type": "code",
      "execution_count": null,
      "id": "04ea7eb0",
      "metadata": {
        "execution": {
          "iopub.execute_input": "2022-09-24T14:21:09.056616Z",
          "iopub.status.busy": "2022-09-24T14:21:09.056156Z",
          "iopub.status.idle": "2022-09-24T14:21:09.067419Z",
          "shell.execute_reply": "2022-09-24T14:21:09.066198Z"
        },
        "papermill": {
          "duration": 0.09173,
          "end_time": "2022-09-24T14:21:09.070131",
          "exception": false,
          "start_time": "2022-09-24T14:21:08.978401",
          "status": "completed"
        },
        "tags": [],
        "id": "04ea7eb0",
        "outputId": "147a2617-7b92-4032-8744-41d0442cb3ea"
      },
      "outputs": [
        {
          "data": {
            "text/html": [
              "<div>\n",
              "<style scoped>\n",
              "    .dataframe tbody tr th:only-of-type {\n",
              "        vertical-align: middle;\n",
              "    }\n",
              "\n",
              "    .dataframe tbody tr th {\n",
              "        vertical-align: top;\n",
              "    }\n",
              "\n",
              "    .dataframe thead th {\n",
              "        text-align: right;\n",
              "    }\n",
              "</style>\n",
              "<table border=\"1\" class=\"dataframe\">\n",
              "  <thead>\n",
              "    <tr style=\"text-align: right;\">\n",
              "      <th></th>\n",
              "      <th>PassengerId</th>\n",
              "      <th>Survived</th>\n",
              "    </tr>\n",
              "  </thead>\n",
              "  <tbody>\n",
              "    <tr>\n",
              "      <th>0</th>\n",
              "      <td>892</td>\n",
              "      <td>0</td>\n",
              "    </tr>\n",
              "    <tr>\n",
              "      <th>1</th>\n",
              "      <td>893</td>\n",
              "      <td>1</td>\n",
              "    </tr>\n",
              "    <tr>\n",
              "      <th>2</th>\n",
              "      <td>894</td>\n",
              "      <td>0</td>\n",
              "    </tr>\n",
              "    <tr>\n",
              "      <th>3</th>\n",
              "      <td>895</td>\n",
              "      <td>0</td>\n",
              "    </tr>\n",
              "    <tr>\n",
              "      <th>4</th>\n",
              "      <td>896</td>\n",
              "      <td>1</td>\n",
              "    </tr>\n",
              "    <tr>\n",
              "      <th>5</th>\n",
              "      <td>897</td>\n",
              "      <td>0</td>\n",
              "    </tr>\n",
              "    <tr>\n",
              "      <th>6</th>\n",
              "      <td>898</td>\n",
              "      <td>1</td>\n",
              "    </tr>\n",
              "    <tr>\n",
              "      <th>7</th>\n",
              "      <td>899</td>\n",
              "      <td>0</td>\n",
              "    </tr>\n",
              "    <tr>\n",
              "      <th>8</th>\n",
              "      <td>900</td>\n",
              "      <td>1</td>\n",
              "    </tr>\n",
              "    <tr>\n",
              "      <th>9</th>\n",
              "      <td>901</td>\n",
              "      <td>0</td>\n",
              "    </tr>\n",
              "  </tbody>\n",
              "</table>\n",
              "</div>"
            ],
            "text/plain": [
              "   PassengerId  Survived\n",
              "0          892         0\n",
              "1          893         1\n",
              "2          894         0\n",
              "3          895         0\n",
              "4          896         1\n",
              "5          897         0\n",
              "6          898         1\n",
              "7          899         0\n",
              "8          900         1\n",
              "9          901         0"
            ]
          },
          "execution_count": 111,
          "metadata": {},
          "output_type": "execute_result"
        }
      ],
      "source": [
        "df_survived.head(10)"
      ]
    }
  ],
  "metadata": {
    "kernelspec": {
      "display_name": "Python 3",
      "language": "python",
      "name": "python3"
    },
    "language_info": {
      "codemirror_mode": {
        "name": "ipython",
        "version": 3
      },
      "file_extension": ".py",
      "mimetype": "text/x-python",
      "name": "python",
      "nbconvert_exporter": "python",
      "pygments_lexer": "ipython3",
      "version": "3.7.12"
    },
    "papermill": {
      "default_parameters": {},
      "duration": 111.42835,
      "end_time": "2022-09-24T14:21:12.573750",
      "environment_variables": {},
      "exception": null,
      "input_path": "__notebook__.ipynb",
      "output_path": "__notebook__.ipynb",
      "parameters": {},
      "start_time": "2022-09-24T14:19:21.145400",
      "version": "2.3.4"
    },
    "colab": {
      "provenance": []
    }
  },
  "nbformat": 4,
  "nbformat_minor": 5
}