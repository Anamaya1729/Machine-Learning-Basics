{
 "cells": [
  {
   "cell_type": "code",
   "execution_count": 1,
   "metadata": {},
   "outputs": [],
   "source": [
    "import joblib\n",
    "model = joblib.load(r'C:\\Users\\DELL\\Desktop\\Kaggle+HE\\Github GSSoC21\\Concrete Strength Prediction TBD\\Model\\ConcreteStrengthPrediction.pkl')"
   ]
  },
  {
   "cell_type": "markdown",
   "metadata": {},
   "source": [
    "### GUI"
   ]
  },
  {
   "cell_type": "code",
   "execution_count": 2,
   "metadata": {},
   "outputs": [],
   "source": [
    "import tkinter as tk \n",
    "from matplotlib.backends.backend_tkagg import FigureCanvasTkAgg"
   ]
  },
  {
   "cell_type": "code",
   "execution_count": 3,
   "metadata": {},
   "outputs": [],
   "source": [
    "root = tk.Tk()"
   ]
  },
  {
   "cell_type": "code",
   "execution_count": 4,
   "metadata": {},
   "outputs": [],
   "source": [
    "canvas1 = tk.Canvas(root, width = 500, height = 300)\n",
    "canvas1.pack()"
   ]
  },
  {
   "cell_type": "code",
   "execution_count": 5,
   "metadata": {},
   "outputs": [
    {
     "data": {
      "text/plain": [
       "1"
      ]
     },
     "execution_count": 5,
     "metadata": {},
     "output_type": "execute_result"
    }
   ],
   "source": [
    "heading = tk.Label(root, text='CONCRETE STRENGTH PREDICTION', justify = 'center')\n",
    "canvas1.create_window(230, 50, window=heading)"
   ]
  },
  {
   "cell_type": "code",
   "execution_count": 6,
   "metadata": {},
   "outputs": [
    {
     "data": {
      "text/plain": [
       "3"
      ]
     },
     "execution_count": 6,
     "metadata": {},
     "output_type": "execute_result"
    }
   ],
   "source": [
    "# with sklearn\n",
    "Intercept_result = ('Intercept: ', model.intercept_)\n",
    "label_Intercept = tk.Label(root, text=Intercept_result, justify = 'center')\n",
    "canvas1.create_window(260, 220, window=label_Intercept)\n",
    "\n",
    "# with sklearn\n",
    "Coefficients_result  = ('Coefficients: ', model.coef_)\n",
    "label_Coefficients = tk.Label(root, text=Coefficients_result, justify = 'center')\n",
    "canvas1.create_window(260, 240, window=label_Coefficients)"
   ]
  },
  {
   "cell_type": "code",
   "execution_count": 7,
   "metadata": {},
   "outputs": [
    {
     "data": {
      "text/plain": [
       "7"
      ]
     },
     "execution_count": 7,
     "metadata": {},
     "output_type": "execute_result"
    }
   ],
   "source": [
    "# Blast Furnace Slag label and input box\n",
    "label1 = tk.Label(root, text='Blast Furnace Slag: ', justify = 'left')\n",
    "canvas1.create_window(100, 100, window=label1)\n",
    "\n",
    "entry1 = tk.Entry (root) # 1st entry box\n",
    "canvas1.create_window(300, 100, window=entry1)\n",
    "\n",
    "# Fly Ash label and input box\n",
    "label2 = tk.Label(root, text='Fly Ash: ', justify = 'left')\n",
    "canvas1.create_window(100, 120, window=label2)\n",
    "\n",
    "entry2 = tk.Entry (root) # 2nd entry box\n",
    "canvas1.create_window(300, 120, window=entry2)"
   ]
  },
  {
   "cell_type": "code",
   "execution_count": 8,
   "metadata": {},
   "outputs": [
    {
     "data": {
      "text/plain": [
       "11"
      ]
     },
     "execution_count": 8,
     "metadata": {},
     "output_type": "execute_result"
    }
   ],
   "source": [
    "# Superplasticizer label and input box\n",
    "label3 = tk.Label(root, text='Superplasticizer: ', justify = 'left')\n",
    "canvas1.create_window(100, 140, window=label3)\n",
    "\n",
    "entry3 = tk.Entry (root) # 3rd entry box\n",
    "canvas1.create_window(300, 140, window=entry3)\n",
    "\n",
    "# Age label and input box\n",
    "label4 = tk.Label(root, text='Age: ', justify = 'left')\n",
    "canvas1.create_window(100, 160, window=label4)\n",
    "\n",
    "entry4 = tk.Entry (root) # 4th entry box\n",
    "canvas1.create_window(300, 160, window=entry4)"
   ]
  },
  {
   "cell_type": "code",
   "execution_count": 9,
   "metadata": {},
   "outputs": [],
   "source": [
    "def values(): \n",
    "    global bfs # our 1st input variable\n",
    "    bfs = float(entry1.get()) \n",
    "    \n",
    "    global fa # our 2nd input variable\n",
    "    fa = float(entry2.get()) \n",
    "\n",
    "    global s # our 3rd input variable\n",
    "    s = float(entry3.get())\n",
    "\n",
    "    global a # our 4th input variable\n",
    "    a = float(entry4.get())\n",
    "    \n",
    "    Prediction_result  = ('Predicted Concrete Strength: ', model.predict([[bfs, fa, s, a]]))\n",
    "    label_Prediction = tk.Label(root, text= Prediction_result, bg='pink')\n",
    "    canvas1.create_window(240, 280, window=label_Prediction)"
   ]
  },
  {
   "cell_type": "code",
   "execution_count": 10,
   "metadata": {},
   "outputs": [
    {
     "data": {
      "text/plain": [
       "12"
      ]
     },
     "execution_count": 10,
     "metadata": {},
     "output_type": "execute_result"
    }
   ],
   "source": [
    "button1 = tk.Button (root, text='Predict Concrete Strength',command=values, bg='pink') # button to call the 'values' command above \n",
    "canvas1.create_window(230, 200, window=button1)"
   ]
  },
  {
   "cell_type": "code",
   "execution_count": 11,
   "metadata": {},
   "outputs": [],
   "source": [
    "root.configure(bg='white')"
   ]
  },
  {
   "cell_type": "code",
   "execution_count": 12,
   "metadata": {},
   "outputs": [],
   "source": [
    "root.mainloop()"
   ]
  }
 ],
 "metadata": {
  "kernelspec": {
   "display_name": "Python 3",
   "language": "python",
   "name": "python3"
  },
  "language_info": {
   "codemirror_mode": {
    "name": "ipython",
    "version": 3
   },
   "file_extension": ".py",
   "mimetype": "text/x-python",
   "name": "python",
   "nbconvert_exporter": "python",
   "pygments_lexer": "ipython3",
   "version": "3.8.5"
  }
 },
 "nbformat": 4,
 "nbformat_minor": 4
}
